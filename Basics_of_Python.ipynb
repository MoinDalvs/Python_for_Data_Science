{
 "cells": [
  {
   "cell_type": "code",
   "execution_count": 1,
   "id": "c0af58dc",
   "metadata": {
    "ExecuteTime": {
     "end_time": "2022-11-13T06:03:49.244435Z",
     "start_time": "2022-11-13T06:03:49.145445Z"
    }
   },
   "outputs": [
    {
     "name": "stdout",
     "output_type": "stream",
     "text": [
      " Volume in drive C has no label.\n",
      " Volume Serial Number is 2C0A-535C\n",
      "\n",
      " Directory of C:\\Users\\Moin Dalvi\\Data_Science\\Machine Learniing\n",
      "\n",
      "13-Nov-22  11:07 AM    <DIR>          .\n",
      "13-Nov-22  11:07 AM    <DIR>          ..\n",
      "09-Nov-22  10:19 PM    <DIR>          .ipynb_checkpoints\n",
      "27-Aug-22  10:56 PM           726,684 About_Data_Frames.ipynb\n",
      "12-Nov-22  07:07 PM            87,239 Basics_of_Python.ipynb\n",
      "               2 File(s)        813,923 bytes\n",
      "               3 Dir(s)  42,219,184,128 bytes free\n"
     ]
    }
   ],
   "source": [
    "ls"
   ]
  },
  {
   "cell_type": "markdown",
   "id": "44600b2a",
   "metadata": {},
   "source": [
    "##### Navigating Jupyter Notebook"
   ]
  },
  {
   "cell_type": "markdown",
   "id": "4d60928f",
   "metadata": {},
   "source": [
    "+ ESC + B = Add a cell below current cell\n",
    "+ ESC + A = Add a cell above current cell\n",
    "+ ESC + X = Delete the current cell\n",
    "+ ESC + M = Convert cell to Markdown cell\n",
    "+ ESC + Y = Convert cell to code cell\n",
    "+ ESC + Z = Undo\n",
    "+ Shift + Tab = More Info\n",
    "+ .(dot / Period) + Tab = Functions List"
   ]
  },
  {
   "cell_type": "markdown",
   "id": "dcd85dc3",
   "metadata": {},
   "source": [
    "# This is just a Header"
   ]
  },
  {
   "cell_type": "code",
   "execution_count": null,
   "id": "57f78432",
   "metadata": {},
   "outputs": [],
   "source": [
    "# Datatypes in Python"
   ]
  },
  {
   "cell_type": "markdown",
   "id": "a9e0370b",
   "metadata": {},
   "source": [
    "## Variables in Python"
   ]
  },
  {
   "cell_type": "code",
   "execution_count": null,
   "id": "71db5075",
   "metadata": {},
   "outputs": [],
   "source": [
    "## Variables in Python"
   ]
  },
  {
   "cell_type": "markdown",
   "id": "4379db68",
   "metadata": {},
   "source": [
    "+ variables are like containers to hold data\n",
    "+ Or they can be thought of aliases for memory addresses"
   ]
  },
  {
   "cell_type": "code",
   "execution_count": null,
   "id": "3db963ac",
   "metadata": {},
   "outputs": [],
   "source": [
    "# + Text above\n",
    "# + text above"
   ]
  },
  {
   "cell_type": "markdown",
   "id": "c7aa0d6a",
   "metadata": {},
   "source": [
    "+ <font color='blue'> variables are like containers to hold data </font>\n",
    "+ Or they can be thought of aliases for memory addresses"
   ]
  },
  {
   "cell_type": "code",
   "execution_count": null,
   "id": "35270db3",
   "metadata": {},
   "outputs": [],
   "source": [
    "#+ <font color='blue'> variables are like containers to hold data </font>\n",
    "#+ Or they can be thought of aliases for memory addresses"
   ]
  },
  {
   "cell_type": "markdown",
   "id": "7beb94fc",
   "metadata": {},
   "source": [
    "+ <font color='blue'> Variables are like containers to hold data </font>\n",
    "+ <b>Or they can be thought of aliases for memory addresses<b/>"
   ]
  },
  {
   "cell_type": "markdown",
   "id": "647d5f2f",
   "metadata": {},
   "source": [
    "#+ <font color='blue'> Variables are like containers to hold data </font>\n",
    "#+ <b>Or they can be thought of aliases for memory addresses<b/>"
   ]
  },
  {
   "cell_type": "markdown",
   "id": "87c01cf7",
   "metadata": {},
   "source": [
    "### Header"
   ]
  },
  {
   "cell_type": "code",
   "execution_count": null,
   "id": "7453b75e",
   "metadata": {},
   "outputs": [],
   "source": [
    "### Head"
   ]
  },
  {
   "cell_type": "code",
   "execution_count": 3,
   "id": "cc1a8f2d",
   "metadata": {},
   "outputs": [
    {
     "name": "stdout",
     "output_type": "stream",
     "text": [
      "HELLO WORLD\n"
     ]
    }
   ],
   "source": [
    "print('HELLO WORLD')"
   ]
  },
  {
   "cell_type": "code",
   "execution_count": 2,
   "id": "d8c488f7",
   "metadata": {},
   "outputs": [
    {
     "name": "stdout",
     "output_type": "stream",
     "text": [
      "HOW ARE YOU?\n"
     ]
    }
   ],
   "source": [
    "print('HOW ARE YOU?')"
   ]
  },
  {
   "cell_type": "code",
   "execution_count": 1,
   "id": "3cffc351",
   "metadata": {},
   "outputs": [],
   "source": [
    "x=10"
   ]
  },
  {
   "cell_type": "code",
   "execution_count": 2,
   "id": "056ce5dc",
   "metadata": {},
   "outputs": [
    {
     "data": {
      "text/plain": [
       "10"
      ]
     },
     "execution_count": 2,
     "metadata": {},
     "output_type": "execute_result"
    }
   ],
   "source": [
    "x"
   ]
  },
  {
   "cell_type": "code",
   "execution_count": 3,
   "id": "fb89109a",
   "metadata": {},
   "outputs": [
    {
     "name": "stdout",
     "output_type": "stream",
     "text": [
      "10\n"
     ]
    }
   ],
   "source": [
    "print(x)"
   ]
  },
  {
   "cell_type": "code",
   "execution_count": 4,
   "id": "b18e9c0b",
   "metadata": {},
   "outputs": [
    {
     "data": {
      "text/plain": [
       "2871071566416"
      ]
     },
     "execution_count": 4,
     "metadata": {},
     "output_type": "execute_result"
    }
   ],
   "source": [
    "id(x)"
   ]
  },
  {
   "cell_type": "code",
   "execution_count": 5,
   "id": "15442eaa",
   "metadata": {},
   "outputs": [],
   "source": [
    "x=20"
   ]
  },
  {
   "cell_type": "code",
   "execution_count": 13,
   "id": "e3bc51d8",
   "metadata": {},
   "outputs": [
    {
     "data": {
      "text/plain": [
       "-10"
      ]
     },
     "execution_count": 13,
     "metadata": {},
     "output_type": "execute_result"
    }
   ],
   "source": [
    "x"
   ]
  },
  {
   "cell_type": "code",
   "execution_count": 3,
   "id": "6d114dde",
   "metadata": {},
   "outputs": [
    {
     "name": "stdout",
     "output_type": "stream",
     "text": [
      "x= 10\n",
      "y= 20\n"
     ]
    }
   ],
   "source": [
    "x=10\n",
    "y=20\n",
    "print('x=',x)\n",
    "print('y=',y)"
   ]
  },
  {
   "cell_type": "code",
   "execution_count": 8,
   "id": "5e1653b8",
   "metadata": {},
   "outputs": [
    {
     "data": {
      "text/plain": [
       "['__add__',\n",
       " '__class__',\n",
       " '__class_getitem__',\n",
       " '__contains__',\n",
       " '__delattr__',\n",
       " '__delitem__',\n",
       " '__dir__',\n",
       " '__doc__',\n",
       " '__eq__',\n",
       " '__format__',\n",
       " '__ge__',\n",
       " '__getattribute__',\n",
       " '__getitem__',\n",
       " '__gt__',\n",
       " '__hash__',\n",
       " '__iadd__',\n",
       " '__imul__',\n",
       " '__init__',\n",
       " '__init_subclass__',\n",
       " '__iter__',\n",
       " '__le__',\n",
       " '__len__',\n",
       " '__lt__',\n",
       " '__mul__',\n",
       " '__ne__',\n",
       " '__new__',\n",
       " '__reduce__',\n",
       " '__reduce_ex__',\n",
       " '__repr__',\n",
       " '__reversed__',\n",
       " '__rmul__',\n",
       " '__setattr__',\n",
       " '__setitem__',\n",
       " '__sizeof__',\n",
       " '__str__',\n",
       " '__subclasshook__',\n",
       " 'append',\n",
       " 'clear',\n",
       " 'copy',\n",
       " 'count',\n",
       " 'extend',\n",
       " 'index',\n",
       " 'insert',\n",
       " 'pop',\n",
       " 'remove',\n",
       " 'reverse',\n",
       " 'sort']"
      ]
     },
     "execution_count": 8,
     "metadata": {},
     "output_type": "execute_result"
    }
   ],
   "source": [
    "dir(list)"
   ]
  },
  {
   "cell_type": "code",
   "execution_count": 9,
   "id": "469dcb57",
   "metadata": {},
   "outputs": [],
   "source": [
    "\n",
    "x = -10"
   ]
  },
  {
   "cell_type": "code",
   "execution_count": 10,
   "id": "3b1edd22",
   "metadata": {},
   "outputs": [
    {
     "data": {
      "text/plain": [
       "int"
      ]
     },
     "execution_count": 10,
     "metadata": {},
     "output_type": "execute_result"
    }
   ],
   "source": [
    "type(x)"
   ]
  },
  {
   "cell_type": "code",
   "execution_count": 11,
   "id": "16c7562d",
   "metadata": {},
   "outputs": [],
   "source": [
    "y = -69.420"
   ]
  },
  {
   "cell_type": "code",
   "execution_count": 12,
   "id": "193a32b7",
   "metadata": {},
   "outputs": [
    {
     "data": {
      "text/plain": [
       "float"
      ]
     },
     "execution_count": 12,
     "metadata": {},
     "output_type": "execute_result"
    }
   ],
   "source": [
    "type(y)"
   ]
  },
  {
   "cell_type": "code",
   "execution_count": 14,
   "id": "316884d6",
   "metadata": {},
   "outputs": [
    {
     "data": {
      "text/plain": [
       "0"
      ]
     },
     "execution_count": 14,
     "metadata": {},
     "output_type": "execute_result"
    }
   ],
   "source": [
    "35 % 7 #modulo division"
   ]
  },
  {
   "cell_type": "code",
   "execution_count": 15,
   "id": "a8e5f882",
   "metadata": {},
   "outputs": [
    {
     "data": {
      "text/plain": [
       "2"
      ]
     },
     "execution_count": 15,
     "metadata": {},
     "output_type": "execute_result"
    }
   ],
   "source": [
    "x = 5\n",
    "y = 2\n",
    "x // y #floor division"
   ]
  },
  {
   "cell_type": "code",
   "execution_count": 16,
   "id": "b8115e0e",
   "metadata": {},
   "outputs": [
    {
     "data": {
      "text/plain": [
       "(-3.3333333333333335, -4)"
      ]
     },
     "execution_count": 16,
     "metadata": {},
     "output_type": "execute_result"
    }
   ],
   "source": [
    "x = -20\n",
    "y = 6\n",
    "x/y, x//y"
   ]
  },
  {
   "cell_type": "code",
   "execution_count": 2,
   "id": "27e7afd2",
   "metadata": {},
   "outputs": [
    {
     "name": "stdout",
     "output_type": "stream",
     "text": [
      "x= 10\n",
      "y= 20\n"
     ]
    }
   ],
   "source": [
    "# Create a variable called x\n",
    "x=10\n",
    "y=20\n",
    "print('x=', x)\n",
    "print('y=', y)"
   ]
  },
  {
   "cell_type": "code",
   "execution_count": 8,
   "id": "41a89e16",
   "metadata": {},
   "outputs": [
    {
     "data": {
      "text/plain": [
       "2057249646992"
      ]
     },
     "execution_count": 8,
     "metadata": {},
     "output_type": "execute_result"
    }
   ],
   "source": [
    "a=256\n",
    "id(a)"
   ]
  },
  {
   "cell_type": "code",
   "execution_count": 9,
   "id": "cc61608b",
   "metadata": {},
   "outputs": [
    {
     "data": {
      "text/plain": [
       "2055179130160"
      ]
     },
     "execution_count": 9,
     "metadata": {},
     "output_type": "execute_result"
    }
   ],
   "source": [
    "b=257\n",
    "id(b)"
   ]
  },
  {
   "cell_type": "code",
   "execution_count": 10,
   "id": "7a2d7f32",
   "metadata": {},
   "outputs": [
    {
     "data": {
      "text/plain": [
       "int"
      ]
     },
     "execution_count": 10,
     "metadata": {},
     "output_type": "execute_result"
    }
   ],
   "source": [
    "my_int=10\n",
    "type(my_int)"
   ]
  },
  {
   "cell_type": "code",
   "execution_count": 11,
   "id": "3fb0c68a",
   "metadata": {},
   "outputs": [
    {
     "data": {
      "text/plain": [
       "float"
      ]
     },
     "execution_count": 11,
     "metadata": {},
     "output_type": "execute_result"
    }
   ],
   "source": [
    "my_float=-69.420\n",
    "type(my_float)"
   ]
  },
  {
   "cell_type": "code",
   "execution_count": 12,
   "id": "97f14984",
   "metadata": {},
   "outputs": [
    {
     "data": {
      "text/plain": [
       "False"
      ]
     },
     "execution_count": 12,
     "metadata": {},
     "output_type": "execute_result"
    }
   ],
   "source": [
    "2 == 3"
   ]
  },
  {
   "cell_type": "code",
   "execution_count": 13,
   "id": "915b8a57",
   "metadata": {},
   "outputs": [
    {
     "data": {
      "text/plain": [
       "True"
      ]
     },
     "execution_count": 13,
     "metadata": {},
     "output_type": "execute_result"
    }
   ],
   "source": [
    "a=256\n",
    "b=256\n",
    "a == b"
   ]
  },
  {
   "cell_type": "code",
   "execution_count": 14,
   "id": "7badf97e",
   "metadata": {},
   "outputs": [],
   "source": [
    "a = True\n",
    "b = False"
   ]
  },
  {
   "cell_type": "code",
   "execution_count": 15,
   "id": "3f44438f",
   "metadata": {},
   "outputs": [
    {
     "data": {
      "text/plain": [
       "True"
      ]
     },
     "execution_count": 15,
     "metadata": {},
     "output_type": "execute_result"
    }
   ],
   "source": [
    "a"
   ]
  },
  {
   "cell_type": "code",
   "execution_count": 16,
   "id": "5bc76c12",
   "metadata": {},
   "outputs": [
    {
     "data": {
      "text/plain": [
       "False"
      ]
     },
     "execution_count": 16,
     "metadata": {},
     "output_type": "execute_result"
    }
   ],
   "source": [
    "b"
   ]
  },
  {
   "cell_type": "code",
   "execution_count": 17,
   "id": "795a8da9",
   "metadata": {},
   "outputs": [
    {
     "data": {
      "text/plain": [
       "True"
      ]
     },
     "execution_count": 17,
     "metadata": {},
     "output_type": "execute_result"
    }
   ],
   "source": [
    "3 == 3"
   ]
  },
  {
   "cell_type": "markdown",
   "id": "db8523c7",
   "metadata": {},
   "source": [
    "# Indexing"
   ]
  },
  {
   "cell_type": "markdown",
   "id": "01feb7d9",
   "metadata": {},
   "source": [
    "+ positive indexing: left to right [0]\n",
    "+ neagtive indexing: right to left [-1]"
   ]
  },
  {
   "cell_type": "code",
   "execution_count": 1,
   "id": "7612309f",
   "metadata": {},
   "outputs": [],
   "source": [
    "string = 'abc'"
   ]
  },
  {
   "cell_type": "code",
   "execution_count": 6,
   "id": "8334b016",
   "metadata": {},
   "outputs": [
    {
     "data": {
      "text/plain": [
       "'a'"
      ]
     },
     "execution_count": 6,
     "metadata": {},
     "output_type": "execute_result"
    }
   ],
   "source": [
    "string[0]"
   ]
  },
  {
   "cell_type": "code",
   "execution_count": 5,
   "id": "f05a3b1e",
   "metadata": {},
   "outputs": [
    {
     "data": {
      "text/plain": [
       "'b'"
      ]
     },
     "execution_count": 5,
     "metadata": {},
     "output_type": "execute_result"
    }
   ],
   "source": [
    "string[1]"
   ]
  },
  {
   "cell_type": "code",
   "execution_count": 9,
   "id": "30d9eccc",
   "metadata": {},
   "outputs": [
    {
     "name": "stdout",
     "output_type": "stream",
     "text": [
      "c , c\n"
     ]
    }
   ],
   "source": [
    "print(string[2],',',string[-1])"
   ]
  },
  {
   "cell_type": "markdown",
   "id": "18dc6262",
   "metadata": {},
   "source": [
    "# Arithmetic Operations"
   ]
  },
  {
   "cell_type": "code",
   "execution_count": 18,
   "id": "c28800a3",
   "metadata": {},
   "outputs": [],
   "source": [
    "x=64\n",
    "y=46"
   ]
  },
  {
   "cell_type": "code",
   "execution_count": 19,
   "id": "da503218",
   "metadata": {},
   "outputs": [
    {
     "data": {
      "text/plain": [
       "110"
      ]
     },
     "execution_count": 19,
     "metadata": {},
     "output_type": "execute_result"
    }
   ],
   "source": [
    "# Add two numbers\n",
    "x + y"
   ]
  },
  {
   "cell_type": "code",
   "execution_count": 20,
   "id": "cde7c3fe",
   "metadata": {},
   "outputs": [
    {
     "data": {
      "text/plain": [
       "18"
      ]
     },
     "execution_count": 20,
     "metadata": {},
     "output_type": "execute_result"
    }
   ],
   "source": [
    "## Subtraction\n",
    "x-y"
   ]
  },
  {
   "cell_type": "code",
   "execution_count": 21,
   "id": "ea78fa77",
   "metadata": {},
   "outputs": [
    {
     "data": {
      "text/plain": [
       "2944"
      ]
     },
     "execution_count": 21,
     "metadata": {},
     "output_type": "execute_result"
    }
   ],
   "source": [
    "# Multiplication\n",
    "x * y"
   ]
  },
  {
   "cell_type": "code",
   "execution_count": 23,
   "id": "8ed48f12",
   "metadata": {},
   "outputs": [
    {
     "data": {
      "text/plain": [
       "110"
      ]
     },
     "execution_count": 23,
     "metadata": {},
     "output_type": "execute_result"
    }
   ],
   "source": [
    "Total = x + y\n",
    "Total"
   ]
  },
  {
   "cell_type": "code",
   "execution_count": 24,
   "id": "68f95d3a",
   "metadata": {},
   "outputs": [
    {
     "data": {
      "text/plain": [
       "1.391304347826087"
      ]
     },
     "execution_count": 24,
     "metadata": {},
     "output_type": "execute_result"
    }
   ],
   "source": [
    "x / y # Division"
   ]
  },
  {
   "cell_type": "code",
   "execution_count": 25,
   "id": "6df9a252",
   "metadata": {},
   "outputs": [
    {
     "data": {
      "text/plain": [
       "18"
      ]
     },
     "execution_count": 25,
     "metadata": {},
     "output_type": "execute_result"
    }
   ],
   "source": [
    "x % y #remainder of the division"
   ]
  },
  {
   "cell_type": "code",
   "execution_count": 26,
   "id": "68c25b6f",
   "metadata": {},
   "outputs": [
    {
     "data": {
      "text/plain": [
       "2"
      ]
     },
     "execution_count": 26,
     "metadata": {},
     "output_type": "execute_result"
    }
   ],
   "source": [
    "5 // 2 # floor division"
   ]
  },
  {
   "cell_type": "code",
   "execution_count": 27,
   "id": "53f0e67a",
   "metadata": {},
   "outputs": [
    {
     "data": {
      "text/plain": [
       "(3.3333333333333335, 3)"
      ]
     },
     "execution_count": 27,
     "metadata": {},
     "output_type": "execute_result"
    }
   ],
   "source": [
    "x = 20\n",
    "y = 6\n",
    "x/y, x // y"
   ]
  },
  {
   "cell_type": "code",
   "execution_count": 28,
   "id": "fa165da2",
   "metadata": {},
   "outputs": [
    {
     "data": {
      "text/plain": [
       "(-3.3333333333333335, -4)"
      ]
     },
     "execution_count": 28,
     "metadata": {},
     "output_type": "execute_result"
    }
   ],
   "source": [
    "x = -20\n",
    "y = 6\n",
    "x/y, x // y"
   ]
  },
  {
   "cell_type": "markdown",
   "id": "282bd5cb",
   "metadata": {},
   "source": [
    "# Boolean Operations"
   ]
  },
  {
   "cell_type": "code",
   "execution_count": 29,
   "id": "02e61b7e",
   "metadata": {},
   "outputs": [
    {
     "data": {
      "text/plain": [
       "True"
      ]
     },
     "execution_count": 29,
     "metadata": {},
     "output_type": "execute_result"
    }
   ],
   "source": [
    "True or True"
   ]
  },
  {
   "cell_type": "code",
   "execution_count": 30,
   "id": "e4b24d66",
   "metadata": {},
   "outputs": [
    {
     "data": {
      "text/plain": [
       "True"
      ]
     },
     "execution_count": 30,
     "metadata": {},
     "output_type": "execute_result"
    }
   ],
   "source": [
    "True or False"
   ]
  },
  {
   "cell_type": "code",
   "execution_count": 31,
   "id": "4e07c7fe",
   "metadata": {},
   "outputs": [
    {
     "data": {
      "text/plain": [
       "False"
      ]
     },
     "execution_count": 31,
     "metadata": {},
     "output_type": "execute_result"
    }
   ],
   "source": [
    "True and False"
   ]
  },
  {
   "cell_type": "code",
   "execution_count": 32,
   "id": "fd6ddf28",
   "metadata": {},
   "outputs": [
    {
     "data": {
      "text/plain": [
       "False"
      ]
     },
     "execution_count": 32,
     "metadata": {},
     "output_type": "execute_result"
    }
   ],
   "source": [
    "not True"
   ]
  },
  {
   "cell_type": "code",
   "execution_count": 33,
   "id": "6f990d2c",
   "metadata": {},
   "outputs": [
    {
     "data": {
      "text/plain": [
       "False"
      ]
     },
     "execution_count": 33,
     "metadata": {},
     "output_type": "execute_result"
    }
   ],
   "source": [
    "2 == 3 and 3 == 3"
   ]
  },
  {
   "cell_type": "markdown",
   "id": "46de44a8",
   "metadata": {},
   "source": [
    "# Sequence"
   ]
  },
  {
   "cell_type": "markdown",
   "id": "3a423fbf",
   "metadata": {},
   "source": [
    "### List"
   ]
  },
  {
   "cell_type": "code",
   "execution_count": 34,
   "id": "7fad124f",
   "metadata": {},
   "outputs": [
    {
     "data": {
      "text/plain": [
       "list"
      ]
     },
     "execution_count": 34,
     "metadata": {},
     "output_type": "execute_result"
    }
   ],
   "source": [
    "lst = []\n",
    "type(lst)"
   ]
  },
  {
   "cell_type": "code",
   "execution_count": 38,
   "id": "5dadfe74",
   "metadata": {},
   "outputs": [
    {
     "data": {
      "text/plain": [
       "[65, 76, 48, 93, 55]"
      ]
     },
     "execution_count": 38,
     "metadata": {},
     "output_type": "execute_result"
    }
   ],
   "source": [
    "marks = [65, 76, 48, 93, 55]\n",
    "marks"
   ]
  },
  {
   "cell_type": "code",
   "execution_count": 1,
   "id": "a8a7103c",
   "metadata": {},
   "outputs": [],
   "source": [
    "l1=[100,'Tom','MySQL',78]"
   ]
  },
  {
   "cell_type": "code",
   "execution_count": 2,
   "id": "a89eb666",
   "metadata": {},
   "outputs": [
    {
     "data": {
      "text/plain": [
       "100"
      ]
     },
     "execution_count": 2,
     "metadata": {},
     "output_type": "execute_result"
    }
   ],
   "source": [
    "l1[0]"
   ]
  },
  {
   "cell_type": "markdown",
   "id": "159f3030",
   "metadata": {},
   "source": [
    "### Slicing"
   ]
  },
  {
   "cell_type": "markdown",
   "id": "b9375c86",
   "metadata": {},
   "source": [
    "+ Extraction of a substring\n",
    "+ syntax is start position and end position (end position excluded)"
   ]
  },
  {
   "cell_type": "code",
   "execution_count": 1,
   "id": "fe4d3ab0",
   "metadata": {},
   "outputs": [],
   "source": [
    "lst=[1,2,3,4,5,6,7,8,9]"
   ]
  },
  {
   "cell_type": "code",
   "execution_count": 2,
   "id": "99e49bf2",
   "metadata": {},
   "outputs": [
    {
     "data": {
      "text/plain": [
       "[3, 4, 5, 6, 7]"
      ]
     },
     "execution_count": 2,
     "metadata": {},
     "output_type": "execute_result"
    }
   ],
   "source": [
    "lst[2:7]"
   ]
  },
  {
   "cell_type": "code",
   "execution_count": 3,
   "id": "6679b4c2",
   "metadata": {},
   "outputs": [
    {
     "data": {
      "text/plain": [
       "[3, 4, 5, 6, 7, 8, 9]"
      ]
     },
     "execution_count": 3,
     "metadata": {},
     "output_type": "execute_result"
    }
   ],
   "source": [
    "lst[2:]"
   ]
  },
  {
   "cell_type": "code",
   "execution_count": 4,
   "id": "cfbe33c7",
   "metadata": {},
   "outputs": [
    {
     "data": {
      "text/plain": [
       "[1, 2, 3, 4, 5, 6, 7]"
      ]
     },
     "execution_count": 4,
     "metadata": {},
     "output_type": "execute_result"
    }
   ],
   "source": [
    "lst[:7]"
   ]
  },
  {
   "cell_type": "code",
   "execution_count": 5,
   "id": "786fed0c",
   "metadata": {},
   "outputs": [
    {
     "data": {
      "text/plain": [
       "[1, 4, 7]"
      ]
     },
     "execution_count": 5,
     "metadata": {},
     "output_type": "execute_result"
    }
   ],
   "source": [
    "lst[::3]"
   ]
  },
  {
   "cell_type": "code",
   "execution_count": null,
   "id": "6b63c0a4",
   "metadata": {},
   "outputs": [],
   "source": [
    "lst[2::2]"
   ]
  },
  {
   "cell_type": "code",
   "execution_count": null,
   "id": "6b95c61c",
   "metadata": {},
   "outputs": [],
   "source": [
    "lst[::-1]"
   ]
  },
  {
   "cell_type": "code",
   "execution_count": null,
   "id": "9ca26fca",
   "metadata": {},
   "outputs": [],
   "source": [
    "lst[8:2:-2]"
   ]
  },
  {
   "cell_type": "code",
   "execution_count": 8,
   "id": "d5219e72",
   "metadata": {},
   "outputs": [
    {
     "data": {
      "text/plain": [
       "[1, 2, 3, 4, 5, 6, 7, 8, 9]"
      ]
     },
     "execution_count": 8,
     "metadata": {},
     "output_type": "execute_result"
    }
   ],
   "source": [
    "lst[:]"
   ]
  },
  {
   "cell_type": "markdown",
   "id": "6453a36c",
   "metadata": {},
   "source": [
    "### Tuple"
   ]
  },
  {
   "cell_type": "code",
   "execution_count": 35,
   "id": "46b929c6",
   "metadata": {},
   "outputs": [
    {
     "data": {
      "text/plain": [
       "tuple"
      ]
     },
     "execution_count": 35,
     "metadata": {},
     "output_type": "execute_result"
    }
   ],
   "source": [
    "tup = ()\n",
    "type(tup)"
   ]
  },
  {
   "cell_type": "code",
   "execution_count": 4,
   "id": "a35bfbbd",
   "metadata": {},
   "outputs": [
    {
     "data": {
      "text/plain": [
       "(65, 76, 48, 93, 55)"
      ]
     },
     "execution_count": 4,
     "metadata": {},
     "output_type": "execute_result"
    }
   ],
   "source": [
    "my_tup = (65, 76, 48, 93, 55)\n",
    "my_tup"
   ]
  },
  {
   "cell_type": "code",
   "execution_count": 5,
   "id": "4a438f24",
   "metadata": {},
   "outputs": [
    {
     "data": {
      "text/plain": [
       "93"
      ]
     },
     "execution_count": 5,
     "metadata": {},
     "output_type": "execute_result"
    }
   ],
   "source": [
    "my_tup[3]"
   ]
  },
  {
   "cell_type": "code",
   "execution_count": 10,
   "id": "38257d9e",
   "metadata": {},
   "outputs": [],
   "source": [
    "my_tup=(1,2,3,4,5,6,7,8,9,10,11)"
   ]
  },
  {
   "cell_type": "code",
   "execution_count": 44,
   "id": "6d046a17",
   "metadata": {},
   "outputs": [
    {
     "data": {
      "text/plain": [
       "[1, 2, 3, 4, 5, 6, 7, 8, 9, 10, 11]"
      ]
     },
     "execution_count": 44,
     "metadata": {},
     "output_type": "execute_result"
    }
   ],
   "source": [
    "list(my_tup)"
   ]
  },
  {
   "cell_type": "code",
   "execution_count": 45,
   "id": "95b1f9af",
   "metadata": {},
   "outputs": [
    {
     "data": {
      "text/plain": [
       "[(0, 1),\n",
       " (1, 2),\n",
       " (2, 3),\n",
       " (3, 4),\n",
       " (4, 5),\n",
       " (5, 6),\n",
       " (6, 7),\n",
       " (7, 8),\n",
       " (8, 9),\n",
       " (9, 10),\n",
       " (10, 11)]"
      ]
     },
     "execution_count": 45,
     "metadata": {},
     "output_type": "execute_result"
    }
   ],
   "source": [
    "list(enumerate(my_tup))"
   ]
  },
  {
   "cell_type": "code",
   "execution_count": 17,
   "id": "e2b53d1a",
   "metadata": {},
   "outputs": [],
   "source": [
    "tup=(1,2,3,4,[1,2,3],6)"
   ]
  },
  {
   "cell_type": "code",
   "execution_count": 18,
   "id": "64746fd0",
   "metadata": {},
   "outputs": [
    {
     "ename": "AttributeError",
     "evalue": "'tuple' object has no attribute 'append'",
     "output_type": "error",
     "traceback": [
      "\u001b[1;31m---------------------------------------------------------------------------\u001b[0m",
      "\u001b[1;31mAttributeError\u001b[0m                            Traceback (most recent call last)",
      "\u001b[1;32mC:\\Users\\MOINDA~1\\AppData\\Local\\Temp/ipykernel_13152/2403767784.py\u001b[0m in \u001b[0;36m<module>\u001b[1;34m\u001b[0m\n\u001b[1;32m----> 1\u001b[1;33m \u001b[0mtup\u001b[0m\u001b[1;33m.\u001b[0m\u001b[0mappend\u001b[0m\u001b[1;33m(\u001b[0m\u001b[1;36m5\u001b[0m\u001b[1;33m)\u001b[0m\u001b[1;33m\u001b[0m\u001b[1;33m\u001b[0m\u001b[0m\n\u001b[0m",
      "\u001b[1;31mAttributeError\u001b[0m: 'tuple' object has no attribute 'append'"
     ]
    }
   ],
   "source": [
    "tup.append(5)"
   ]
  },
  {
   "cell_type": "code",
   "execution_count": 20,
   "id": "af775244",
   "metadata": {},
   "outputs": [
    {
     "data": {
      "text/plain": [
       "[(0, 1), (1, 2), (2, 3), (3, 4), (4, [1, 2, 3]), (5, 6)]"
      ]
     },
     "execution_count": 20,
     "metadata": {},
     "output_type": "execute_result"
    }
   ],
   "source": [
    "list(enumerate(tup))"
   ]
  },
  {
   "cell_type": "code",
   "execution_count": 21,
   "id": "7d5971b5",
   "metadata": {},
   "outputs": [
    {
     "ename": "AttributeError",
     "evalue": "'tuple' object has no attribute 'insert'",
     "output_type": "error",
     "traceback": [
      "\u001b[1;31m---------------------------------------------------------------------------\u001b[0m",
      "\u001b[1;31mAttributeError\u001b[0m                            Traceback (most recent call last)",
      "\u001b[1;32mC:\\Users\\MOINDA~1\\AppData\\Local\\Temp/ipykernel_13152/1260704283.py\u001b[0m in \u001b[0;36m<module>\u001b[1;34m\u001b[0m\n\u001b[1;32m----> 1\u001b[1;33m \u001b[0mtup\u001b[0m\u001b[1;33m.\u001b[0m\u001b[0minsert\u001b[0m\u001b[1;33m[\u001b[0m\u001b[1;36m4\u001b[0m\u001b[1;33m]\u001b[0m\u001b[1;33m=\u001b[0m\u001b[1;36m5\u001b[0m\u001b[1;33m\u001b[0m\u001b[1;33m\u001b[0m\u001b[0m\n\u001b[0m",
      "\u001b[1;31mAttributeError\u001b[0m: 'tuple' object has no attribute 'insert'"
     ]
    }
   ],
   "source": [
    "tup.insert[4]=5"
   ]
  },
  {
   "cell_type": "code",
   "execution_count": 23,
   "id": "73861c5c",
   "metadata": {},
   "outputs": [],
   "source": [
    "tup[4].append(5)"
   ]
  },
  {
   "cell_type": "code",
   "execution_count": 24,
   "id": "400db017",
   "metadata": {},
   "outputs": [
    {
     "data": {
      "text/plain": [
       "(1, 2, 3, 4, [1, 2, 3, 5], 6)"
      ]
     },
     "execution_count": 24,
     "metadata": {},
     "output_type": "execute_result"
    }
   ],
   "source": [
    "tup"
   ]
  },
  {
   "cell_type": "markdown",
   "id": "8f662850",
   "metadata": {},
   "source": [
    "### Slicing"
   ]
  },
  {
   "cell_type": "code",
   "execution_count": 47,
   "id": "a6a99884",
   "metadata": {},
   "outputs": [
    {
     "data": {
      "text/plain": [
       "(6, 7, 8, 9, 10)"
      ]
     },
     "execution_count": 47,
     "metadata": {},
     "output_type": "execute_result"
    }
   ],
   "source": [
    "my_tup[5:10]"
   ]
  },
  {
   "cell_type": "code",
   "execution_count": 48,
   "id": "a16bd5b5",
   "metadata": {},
   "outputs": [
    {
     "data": {
      "text/plain": [
       "(1, 2, 3, 4)"
      ]
     },
     "execution_count": 48,
     "metadata": {},
     "output_type": "execute_result"
    }
   ],
   "source": [
    "my_tup[:4]"
   ]
  },
  {
   "cell_type": "code",
   "execution_count": 49,
   "id": "5c783edb",
   "metadata": {},
   "outputs": [
    {
     "data": {
      "text/plain": [
       "(9, 10, 11)"
      ]
     },
     "execution_count": 49,
     "metadata": {},
     "output_type": "execute_result"
    }
   ],
   "source": [
    "my_tup[8:]"
   ]
  },
  {
   "cell_type": "code",
   "execution_count": 50,
   "id": "2c486f79",
   "metadata": {},
   "outputs": [
    {
     "data": {
      "text/plain": [
       "(1, 3, 5, 7, 9, 11)"
      ]
     },
     "execution_count": 50,
     "metadata": {},
     "output_type": "execute_result"
    }
   ],
   "source": [
    "my_tup[::2]"
   ]
  },
  {
   "cell_type": "code",
   "execution_count": 51,
   "id": "f82b5fdf",
   "metadata": {},
   "outputs": [
    {
     "data": {
      "text/plain": [
       "(7, 8, 9, 10, 11)"
      ]
     },
     "execution_count": 51,
     "metadata": {},
     "output_type": "execute_result"
    }
   ],
   "source": [
    "my_tup[6::]"
   ]
  },
  {
   "cell_type": "code",
   "execution_count": 52,
   "id": "43375f0e",
   "metadata": {},
   "outputs": [
    {
     "data": {
      "text/plain": [
       "(11, 10, 9, 8, 7, 6, 5, 4, 3, 2, 1)"
      ]
     },
     "execution_count": 52,
     "metadata": {},
     "output_type": "execute_result"
    }
   ],
   "source": [
    "my_tup[::-1]"
   ]
  },
  {
   "cell_type": "code",
   "execution_count": 53,
   "id": "d4bc0294",
   "metadata": {},
   "outputs": [
    {
     "data": {
      "text/plain": [
       "(11, 9, 7, 5, 3, 1)"
      ]
     },
     "execution_count": 53,
     "metadata": {},
     "output_type": "execute_result"
    }
   ],
   "source": [
    "my_tup[::-2]"
   ]
  },
  {
   "cell_type": "code",
   "execution_count": 55,
   "id": "39420430",
   "metadata": {},
   "outputs": [
    {
     "data": {
      "text/plain": [
       "(9, 8, 7, 6, 5, 4)"
      ]
     },
     "execution_count": 55,
     "metadata": {},
     "output_type": "execute_result"
    }
   ],
   "source": [
    "my_tup[8:2:-1]"
   ]
  },
  {
   "cell_type": "code",
   "execution_count": 12,
   "id": "fa172ae4",
   "metadata": {},
   "outputs": [
    {
     "ename": "TypeError",
     "evalue": "tuple indices must be integers or slices, not tuple",
     "output_type": "error",
     "traceback": [
      "\u001b[1;31m---------------------------------------------------------------------------\u001b[0m",
      "\u001b[1;31mTypeError\u001b[0m                                 Traceback (most recent call last)",
      "\u001b[1;32mC:\\Users\\MOINDA~1\\AppData\\Local\\Temp/ipykernel_9112/3381605885.py\u001b[0m in \u001b[0;36m<module>\u001b[1;34m\u001b[0m\n\u001b[1;32m----> 1\u001b[1;33m \u001b[0mprint\u001b[0m\u001b[1;33m(\u001b[0m\u001b[0mmy_tup\u001b[0m\u001b[1;33m[\u001b[0m\u001b[1;36m0\u001b[0m\u001b[1;33m:\u001b[0m\u001b[1;36m5\u001b[0m\u001b[1;33m,\u001b[0m\u001b[1;33m:\u001b[0m\u001b[1;33m]\u001b[0m\u001b[1;33m)\u001b[0m\u001b[1;33m\u001b[0m\u001b[1;33m\u001b[0m\u001b[0m\n\u001b[0m",
      "\u001b[1;31mTypeError\u001b[0m: tuple indices must be integers or slices, not tuple"
     ]
    }
   ],
   "source": [
    "print(my_tup[0:5,:])"
   ]
  },
  {
   "cell_type": "markdown",
   "id": "1ad567bc",
   "metadata": {},
   "source": [
    "### String"
   ]
  },
  {
   "cell_type": "code",
   "execution_count": 10,
   "id": "afa5961c",
   "metadata": {},
   "outputs": [
    {
     "data": {
      "text/plain": [
       "'abcdefgh'"
      ]
     },
     "execution_count": 10,
     "metadata": {},
     "output_type": "execute_result"
    }
   ],
   "source": [
    "a = \"abcd\"\n",
    "e = \"efgh\"\n",
    "a+e"
   ]
  },
  {
   "cell_type": "code",
   "execution_count": 6,
   "id": "69d56556",
   "metadata": {},
   "outputs": [
    {
     "data": {
      "text/plain": [
       "str"
      ]
     },
     "execution_count": 6,
     "metadata": {},
     "output_type": "execute_result"
    }
   ],
   "source": [
    "my_str = 'Python'\n",
    "type(my_str)"
   ]
  },
  {
   "cell_type": "code",
   "execution_count": 8,
   "id": "39fc1291",
   "metadata": {},
   "outputs": [
    {
     "data": {
      "text/plain": [
       "'n'"
      ]
     },
     "execution_count": 8,
     "metadata": {},
     "output_type": "execute_result"
    }
   ],
   "source": [
    "my_str[5]"
   ]
  },
  {
   "cell_type": "code",
   "execution_count": 41,
   "id": "aca024b2",
   "metadata": {},
   "outputs": [
    {
     "data": {
      "text/plain": [
       "'Python'"
      ]
     },
     "execution_count": 41,
     "metadata": {},
     "output_type": "execute_result"
    }
   ],
   "source": [
    "my_str"
   ]
  },
  {
   "cell_type": "code",
   "execution_count": 11,
   "id": "b8d30c28",
   "metadata": {},
   "outputs": [
    {
     "data": {
      "text/plain": [
       "[(0, 'P'), (1, 'y'), (2, 't'), (3, 'h'), (4, 'o'), (5, 'n')]"
      ]
     },
     "execution_count": 11,
     "metadata": {},
     "output_type": "execute_result"
    }
   ],
   "source": [
    "list(enumerate(my_str))"
   ]
  },
  {
   "cell_type": "code",
   "execution_count": 56,
   "id": "8e54cc00",
   "metadata": {},
   "outputs": [
    {
     "data": {
      "text/plain": [
       "'o'"
      ]
     },
     "execution_count": 56,
     "metadata": {},
     "output_type": "execute_result"
    }
   ],
   "source": [
    "my_str[4]     "
   ]
  },
  {
   "cell_type": "code",
   "execution_count": 57,
   "id": "3f5dc5f9",
   "metadata": {},
   "outputs": [
    {
     "data": {
      "text/plain": [
       "[(0, 'P'), (1, 'y'), (2, 't'), (3, 'h'), (4, 'o'), (5, 'n')]"
      ]
     },
     "execution_count": 57,
     "metadata": {},
     "output_type": "execute_result"
    }
   ],
   "source": [
    "list(enumerate(my_str))"
   ]
  },
  {
   "cell_type": "code",
   "execution_count": 13,
   "id": "f875a3dd",
   "metadata": {},
   "outputs": [
    {
     "data": {
      "text/plain": [
       "'Python'"
      ]
     },
     "execution_count": 13,
     "metadata": {},
     "output_type": "execute_result"
    }
   ],
   "source": [
    "str1='python'\n",
    "str1.capitalize()"
   ]
  },
  {
   "cell_type": "code",
   "execution_count": 14,
   "id": "8aa23efa",
   "metadata": {},
   "outputs": [
    {
     "data": {
      "text/plain": [
       "'python'"
      ]
     },
     "execution_count": 14,
     "metadata": {},
     "output_type": "execute_result"
    }
   ],
   "source": [
    "str1"
   ]
  },
  {
   "cell_type": "code",
   "execution_count": 15,
   "id": "629e5533",
   "metadata": {},
   "outputs": [
    {
     "data": {
      "text/plain": [
       "'Hello World'"
      ]
     },
     "execution_count": 15,
     "metadata": {},
     "output_type": "execute_result"
    }
   ],
   "source": [
    " 'hELLO wORLD'.title()"
   ]
  },
  {
   "cell_type": "code",
   "execution_count": 17,
   "id": "b7e4f98c",
   "metadata": {},
   "outputs": [
    {
     "data": {
      "text/plain": [
       "(True, False)"
      ]
     },
     "execution_count": 17,
     "metadata": {},
     "output_type": "execute_result"
    }
   ],
   "source": [
    "str1.startswith('py'), str1.endswith('py')"
   ]
  },
  {
   "cell_type": "code",
   "execution_count": 19,
   "id": "9d7555e6",
   "metadata": {},
   "outputs": [
    {
     "data": {
      "text/plain": [
       "(True, False)"
      ]
     },
     "execution_count": 19,
     "metadata": {},
     "output_type": "execute_result"
    }
   ],
   "source": [
    "str1.endswith('on'), str1.startswith('on')"
   ]
  },
  {
   "cell_type": "code",
   "execution_count": 20,
   "id": "2839a87a",
   "metadata": {},
   "outputs": [],
   "source": [
    "my_string='pythontista'"
   ]
  },
  {
   "cell_type": "code",
   "execution_count": 24,
   "id": "b31ce7d4",
   "metadata": {},
   "outputs": [
    {
     "data": {
      "text/plain": [
       "[(0, 'p'),\n",
       " (1, 'y'),\n",
       " (2, 't'),\n",
       " (3, 'h'),\n",
       " (4, 'o'),\n",
       " (5, 'n'),\n",
       " (6, 't'),\n",
       " (7, 'i'),\n",
       " (8, 's'),\n",
       " (9, 't'),\n",
       " (10, 'a')]"
      ]
     },
     "execution_count": 24,
     "metadata": {},
     "output_type": "execute_result"
    }
   ],
   "source": [
    "list(enumerate(my_string))"
   ]
  },
  {
   "cell_type": "code",
   "execution_count": 21,
   "id": "61a36e37",
   "metadata": {},
   "outputs": [
    {
     "data": {
      "text/plain": [
       "2"
      ]
     },
     "execution_count": 21,
     "metadata": {},
     "output_type": "execute_result"
    }
   ],
   "source": [
    "my_string.find('t')"
   ]
  },
  {
   "cell_type": "code",
   "execution_count": 27,
   "id": "db083936",
   "metadata": {},
   "outputs": [
    {
     "data": {
      "text/plain": [
       "2"
      ]
     },
     "execution_count": 27,
     "metadata": {},
     "output_type": "execute_result"
    }
   ],
   "source": [
    "my_string.index('t',0,6)"
   ]
  },
  {
   "cell_type": "code",
   "execution_count": 28,
   "id": "ee63e832",
   "metadata": {},
   "outputs": [
    {
     "data": {
      "text/plain": [
       "6"
      ]
     },
     "execution_count": 28,
     "metadata": {},
     "output_type": "execute_result"
    }
   ],
   "source": [
    "my_string.index('t',3,10)"
   ]
  },
  {
   "cell_type": "code",
   "execution_count": 33,
   "id": "46cb46c7",
   "metadata": {},
   "outputs": [
    {
     "data": {
      "text/plain": [
       "9"
      ]
     },
     "execution_count": 33,
     "metadata": {},
     "output_type": "execute_result"
    }
   ],
   "source": [
    "my_string.index('t',7,10)"
   ]
  },
  {
   "cell_type": "code",
   "execution_count": 53,
   "id": "508a2839",
   "metadata": {},
   "outputs": [],
   "source": [
    "alpha= 'python'\n",
    "alphanum= 'pyhton3'\n",
    "num= '1234'"
   ]
  },
  {
   "cell_type": "code",
   "execution_count": 48,
   "id": "738f0b69",
   "metadata": {},
   "outputs": [
    {
     "data": {
      "text/plain": [
       "(True, True, False)"
      ]
     },
     "execution_count": 48,
     "metadata": {},
     "output_type": "execute_result"
    }
   ],
   "source": [
    "alpha.isalpha(),alpha.isalnum(), alpha.isnumeric()"
   ]
  },
  {
   "cell_type": "code",
   "execution_count": 51,
   "id": "dc86fbdd",
   "metadata": {},
   "outputs": [
    {
     "data": {
      "text/plain": [
       "(False, True, False)"
      ]
     },
     "execution_count": 51,
     "metadata": {},
     "output_type": "execute_result"
    }
   ],
   "source": [
    "alphanum.isalpha(), alphanum.isalnum(), alphanum.isnumeric()"
   ]
  },
  {
   "cell_type": "code",
   "execution_count": 56,
   "id": "b61a899a",
   "metadata": {},
   "outputs": [
    {
     "data": {
      "text/plain": [
       "(False, True, True)"
      ]
     },
     "execution_count": 56,
     "metadata": {},
     "output_type": "execute_result"
    }
   ],
   "source": [
    "num.isalpha(),num.isalnum(), num.isnumeric()"
   ]
  },
  {
   "cell_type": "code",
   "execution_count": 60,
   "id": "762df51d",
   "metadata": {},
   "outputs": [
    {
     "data": {
      "text/plain": [
       "(True, False)"
      ]
     },
     "execution_count": 60,
     "metadata": {},
     "output_type": "execute_result"
    }
   ],
   "source": [
    "'python'.islower(), 'Python'.isupper()"
   ]
  },
  {
   "cell_type": "code",
   "execution_count": 61,
   "id": "8f057d4a",
   "metadata": {},
   "outputs": [
    {
     "data": {
      "text/plain": [
       "(False, True)"
      ]
     },
     "execution_count": 61,
     "metadata": {},
     "output_type": "execute_result"
    }
   ],
   "source": [
    "'python'.isupper(), 'PYTHON'.isupper()"
   ]
  },
  {
   "cell_type": "code",
   "execution_count": 62,
   "id": "e80570f7",
   "metadata": {},
   "outputs": [
    {
     "data": {
      "text/plain": [
       "(False, False)"
      ]
     },
     "execution_count": 62,
     "metadata": {},
     "output_type": "execute_result"
    }
   ],
   "source": [
    "'pYTHON'.islower(),'pYTHON'.isupper()"
   ]
  },
  {
   "cell_type": "code",
   "execution_count": 3,
   "id": "aa8d72df",
   "metadata": {},
   "outputs": [
    {
     "data": {
      "text/plain": [
       "(False, True)"
      ]
     },
     "execution_count": 3,
     "metadata": {},
     "output_type": "execute_result"
    }
   ],
   "source": [
    "''.isspace(), \" \".isspace()"
   ]
  },
  {
   "cell_type": "code",
   "execution_count": 4,
   "id": "ba4350c8",
   "metadata": {},
   "outputs": [
    {
     "data": {
      "text/plain": [
       "('Python', '  Python', 'Python  ')"
      ]
     },
     "execution_count": 4,
     "metadata": {},
     "output_type": "execute_result"
    }
   ],
   "source": [
    "'  Python   '.strip(), \"  Python   \".rstrip(),\"   Python  \".lstrip()"
   ]
  },
  {
   "cell_type": "code",
   "execution_count": 7,
   "id": "d18e9508",
   "metadata": {},
   "outputs": [
    {
     "data": {
      "text/plain": [
       "['apple', 'kiwi', 'banana', 'strawberry', 'orange']"
      ]
     },
     "execution_count": 7,
     "metadata": {},
     "output_type": "execute_result"
    }
   ],
   "source": [
    "'apple,kiwi,banana,strawberry,orange'.split(',')"
   ]
  },
  {
   "cell_type": "code",
   "execution_count": 8,
   "id": "a2fd5c98",
   "metadata": {},
   "outputs": [
    {
     "data": {
      "text/plain": [
       "['apple;kiwi', 'banana', 'strawberry:orange']"
      ]
     },
     "execution_count": 8,
     "metadata": {},
     "output_type": "execute_result"
    }
   ],
   "source": [
    "'apple;kiwi,banana,strawberry:orange'.split(',')"
   ]
  },
  {
   "cell_type": "markdown",
   "id": "dcd8c89e",
   "metadata": {},
   "source": [
    "# List Comprehension"
   ]
  },
  {
   "cell_type": "code",
   "execution_count": 38,
   "id": "a72a85d7",
   "metadata": {},
   "outputs": [],
   "source": [
    "lst=[1,2,3,4,5]"
   ]
  },
  {
   "cell_type": "code",
   "execution_count": 40,
   "id": "612184cc",
   "metadata": {},
   "outputs": [
    {
     "data": {
      "text/plain": [
       "[1, 4, 9, 16, 25]"
      ]
     },
     "execution_count": 40,
     "metadata": {},
     "output_type": "execute_result"
    }
   ],
   "source": [
    "sqr_lst"
   ]
  },
  {
   "cell_type": "code",
   "execution_count": 41,
   "id": "69a89328",
   "metadata": {},
   "outputs": [],
   "source": [
    "new_sqr_lst=[elem*elem for elem in lst]"
   ]
  },
  {
   "cell_type": "code",
   "execution_count": 42,
   "id": "b78d2945",
   "metadata": {},
   "outputs": [
    {
     "data": {
      "text/plain": [
       "[1, 4, 9, 16, 25]"
      ]
     },
     "execution_count": 42,
     "metadata": {},
     "output_type": "execute_result"
    }
   ],
   "source": [
    "new_sqr_lst"
   ]
  },
  {
   "cell_type": "code",
   "execution_count": 43,
   "id": "ca304e1a",
   "metadata": {},
   "outputs": [],
   "source": [
    "numbers=[6,7,8,9,10,11,12]"
   ]
  },
  {
   "cell_type": "code",
   "execution_count": 44,
   "id": "7edb0f0f",
   "metadata": {},
   "outputs": [],
   "source": [
    "new_list=[number ** 2 for number in numbers]"
   ]
  },
  {
   "cell_type": "code",
   "execution_count": 46,
   "id": "a27ab49c",
   "metadata": {},
   "outputs": [
    {
     "data": {
      "text/plain": [
       "[36, 49, 64, 81, 100, 121, 144]"
      ]
     },
     "execution_count": 46,
     "metadata": {},
     "output_type": "execute_result"
    }
   ],
   "source": [
    "new_list"
   ]
  },
  {
   "cell_type": "code",
   "execution_count": 47,
   "id": "76db731d",
   "metadata": {},
   "outputs": [],
   "source": [
    "sqr_numb=[2,3,4,5,6]"
   ]
  },
  {
   "cell_type": "code",
   "execution_count": 48,
   "id": "13517553",
   "metadata": {},
   "outputs": [],
   "source": [
    "numb=[sqr ** 3 for sqr in sqr_numb]"
   ]
  },
  {
   "cell_type": "code",
   "execution_count": 49,
   "id": "7dd703a9",
   "metadata": {},
   "outputs": [
    {
     "data": {
      "text/plain": [
       "[8, 27, 64, 125, 216]"
      ]
     },
     "execution_count": 49,
     "metadata": {},
     "output_type": "execute_result"
    }
   ],
   "source": [
    "numb"
   ]
  },
  {
   "cell_type": "code",
   "execution_count": 60,
   "id": "3c38925b",
   "metadata": {},
   "outputs": [
    {
     "name": "stdout",
     "output_type": "stream",
     "text": [
      "[100, 200, 300, 400, 500]\n"
     ]
    }
   ],
   "source": [
    "range_func=[10,20,30,40,50]\n",
    "rang_f = [elem*10 for elem in range_func]\n",
    "print(rang_f)"
   ]
  },
  {
   "cell_type": "code",
   "execution_count": 2,
   "id": "55579eac",
   "metadata": {},
   "outputs": [
    {
     "data": {
      "text/plain": [
       "[100, 200, 300, 400, 500, 600]"
      ]
     },
     "execution_count": 2,
     "metadata": {},
     "output_type": "execute_result"
    }
   ],
   "source": [
    "ex_list=[1,2,3,4,5,6]\n",
    "ex_list=[numb*100 for numb in ex_list]\n",
    "ex_list"
   ]
  },
  {
   "cell_type": "code",
   "execution_count": 6,
   "id": "e9dd77b6",
   "metadata": {},
   "outputs": [
    {
     "data": {
      "text/plain": [
       "[100, 200, 300, 400, 500, 600]"
      ]
     },
     "execution_count": 6,
     "metadata": {},
     "output_type": "execute_result"
    }
   ],
   "source": [
    "n = [n*100 for n in range(1,7)]\n",
    "n"
   ]
  },
  {
   "cell_type": "code",
   "execution_count": 9,
   "id": "3c7dd560",
   "metadata": {},
   "outputs": [
    {
     "data": {
      "text/plain": [
       "[100, 200, 300, 400, 500, 600]"
      ]
     },
     "execution_count": 9,
     "metadata": {},
     "output_type": "execute_result"
    }
   ],
   "source": [
    "final_ex = [final_exp for final_exp in range(100,601,100)]\n",
    "final_ex"
   ]
  },
  {
   "cell_type": "markdown",
   "id": "9649107a",
   "metadata": {},
   "source": [
    "# For Loops"
   ]
  },
  {
   "cell_type": "markdown",
   "id": "44209247",
   "metadata": {},
   "source": [
    "## Sequence are Iterable"
   ]
  },
  {
   "cell_type": "code",
   "execution_count": 11,
   "id": "f0a80652",
   "metadata": {},
   "outputs": [
    {
     "data": {
      "text/plain": [
       "[2, 4, 6, 8, 10, 12]"
      ]
     },
     "execution_count": 11,
     "metadata": {},
     "output_type": "execute_result"
    }
   ],
   "source": [
    "l = [1,3,5,7,9,11]\n",
    "l[0] = l[0]+1\n",
    "l[1] = l[1]+1\n",
    "l[2] = l[2]+1\n",
    "l[3] = l[3]+1\n",
    "l[4] = l[4]+1\n",
    "l[5] = l[5]+1\n",
    "l"
   ]
  },
  {
   "cell_type": "code",
   "execution_count": 3,
   "id": "f7e3875b",
   "metadata": {},
   "outputs": [
    {
     "data": {
      "text/plain": [
       "66"
      ]
     },
     "execution_count": 3,
     "metadata": {},
     "output_type": "execute_result"
    }
   ],
   "source": [
    "l = [1,10,23,25,7]\n",
    "total = 0\n",
    "for i in l:\n",
    "    total = total+i\n",
    "total"
   ]
  },
  {
   "cell_type": "code",
   "execution_count": 7,
   "id": "427b676c",
   "metadata": {},
   "outputs": [
    {
     "data": {
      "text/plain": [
       "40250"
      ]
     },
     "execution_count": 7,
     "metadata": {},
     "output_type": "execute_result"
    }
   ],
   "source": [
    "l = [1,10,23,25,7]\n",
    "total = 1\n",
    "for i in l:\n",
    "    total = total*i\n",
    "total"
   ]
  },
  {
   "cell_type": "code",
   "execution_count": null,
   "id": "af96c227",
   "metadata": {},
   "outputs": [],
   "source": []
  },
  {
   "cell_type": "code",
   "execution_count": 12,
   "id": "78d9fe70",
   "metadata": {},
   "outputs": [
    {
     "name": "stdout",
     "output_type": "stream",
     "text": [
      "2\n",
      "4\n",
      "6\n",
      "8\n",
      "10\n",
      "12\n"
     ]
    }
   ],
   "source": [
    "list_ = [1,3,5,7,9,11]\n",
    "for add_one in list_:\n",
    "    print(add_one+1)"
   ]
  },
  {
   "cell_type": "code",
   "execution_count": 3,
   "id": "019bdda8",
   "metadata": {},
   "outputs": [
    {
     "name": "stdout",
     "output_type": "stream",
     "text": [
      "[1]\n",
      "[1, 8]\n",
      "[1, 8, 27]\n",
      "[1, 8, 27, 64]\n",
      "[1, 8, 27, 64, 125]\n",
      "[1, 8, 27, 64, 125, 216]\n",
      "[1, 8, 27, 64, 125, 216, 343]\n",
      "[1, 8, 27, 64, 125, 216, 343, 512]\n",
      "[1, 8, 27, 64, 125, 216, 343, 512, 729]\n",
      "[1, 8, 27, 64, 125, 216, 343, 512, 729, 1000]\n",
      "[1, 8, 27, 64, 125, 216, 343, 512, 729, 1000, 1331]\n",
      "[1, 8, 27, 64, 125, 216, 343, 512, 729, 1000, 1331, 1728]\n",
      "[1, 8, 27, 64, 125, 216, 343, 512, 729, 1000, 1331, 1728, 2197]\n",
      "[1, 8, 27, 64, 125, 216, 343, 512, 729, 1000, 1331, 1728, 2197, 2744]\n",
      "[1, 8, 27, 64, 125, 216, 343, 512, 729, 1000, 1331, 1728, 2197, 2744, 3375]\n",
      "[1, 8, 27, 64, 125, 216, 343, 512, 729, 1000, 1331, 1728, 2197, 2744, 3375, 4096]\n",
      "[1, 8, 27, 64, 125, 216, 343, 512, 729, 1000, 1331, 1728, 2197, 2744, 3375, 4096, 4913]\n",
      "[1, 8, 27, 64, 125, 216, 343, 512, 729, 1000, 1331, 1728, 2197, 2744, 3375, 4096, 4913, 5832]\n",
      "[1, 8, 27, 64, 125, 216, 343, 512, 729, 1000, 1331, 1728, 2197, 2744, 3375, 4096, 4913, 5832, 6859]\n",
      "[1, 8, 27, 64, 125, 216, 343, 512, 729, 1000, 1331, 1728, 2197, 2744, 3375, 4096, 4913, 5832, 6859, 8000]\n"
     ]
    }
   ],
   "source": [
    "l = [1,2,3,4,5,6,7,8,9,10,11,12,13,14,15,16,17,18,19,20]\n",
    "cube_root = []\n",
    "for i in l:\n",
    "    cube_root.append(i**3)\n",
    "    print(cube_root)"
   ]
  },
  {
   "cell_type": "code",
   "execution_count": 7,
   "id": "c5828bcf",
   "metadata": {},
   "outputs": [
    {
     "name": "stdout",
     "output_type": "stream",
     "text": [
      "[1, 8, 27, 64, 125, 216, 343, 512, 729, 1000, 1331, 1728, 2197, 2744, 3375, 4096, 4913, 5832, 6859, 8000]\n"
     ]
    }
   ],
   "source": [
    "print(cube_root)"
   ]
  },
  {
   "cell_type": "code",
   "execution_count": 19,
   "id": "5cd34cde",
   "metadata": {},
   "outputs": [
    {
     "name": "stdout",
     "output_type": "stream",
     "text": [
      "[1, 2, 3, 4, 5, 6, 7, 8, 9, 10, 11, 12, 13, 14, 15, 16, 17, 18, 19, 20]\n",
      "[1, 4, 3, 4, 5, 6, 7, 8, 9, 10, 11, 12, 13, 14, 15, 16, 17, 18, 19, 20]\n",
      "[1, 4, 9, 4, 5, 6, 7, 8, 9, 10, 11, 12, 13, 14, 15, 16, 17, 18, 19, 20]\n",
      "[1, 4, 9, 16, 5, 6, 7, 8, 9, 10, 11, 12, 13, 14, 15, 16, 17, 18, 19, 20]\n",
      "[1, 4, 9, 16, 25, 6, 7, 8, 9, 10, 11, 12, 13, 14, 15, 16, 17, 18, 19, 20]\n",
      "[1, 4, 9, 16, 25, 36, 7, 8, 9, 10, 11, 12, 13, 14, 15, 16, 17, 18, 19, 20]\n",
      "[1, 4, 9, 16, 25, 36, 49, 8, 9, 10, 11, 12, 13, 14, 15, 16, 17, 18, 19, 20]\n",
      "[1, 4, 9, 16, 25, 36, 49, 64, 9, 10, 11, 12, 13, 14, 15, 16, 17, 18, 19, 20]\n",
      "[1, 4, 9, 16, 25, 36, 49, 64, 81, 10, 11, 12, 13, 14, 15, 16, 17, 18, 19, 20]\n",
      "[1, 4, 9, 16, 25, 36, 49, 64, 81, 100, 11, 12, 13, 14, 15, 16, 17, 18, 19, 20]\n",
      "[1, 4, 9, 16, 25, 36, 49, 64, 81, 100, 121, 12, 13, 14, 15, 16, 17, 18, 19, 20]\n",
      "[1, 4, 9, 16, 25, 36, 49, 64, 81, 100, 121, 144, 13, 14, 15, 16, 17, 18, 19, 20]\n",
      "[1, 4, 9, 16, 25, 36, 49, 64, 81, 100, 121, 144, 169, 14, 15, 16, 17, 18, 19, 20]\n",
      "[1, 4, 9, 16, 25, 36, 49, 64, 81, 100, 121, 144, 169, 196, 15, 16, 17, 18, 19, 20]\n",
      "[1, 4, 9, 16, 25, 36, 49, 64, 81, 100, 121, 144, 169, 196, 225, 16, 17, 18, 19, 20]\n",
      "[1, 4, 9, 16, 25, 36, 49, 64, 81, 100, 121, 144, 169, 196, 225, 256, 17, 18, 19, 20]\n",
      "[1, 4, 9, 16, 25, 36, 49, 64, 81, 100, 121, 144, 169, 196, 225, 256, 289, 18, 19, 20]\n",
      "[1, 4, 9, 16, 25, 36, 49, 64, 81, 100, 121, 144, 169, 196, 225, 256, 289, 324, 19, 20]\n",
      "[1, 4, 9, 16, 25, 36, 49, 64, 81, 100, 121, 144, 169, 196, 225, 256, 289, 324, 361, 20]\n",
      "[1, 4, 9, 16, 25, 36, 49, 64, 81, 100, 121, 144, 169, 196, 225, 256, 289, 324, 361, 400]\n"
     ]
    }
   ],
   "source": [
    "l = list(range(1,21))\n",
    "for i in range(len(l)):\n",
    "    l[i]=l[i]**2\n",
    "    print(l)"
   ]
  },
  {
   "cell_type": "code",
   "execution_count": 39,
   "id": "cae0af1c",
   "metadata": {},
   "outputs": [],
   "source": [
    "sqr_lst=[]\n",
    "for elem in lst:\n",
    "    sqr_lst.append(elem*elem)"
   ]
  },
  {
   "cell_type": "code",
   "execution_count": 55,
   "id": "fd44ad43",
   "metadata": {},
   "outputs": [
    {
     "name": "stdout",
     "output_type": "stream",
     "text": [
      "2\n",
      "4\n",
      "6\n",
      "8\n",
      "10\n",
      "12\n",
      "14\n",
      "16\n",
      "18\n"
     ]
    }
   ],
   "source": [
    "for even in range(2,20,2):\n",
    "    print(even)"
   ]
  },
  {
   "cell_type": "code",
   "execution_count": 61,
   "id": "f8209832",
   "metadata": {},
   "outputs": [
    {
     "name": "stdout",
     "output_type": "stream",
     "text": [
      "HI\n",
      "Ram\n",
      "HI\n",
      "Shaam\n",
      "HI\n",
      "Rohan\n",
      "HI\n",
      "Mohan\n",
      "HI\n",
      "Jobu\n",
      "Hello Eeryone Hope you guys are doing great\n"
     ]
    }
   ],
   "source": [
    "Everyone=['Ram','Shaam','Rohan','Mohan','Jobu']\n",
    "for Members in Everyone:\n",
    "    print('HI')\n",
    "    print(Members)\n",
    "print('Hello Eeryone Hope you guys are doing great')"
   ]
  },
  {
   "cell_type": "code",
   "execution_count": 54,
   "id": "189a9216",
   "metadata": {},
   "outputs": [
    {
     "name": "stdout",
     "output_type": "stream",
     "text": [
      "0\n",
      "1\n",
      "2\n",
      "3\n",
      "4\n",
      "5\n",
      "6\n",
      "7\n",
      "8\n",
      "9\n",
      "10\n",
      "11\n",
      "12\n",
      "13\n",
      "14\n"
     ]
    }
   ],
   "source": [
    "for range_l in range(15):\n",
    "    print(range_l)"
   ]
  },
  {
   "cell_type": "code",
   "execution_count": 56,
   "id": "bb263abd",
   "metadata": {},
   "outputs": [
    {
     "name": "stdout",
     "output_type": "stream",
     "text": [
      "100\n",
      "200\n",
      "300\n",
      "400\n",
      "500\n"
     ]
    }
   ],
   "source": [
    "for comprehension in range(100,600,100):\n",
    "    print(comprehension)"
   ]
  },
  {
   "cell_type": "code",
   "execution_count": 53,
   "id": "95cfa3b1",
   "metadata": {},
   "outputs": [
    {
     "name": "stdout",
     "output_type": "stream",
     "text": [
      "2\n",
      "3\n",
      "4\n",
      "5\n",
      "6\n",
      "7\n",
      "8\n",
      "9\n",
      "10\n",
      "11\n",
      "12\n",
      "13\n",
      "14\n"
     ]
    }
   ],
   "source": [
    "for range_list in range(2,15):\n",
    "    print(range_list)"
   ]
  },
  {
   "cell_type": "code",
   "execution_count": null,
   "id": "00faaab5",
   "metadata": {},
   "outputs": [],
   "source": [
    "my_str='Python'\n",
    "for c in my_str:\n",
    "                print(c)"
   ]
  },
  {
   "cell_type": "markdown",
   "id": "a65289e3",
   "metadata": {},
   "source": [
    "### if elif and else Condition"
   ]
  },
  {
   "cell_type": "code",
   "execution_count": 43,
   "id": "f653ea28",
   "metadata": {},
   "outputs": [
    {
     "name": "stdout",
     "output_type": "stream",
     "text": [
      "Chutiya\n"
     ]
    }
   ],
   "source": [
    "# God while making humans\n",
    "human = \"\" \n",
    "facts = \"\"\n",
    "if human == \"Sajid\":\n",
    "    print('Chutiya')\n",
    "elif facts ==\"Nahi Yaar Sajid Mast Aadmi Hai\":\n",
    "    print('Chup Chutiye')\n",
    "else:\n",
    "    print('Mast Aadmi')"
   ]
  },
  {
   "cell_type": "code",
   "execution_count": 55,
   "id": "a4a6b69c",
   "metadata": {},
   "outputs": [
    {
     "name": "stdout",
     "output_type": "stream",
     "text": [
      "[1, 3, 5, 7, 9] [2, 4, 6, 8, 14.0] [10.01, 12.02]\n"
     ]
    }
   ],
   "source": [
    "l = [1,2,3,4,5,6,7,8,9,10.01,12.02,14.0]\n",
    "even = []\n",
    "odd = []\n",
    "fraction = []\n",
    "for i in l:\n",
    "    if i%2==0:\n",
    "        even.append(i)\n",
    "    elif i%2==1:\n",
    "        odd.append(i)\n",
    "    else:\n",
    "        fraction.append(i)\n",
    "print(odd,even,fraction)"
   ]
  },
  {
   "cell_type": "markdown",
   "id": "52e915d5",
   "metadata": {},
   "source": [
    "# Function "
   ]
  },
  {
   "cell_type": "code",
   "execution_count": 31,
   "id": "3f9910b7",
   "metadata": {},
   "outputs": [],
   "source": [
    "# God while making humans\n",
    "def alexa(n):\n",
    "    if n==\"Sajid\":\n",
    "        print('Chutiya')\n",
    "    elif n==\"Nahi Yaar Sajid Mast Aadmi Hai\":\n",
    "        print('Chup Chutiye')\n",
    "    elif n==\"Sajid Khan\":\n",
    "        return \"According to history Sajid was the reason someone came up with the word 'Chutiya'\"\n",
    "    elif n==\"Maruf\":\n",
    "        return \"Tu Kisko chutiya banara hai jo pehle se chutiya hai\"\n",
    "    elif n==\"Pranav\":\n",
    "        return \"Sajid ko dekhke bas muh se bas shabdt chutiya nikalta hai\"\n",
    "    elif n==\"Yogesh Patil\":\n",
    "        return \"Ekdum Cheeel kawwa kabutar\"\n",
    "    elif n==\"Zoheb\":\n",
    "        return \"Insaan ki shakal badalji jaasakti hai lekin uski fitrat kabhi nahi badalti in context to recent Amaan's change of behavior\"\n",
    "    elif n==\"Amman\":\n",
    "        print('Mumbra ki saari ladkiya kharab hai','\\n''Bajaj ki gadi toh bas khadi rehti hai showroom se sidha garage')\n",
    "    elif n==\"Fazal\":\n",
    "        print('Fazal was the first Chutiya Scientiest to discover Sperm in knees','\\n''His Expertise are finding sperm at places were anybody can be suspicious','\\n'\"Loves to gang bang ahmm i mean loves to hang with 21 males friends gives them choco and calls it a day by kissing their dick a good bye and doesn't says no homo\")\n",
    "    else:\n",
    "        print('Mast Aadmi')"
   ]
  },
  {
   "cell_type": "code",
   "execution_count": 56,
   "id": "449a703a",
   "metadata": {},
   "outputs": [
    {
     "data": {
      "text/plain": [
       "25"
      ]
     },
     "execution_count": 56,
     "metadata": {},
     "output_type": "execute_result"
    }
   ],
   "source": [
    "pow(5,2)"
   ]
  },
  {
   "cell_type": "code",
   "execution_count": 1,
   "id": "a483da36",
   "metadata": {},
   "outputs": [],
   "source": [
    "def Number(x):\n",
    "    if x%2==0:\n",
    "        return \"even\"\n",
    "    elif x%2==1:\n",
    "        return \"odd\"\n",
    "    else:\n",
    "        return \"fraction\""
   ]
  },
  {
   "cell_type": "code",
   "execution_count": 13,
   "id": "aedf8a24",
   "metadata": {},
   "outputs": [
    {
     "data": {
      "text/plain": [
       "['fraction', 'even', 'odd']"
      ]
     },
     "execution_count": 13,
     "metadata": {},
     "output_type": "execute_result"
    }
   ],
   "source": [
    "list(map(Number,[2.20,12,13]))"
   ]
  },
  {
   "cell_type": "markdown",
   "id": "2bc01e67",
   "metadata": {},
   "source": [
    " # List Methods"
   ]
  },
  {
   "cell_type": "markdown",
   "id": "5b1ec7b8",
   "metadata": {},
   "source": [
    "## Adding into the list"
   ]
  },
  {
   "cell_type": "code",
   "execution_count": 3,
   "id": "e95dec21",
   "metadata": {},
   "outputs": [],
   "source": [
    "lst = [0,1,2,3,4,5]"
   ]
  },
  {
   "cell_type": "code",
   "execution_count": 4,
   "id": "9564c156",
   "metadata": {},
   "outputs": [],
   "source": [
    "lst.append(6)"
   ]
  },
  {
   "cell_type": "code",
   "execution_count": 5,
   "id": "057a92cd",
   "metadata": {},
   "outputs": [
    {
     "data": {
      "text/plain": [
       "[0, 1, 2, 3, 4, 5, 6]"
      ]
     },
     "execution_count": 5,
     "metadata": {},
     "output_type": "execute_result"
    }
   ],
   "source": [
    "lst"
   ]
  },
  {
   "cell_type": "code",
   "execution_count": 6,
   "id": "615762e1",
   "metadata": {},
   "outputs": [],
   "source": [
    "lst.extend([7,8])"
   ]
  },
  {
   "cell_type": "code",
   "execution_count": 7,
   "id": "fb013ed9",
   "metadata": {},
   "outputs": [
    {
     "data": {
      "text/plain": [
       "9"
      ]
     },
     "execution_count": 7,
     "metadata": {},
     "output_type": "execute_result"
    }
   ],
   "source": [
    "len(lst)"
   ]
  },
  {
   "cell_type": "code",
   "execution_count": 8,
   "id": "1e7bc246",
   "metadata": {},
   "outputs": [
    {
     "data": {
      "text/plain": [
       "[0, 1, 2, 3, 4, 5, 6, 7, 8]"
      ]
     },
     "execution_count": 8,
     "metadata": {},
     "output_type": "execute_result"
    }
   ],
   "source": [
    "lst"
   ]
  },
  {
   "cell_type": "code",
   "execution_count": 9,
   "id": "980dee44",
   "metadata": {},
   "outputs": [],
   "source": [
    "lst.extend(range(9, 14))"
   ]
  },
  {
   "cell_type": "code",
   "execution_count": 10,
   "id": "301239fe",
   "metadata": {},
   "outputs": [
    {
     "data": {
      "text/plain": [
       "[0, 1, 2, 3, 4, 5, 6, 7, 8, 9, 10, 11, 12, 13]"
      ]
     },
     "execution_count": 10,
     "metadata": {},
     "output_type": "execute_result"
    }
   ],
   "source": [
    "lst"
   ]
  },
  {
   "cell_type": "code",
   "execution_count": 11,
   "id": "0e639457",
   "metadata": {},
   "outputs": [],
   "source": [
    "lst.extend([14,15,16,17])"
   ]
  },
  {
   "cell_type": "markdown",
   "id": "7d3d831d",
   "metadata": {},
   "source": [
    "### Insert is used to replace number of a particular index number "
   ]
  },
  {
   "cell_type": "code",
   "execution_count": 12,
   "id": "3aee1cbf",
   "metadata": {},
   "outputs": [],
   "source": [
    "lst.insert(18,19) "
   ]
  },
  {
   "cell_type": "code",
   "execution_count": 13,
   "id": "e4f04e06",
   "metadata": {},
   "outputs": [
    {
     "data": {
      "text/plain": [
       "[0, 1, 2, 3, 4, 5, 6, 7, 8, 9, 10, 11, 12, 13, 14, 15, 16, 17, 19]"
      ]
     },
     "execution_count": 13,
     "metadata": {},
     "output_type": "execute_result"
    }
   ],
   "source": [
    "lst"
   ]
  },
  {
   "cell_type": "markdown",
   "id": "540a10e6",
   "metadata": {},
   "source": [
    "### Removing elements from a list"
   ]
  },
  {
   "cell_type": "code",
   "execution_count": 14,
   "id": "46b7a9ba",
   "metadata": {},
   "outputs": [
    {
     "data": {
      "text/plain": [
       "19"
      ]
     },
     "execution_count": 14,
     "metadata": {},
     "output_type": "execute_result"
    }
   ],
   "source": [
    "lst.pop()"
   ]
  },
  {
   "cell_type": "code",
   "execution_count": 80,
   "id": "095e5130",
   "metadata": {},
   "outputs": [],
   "source": [
    "del lst[7]"
   ]
  },
  {
   "cell_type": "code",
   "execution_count": 95,
   "id": "5d32c18f",
   "metadata": {},
   "outputs": [],
   "source": [
    "lst.clear()"
   ]
  },
  {
   "cell_type": "markdown",
   "id": "3be1bc13",
   "metadata": {},
   "source": [
    "### Replace"
   ]
  },
  {
   "cell_type": "code",
   "execution_count": 92,
   "id": "ffa5b095",
   "metadata": {},
   "outputs": [],
   "source": [
    "lst[6] = 6 "
   ]
  },
  {
   "cell_type": "markdown",
   "id": "73ee2683",
   "metadata": {},
   "source": [
    "### Repitition Operation"
   ]
  },
  {
   "cell_type": "code",
   "execution_count": 15,
   "id": "ee0a81c3",
   "metadata": {},
   "outputs": [
    {
     "data": {
      "text/plain": [
       "[1, 2, 3, 1, 2, 3, 1, 2, 3]"
      ]
     },
     "execution_count": 15,
     "metadata": {},
     "output_type": "execute_result"
    }
   ],
   "source": [
    "lst=[1,2,3]\n",
    "lst*3"
   ]
  },
  {
   "cell_type": "code",
   "execution_count": 16,
   "id": "4c831eb0",
   "metadata": {},
   "outputs": [
    {
     "data": {
      "text/plain": [
       "['Python', 'Python', 'Python']"
      ]
     },
     "execution_count": 16,
     "metadata": {},
     "output_type": "execute_result"
    }
   ],
   "source": [
    "ml=[\"Python\"]\n",
    "ml*3"
   ]
  },
  {
   "cell_type": "markdown",
   "id": "acac7274",
   "metadata": {},
   "source": [
    "### Sort a list"
   ]
  },
  {
   "cell_type": "code",
   "execution_count": 25,
   "id": "2d295695",
   "metadata": {},
   "outputs": [],
   "source": [
    "lst=[67,34,42,12,98,56]"
   ]
  },
  {
   "cell_type": "code",
   "execution_count": 27,
   "id": "efd2f707",
   "metadata": {},
   "outputs": [],
   "source": [
    "lst.sort()"
   ]
  },
  {
   "cell_type": "code",
   "execution_count": 28,
   "id": "f7da57ee",
   "metadata": {},
   "outputs": [
    {
     "data": {
      "text/plain": [
       "[12, 34, 42, 56, 67, 98]"
      ]
     },
     "execution_count": 28,
     "metadata": {},
     "output_type": "execute_result"
    }
   ],
   "source": [
    "lst"
   ]
  },
  {
   "cell_type": "code",
   "execution_count": 29,
   "id": "bec56a8d",
   "metadata": {},
   "outputs": [],
   "source": [
    "lst.sort(reverse=True)"
   ]
  },
  {
   "cell_type": "code",
   "execution_count": 30,
   "id": "b889255d",
   "metadata": {},
   "outputs": [
    {
     "data": {
      "text/plain": [
       "[98, 67, 56, 42, 34, 12]"
      ]
     },
     "execution_count": 30,
     "metadata": {},
     "output_type": "execute_result"
    }
   ],
   "source": [
    "lst"
   ]
  },
  {
   "cell_type": "code",
   "execution_count": 31,
   "id": "a1d794c7",
   "metadata": {},
   "outputs": [],
   "source": [
    "Name=['Tom','Kate','George','Pete','Veronica','William','Adam']"
   ]
  },
  {
   "cell_type": "code",
   "execution_count": 32,
   "id": "ec5d2f1a",
   "metadata": {},
   "outputs": [],
   "source": [
    "Name.sort()"
   ]
  },
  {
   "cell_type": "code",
   "execution_count": 33,
   "id": "43f7b3ca",
   "metadata": {},
   "outputs": [
    {
     "data": {
      "text/plain": [
       "['Adam', 'George', 'Kate', 'Pete', 'Tom', 'Veronica', 'William']"
      ]
     },
     "execution_count": 33,
     "metadata": {},
     "output_type": "execute_result"
    }
   ],
   "source": [
    "Name"
   ]
  },
  {
   "cell_type": "code",
   "execution_count": 34,
   "id": "314e4792",
   "metadata": {},
   "outputs": [],
   "source": [
    "Name.sort(reverse=True)"
   ]
  },
  {
   "cell_type": "code",
   "execution_count": 35,
   "id": "15aa98e9",
   "metadata": {},
   "outputs": [
    {
     "data": {
      "text/plain": [
       "['William', 'Veronica', 'Tom', 'Pete', 'Kate', 'George', 'Adam']"
      ]
     },
     "execution_count": 35,
     "metadata": {},
     "output_type": "execute_result"
    }
   ],
   "source": [
    "Name"
   ]
  },
  {
   "cell_type": "code",
   "execution_count": 25,
   "id": "a16271e9",
   "metadata": {},
   "outputs": [
    {
     "name": "stdout",
     "output_type": "stream",
     "text": [
      "Mumbra ki saari ladkiya kharab hai \n",
      "Bajaj ki gadi toh bas khadi rehti hai showroom se sidha garage\n"
     ]
    }
   ],
   "source": [
    "alexa('Aman Kalsekar')"
   ]
  },
  {
   "cell_type": "code",
   "execution_count": 45,
   "id": "416f0a69",
   "metadata": {},
   "outputs": [
    {
     "data": {
      "text/plain": [
       "'value of pi is 33.256'"
      ]
     },
     "execution_count": 45,
     "metadata": {},
     "output_type": "execute_result"
    }
   ],
   "source": [
    "'value of pi is {:.3f}' .format(33.256)"
   ]
  },
  {
   "cell_type": "markdown",
   "id": "e4a7ee08",
   "metadata": {},
   "source": [
    "### Sets\n",
    "* A unique collection of IMMUTABLE items/objects\n",
    "* Syntax: ()\n",
    "* MUTABLE"
   ]
  },
  {
   "cell_type": "code",
   "execution_count": 37,
   "id": "2e7378ca",
   "metadata": {},
   "outputs": [],
   "source": [
    "a = set('Allahabad')\n",
    "b = set('Bangalore')"
   ]
  },
  {
   "cell_type": "code",
   "execution_count": 38,
   "id": "1ce90db9",
   "metadata": {},
   "outputs": [
    {
     "data": {
      "text/plain": [
       "{'A', 'a', 'b', 'd', 'h', 'l'}"
      ]
     },
     "execution_count": 38,
     "metadata": {},
     "output_type": "execute_result"
    }
   ],
   "source": [
    "a"
   ]
  },
  {
   "cell_type": "code",
   "execution_count": 39,
   "id": "84cb9761",
   "metadata": {},
   "outputs": [
    {
     "data": {
      "text/plain": [
       "{'B', 'a', 'e', 'g', 'l', 'n', 'o', 'r'}"
      ]
     },
     "execution_count": 39,
     "metadata": {},
     "output_type": "execute_result"
    }
   ],
   "source": [
    "b"
   ]
  },
  {
   "cell_type": "code",
   "execution_count": 40,
   "id": "62ed7948",
   "metadata": {},
   "outputs": [
    {
     "data": {
      "text/plain": [
       "{'A', 'B', 'a', 'b', 'd', 'e', 'g', 'h', 'l', 'n', 'o', 'r'}"
      ]
     },
     "execution_count": 40,
     "metadata": {},
     "output_type": "execute_result"
    }
   ],
   "source": [
    "# Union\n",
    "a | b"
   ]
  },
  {
   "cell_type": "code",
   "execution_count": 42,
   "id": "999f7365",
   "metadata": {},
   "outputs": [
    {
     "data": {
      "text/plain": [
       "{'A', 'b', 'd', 'h'}"
      ]
     },
     "execution_count": 42,
     "metadata": {},
     "output_type": "execute_result"
    }
   ],
   "source": [
    "a - b"
   ]
  },
  {
   "cell_type": "code",
   "execution_count": 43,
   "id": "00c8521a",
   "metadata": {},
   "outputs": [
    {
     "data": {
      "text/plain": [
       "{'B', 'e', 'g', 'n', 'o', 'r'}"
      ]
     },
     "execution_count": 43,
     "metadata": {},
     "output_type": "execute_result"
    }
   ],
   "source": [
    "b - a"
   ]
  },
  {
   "cell_type": "code",
   "execution_count": 44,
   "id": "721f36aa",
   "metadata": {},
   "outputs": [
    {
     "data": {
      "text/plain": [
       "{'a', 'l'}"
      ]
     },
     "execution_count": 44,
     "metadata": {},
     "output_type": "execute_result"
    }
   ],
   "source": [
    "# Intersection\n",
    "a & b"
   ]
  },
  {
   "cell_type": "code",
   "execution_count": null,
   "id": "38df5f07",
   "metadata": {},
   "outputs": [],
   "source": []
  },
  {
   "cell_type": "markdown",
   "id": "aa146b56",
   "metadata": {},
   "source": [
    "### string str = \"mumbai   is   the financial       capital of india\";\n",
    "### output str=\"mumbai is the financial capital of india\""
   ]
  },
  {
   "cell_type": "code",
   "execution_count": 34,
   "id": "6349de40",
   "metadata": {},
   "outputs": [
    {
     "name": "stdout",
     "output_type": "stream",
     "text": [
      "str = mumbai   is   the financial       capital of india\n",
      "output =  mumbai is the financial capital of india\n"
     ]
    }
   ],
   "source": [
    "import re\n",
    "print('str =', \"mumbai   is   the financial       capital of india\")\n",
    "str = \"mumbai   is   the financial       capital of india\"\n",
    "print('output = ',re.sub(' +', ' ', str))"
   ]
  },
  {
   "cell_type": "code",
   "execution_count": 4,
   "id": "5e38072a",
   "metadata": {
    "ExecuteTime": {
     "end_time": "2022-11-06T14:47:30.925882Z",
     "start_time": "2022-11-06T14:47:30.903884Z"
    }
   },
   "outputs": [
    {
     "name": "stdout",
     "output_type": "stream",
     "text": [
      "Odd\n",
      "Even\n",
      "Odd\n",
      "Even\n",
      "Odd\n",
      "Even\n",
      "Odd\n",
      "Even\n",
      "Odd\n",
      "Even\n",
      "Odd\n",
      "Even\n",
      "Odd\n",
      "Even\n",
      "Odd\n",
      "Even\n",
      "Odd\n",
      "Even\n",
      "Odd\n",
      "Even\n",
      "Odd\n",
      "Even\n",
      "Odd\n",
      "Even\n",
      "Odd\n",
      "Even\n",
      "Odd\n",
      "Even\n",
      "Odd\n"
     ]
    }
   ],
   "source": [
    "for i in list(range(1,30)):\n",
    "    if i%2 == 0:\n",
    "        print('Even')\n",
    "    else:\n",
    "        print('Odd')  "
   ]
  },
  {
   "cell_type": "code",
   "execution_count": 5,
   "id": "77b76d0b",
   "metadata": {},
   "outputs": [
    {
     "name": "stdout",
     "output_type": "stream",
     "text": [
      "Invalid\n",
      "Invalid\n",
      "Valid\n",
      "Invalid\n",
      "Invalid\n",
      "Valid\n",
      "Invalid\n",
      "Invalid\n",
      "Valid\n",
      "Invalid\n",
      "Invalid\n",
      "Valid\n",
      "Invalid\n",
      "Invalid\n",
      "Valid\n",
      "Invalid\n"
     ]
    }
   ],
   "source": [
    "lists = [ 1, 2, 3, 4, 5, 6 , 7 ,8, 9, 10, 11, 12, 13, 14, 15, 16]\n",
    "\n",
    "for i in lists:\n",
    "    if i%3 == 0:\n",
    "        print('Valid')\n",
    "    else:\n",
    "        print('Invalid')    "
   ]
  },
  {
   "cell_type": "code",
   "execution_count": 21,
   "id": "e6fbb8ef",
   "metadata": {},
   "outputs": [
    {
     "name": "stdout",
     "output_type": "stream",
     "text": [
      "Invalid\n",
      "Invalid\n",
      "Valid\n",
      "Invalid\n",
      "Invalid\n",
      "Valid\n",
      "Invalid\n",
      "Invalid\n",
      "Valid\n",
      "Invalid\n",
      "Invalid\n",
      "Valid\n",
      "Invalid\n",
      "Invalid\n",
      "Valid\n",
      "Invalid\n"
     ]
    }
   ],
   "source": [
    "lists = list(range(1, 17))\n",
    "\n",
    "for i in lists:\n",
    "    if i%3 == 0:\n",
    "        print('Valid')\n",
    "    else:\n",
    "        print('Invalid')   "
   ]
  },
  {
   "cell_type": "code",
   "execution_count": 24,
   "id": "57483317",
   "metadata": {},
   "outputs": [
    {
     "ename": "TypeError",
     "evalue": "'float' object cannot be interpreted as an integer",
     "output_type": "error",
     "traceback": [
      "\u001b[1;31m---------------------------------------------------------------------------\u001b[0m",
      "\u001b[1;31mTypeError\u001b[0m                                 Traceback (most recent call last)",
      "Input \u001b[1;32mIn [24]\u001b[0m, in \u001b[0;36m<cell line: 1>\u001b[1;34m()\u001b[0m\n\u001b[1;32m----> 1\u001b[0m \u001b[38;5;28mlist\u001b[39m(\u001b[38;5;28;43mrange\u001b[39;49m\u001b[43m(\u001b[49m\u001b[38;5;241;43m1\u001b[39;49m\u001b[43m,\u001b[49m\u001b[43m \u001b[49m\u001b[38;5;241;43m3\u001b[39;49m\u001b[43m,\u001b[49m\u001b[43m \u001b[49m\u001b[38;5;241;43m0.25\u001b[39;49m\u001b[43m)\u001b[49m)\n",
      "\u001b[1;31mTypeError\u001b[0m: 'float' object cannot be interpreted as an integer"
     ]
    }
   ],
   "source": [
    "list(range(1, 3, 0.25))"
   ]
  },
  {
   "cell_type": "code",
   "execution_count": 27,
   "id": "7e631d22",
   "metadata": {},
   "outputs": [],
   "source": [
    "import numpy as np"
   ]
  },
  {
   "cell_type": "code",
   "execution_count": 34,
   "id": "818be39a",
   "metadata": {},
   "outputs": [
    {
     "data": {
      "text/plain": [
       "array([1.  , 1.25, 1.5 , 1.75, 2.  ])"
      ]
     },
     "execution_count": 34,
     "metadata": {},
     "output_type": "execute_result"
    }
   ],
   "source": [
    "np.linspace(1, 2, 5)"
   ]
  },
  {
   "cell_type": "code",
   "execution_count": 5,
   "id": "891b0ccf",
   "metadata": {},
   "outputs": [],
   "source": [
    "s = 'Welcome'"
   ]
  },
  {
   "cell_type": "code",
   "execution_count": 6,
   "id": "81705e69",
   "metadata": {},
   "outputs": [
    {
     "data": {
      "text/plain": [
       "1894321250736"
      ]
     },
     "execution_count": 6,
     "metadata": {},
     "output_type": "execute_result"
    }
   ],
   "source": [
    "id(s)"
   ]
  },
  {
   "cell_type": "code",
   "execution_count": 7,
   "id": "8ca0451b",
   "metadata": {},
   "outputs": [],
   "source": [
    "s = s.replace('W','Z')"
   ]
  },
  {
   "cell_type": "code",
   "execution_count": 8,
   "id": "d488ee19",
   "metadata": {},
   "outputs": [
    {
     "data": {
      "text/plain": [
       "'Zelcome'"
      ]
     },
     "execution_count": 8,
     "metadata": {},
     "output_type": "execute_result"
    }
   ],
   "source": [
    "s"
   ]
  },
  {
   "cell_type": "code",
   "execution_count": 10,
   "id": "04596107",
   "metadata": {},
   "outputs": [
    {
     "data": {
      "text/plain": [
       "1894321258160"
      ]
     },
     "execution_count": 10,
     "metadata": {},
     "output_type": "execute_result"
    }
   ],
   "source": [
    "id(s)"
   ]
  },
  {
   "cell_type": "markdown",
   "id": "00e4c2a4",
   "metadata": {},
   "source": [
    "# User Defined Function "
   ]
  },
  {
   "cell_type": "code",
   "execution_count": 5,
   "id": "1aa97d74",
   "metadata": {
    "ExecuteTime": {
     "end_time": "2022-11-20T18:52:18.828504Z",
     "start_time": "2022-11-20T18:52:18.799505Z"
    }
   },
   "outputs": [
    {
     "name": "stdout",
     "output_type": "stream",
     "text": [
      "Local Python Object\n",
      "Inside myFunction\n"
     ]
    },
    {
     "ename": "NameError",
     "evalue": "name 'a' is not defined",
     "output_type": "error",
     "traceback": [
      "\u001b[1;31m---------------------------------------------------------------------------\u001b[0m",
      "\u001b[1;31mNameError\u001b[0m                                 Traceback (most recent call last)",
      "Input \u001b[1;32mIn [5]\u001b[0m, in \u001b[0;36m<cell line: 8>\u001b[1;34m()\u001b[0m\n\u001b[0;32m      4\u001b[0m     \u001b[38;5;28mprint\u001b[39m(\u001b[38;5;124m'\u001b[39m\u001b[38;5;124mInside myFunction\u001b[39m\u001b[38;5;124m'\u001b[39m)\n\u001b[0;32m      6\u001b[0m myFunction()\n\u001b[1;32m----> 8\u001b[0m \u001b[38;5;28mprint\u001b[39m(\u001b[38;5;124m'\u001b[39m\u001b[38;5;124mThe value of a: \u001b[39m\u001b[38;5;124m'\u001b[39m, \u001b[43ma\u001b[49m)\n",
      "\u001b[1;31mNameError\u001b[0m: name 'a' is not defined"
     ]
    }
   ],
   "source": [
    "def myFunction():\n",
    "    a = 'Local Python Object'\n",
    "    print(a)\n",
    "    print('Inside myFunction')\n",
    "\n",
    "myFunction()\n",
    "\n",
    "print('The value of a: ', a)"
   ]
  },
  {
   "cell_type": "code",
   "execution_count": 3,
   "id": "ba091af8",
   "metadata": {
    "ExecuteTime": {
     "end_time": "2022-11-20T18:51:45.508605Z",
     "start_time": "2022-11-20T18:51:45.496603Z"
    }
   },
   "outputs": [
    {
     "name": "stdout",
     "output_type": "stream",
     "text": [
      "Value of Temp:  Global Python Object\n",
      "Inside of myFunction\n",
      "The value of temp in global scope:  Global Python Object\n"
     ]
    }
   ],
   "source": [
    "def myFunction():\n",
    "    global temp\n",
    "    temp = \"Global Python Object\"\n",
    "    print('Value of Temp: ', temp)\n",
    "    print(\"Inside of myFunction\")\n",
    "\n",
    "myFunction()\n",
    "print(\"The value of temp in global scope: \", temp)"
   ]
  },
  {
   "cell_type": "code",
   "execution_count": 6,
   "id": "4a186fd4",
   "metadata": {
    "ExecuteTime": {
     "end_time": "2022-11-20T18:52:20.938156Z",
     "start_time": "2022-11-20T18:52:20.924158Z"
    }
   },
   "outputs": [
    {
     "name": "stdout",
     "output_type": "stream",
     "text": [
      "The value of temp in global scope:  Global Python Object\n"
     ]
    }
   ],
   "source": [
    "def myFunction():\n",
    "    global temp\n",
    "    temp = \"Global Python Object\"\n",
    "    print('Value of Temp: ', temp)\n",
    "    print(\"Inside of myFunction\")\n",
    "\n",
    "# myFunction()\n",
    "print(\"The value of temp in global scope: \", temp)"
   ]
  },
  {
   "cell_type": "code",
   "execution_count": 7,
   "id": "b6c71a00",
   "metadata": {
    "ExecuteTime": {
     "end_time": "2022-11-20T18:52:52.573584Z",
     "start_time": "2022-11-20T18:52:52.555580Z"
    }
   },
   "outputs": [
    {
     "name": "stdout",
     "output_type": "stream",
     "text": [
      "The value of temp in global scope:  Global Python Object\n",
      "Value of Temp:  Global Python Object\n",
      "Inside of myFunction\n"
     ]
    }
   ],
   "source": [
    "def myFunction():\n",
    "    global temp\n",
    "    temp = \"Global Python Object\"\n",
    "    print('Value of Temp: ', temp)\n",
    "    print(\"Inside of myFunction\")\n",
    "\n",
    "print(\"The value of temp in global scope: \", temp)\n",
    "\n",
    "myFunction()"
   ]
  },
  {
   "cell_type": "code",
   "execution_count": 9,
   "id": "003eeaad",
   "metadata": {
    "ExecuteTime": {
     "end_time": "2022-11-20T18:55:37.472367Z",
     "start_time": "2022-11-20T18:55:37.453364Z"
    }
   },
   "outputs": [
    {
     "name": "stdout",
     "output_type": "stream",
     "text": [
      "The value of runscored in main:  1\n"
     ]
    }
   ],
   "source": [
    "#global runscored\n",
    "runscored = 1\n",
    "\n",
    "def localFunction():\n",
    "    runscored = 2 # new local object\n",
    "    print('The value of runscored in localFunction: ', runscored)\n",
    "    \n",
    "print('The value of runscored in main: ', runscored)"
   ]
  },
  {
   "cell_type": "code",
   "execution_count": 11,
   "id": "359c0d0b",
   "metadata": {
    "ExecuteTime": {
     "end_time": "2022-11-20T18:56:16.563615Z",
     "start_time": "2022-11-20T18:56:16.544585Z"
    }
   },
   "outputs": [
    {
     "name": "stdout",
     "output_type": "stream",
     "text": [
      "The value of runscored in main:  1\n",
      "The value of runscored in localFunction:  2\n",
      "After calling the function, The value of runscored in main:  1\n"
     ]
    }
   ],
   "source": [
    "#global runscored\n",
    "runscored = 1\n",
    "\n",
    "def localFunction():\n",
    "    runscored = 2 # new local object\n",
    "    print('The value of runscored in localFunction: ', runscored)\n",
    "    \n",
    "print('The value of runscored in main: ', runscored)\n",
    "localFunction()\n",
    "print('After calling the local function, The value of runscored in main: ', runscored)"
   ]
  },
  {
   "cell_type": "code",
   "execution_count": 2,
   "id": "6505a6f6",
   "metadata": {
    "ExecuteTime": {
     "end_time": "2022-11-21T14:41:23.085441Z",
     "start_time": "2022-11-21T14:41:23.065454Z"
    }
   },
   "outputs": [
    {
     "name": "stdout",
     "output_type": "stream",
     "text": [
      "The value of runscored in main:  1\n",
      "The value of runscored in localFunction:  2\n",
      "After calling the local function, The value of runscored in main:  1\n",
      "The value of runscored in globalFunction():  3\n",
      "After calling the local function, The value of runscored in main:  3\n"
     ]
    }
   ],
   "source": [
    "#global runscored\n",
    "runscored = 1\n",
    "\n",
    "def localFunction():\n",
    "    runscored = 2 # new local object\n",
    "    print('The value of runscored in localFunction: ', runscored)\n",
    "    \n",
    "def globalFunction():\n",
    "    global runscored\n",
    "    runscored = 3\n",
    "    print('The value of runscored in globalFunction(): ', runscored)\n",
    "    \n",
    "print('The value of runscored in main: ', runscored)\n",
    "localFunction()\n",
    "print('After calling the local function, The value of runscored in main: ', runscored)\n",
    "globalFunction()\n",
    "print('After calling the local function, The value of runscored in main: ', runscored)"
   ]
  },
  {
   "cell_type": "code",
   "execution_count": 3,
   "id": "d4da1282",
   "metadata": {
    "ExecuteTime": {
     "end_time": "2022-11-21T14:42:18.934517Z",
     "start_time": "2022-11-21T14:42:18.914516Z"
    }
   },
   "outputs": [
    {
     "name": "stdout",
     "output_type": "stream",
     "text": [
      "The value of runscored in main:  1\n",
      "The value of runscored in localFunction:  2\n",
      "After calling the local function, The value of runscored in main:  1\n",
      "The value of runscored in globalFunction():  3\n",
      "After calling the local function, The value of runscored in main:  3\n",
      "The value of runscored in localFunction:  2\n",
      "After calling the local function, The value of runscored in main:  3\n"
     ]
    }
   ],
   "source": [
    "#global runscored\n",
    "runscored = 1\n",
    "\n",
    "def localFunction():\n",
    "    runscored = 2 # new local object\n",
    "    print('The value of runscored in localFunction: ', runscored)\n",
    "    \n",
    "def globalFunction():\n",
    "    global runscored\n",
    "    runscored = 3\n",
    "    print('The value of runscored in globalFunction(): ', runscored)\n",
    "    \n",
    "print('The value of runscored in main: ', runscored)\n",
    "localFunction()\n",
    "print('After calling the local function, The value of runscored in main: ', runscored)\n",
    "globalFunction()\n",
    "print('After calling the local function, The value of runscored in main: ', runscored)\n",
    "localFunction()\n",
    "print('After calling the local function, The value of runscored in main: ', runscored)"
   ]
  },
  {
   "cell_type": "markdown",
   "id": "78fbeb9a",
   "metadata": {},
   "source": [
    "## Write a program to calculate bmi - body mass indes\n",
    "### BMI = Weight (kg) / Height$^2$ (m$^2$) \n",
    "+ **If BMI <= 18.5 print 'Underweight'**\n",
    "+ **If BMI <= 24.9 print 'Normal'**\n",
    "+ **If BMI <= 29.9 print 'Overweight'**\n",
    "+ **If BMI >= 30.0 print 'Obese'**\n",
    "\n",
    "#### Inputs = 1. Weight and 2. Height"
   ]
  },
  {
   "cell_type": "code",
   "execution_count": 1,
   "id": "4c0065d9",
   "metadata": {
    "ExecuteTime": {
     "end_time": "2022-11-02T15:35:53.287293Z",
     "start_time": "2022-11-02T15:35:48.756872Z"
    }
   },
   "outputs": [
    {
     "name": "stdout",
     "output_type": "stream",
     "text": [
      "Enter your Weight here: (kg)60\n",
      "Enter your Height here: (cm)177\n",
      "'You are Natural Weight'\n"
     ]
    }
   ],
   "source": [
    "weight = float(input('Enter your Weight here: (kg)'))\n",
    "height = float(input ('Enter your Height here: (cm)'))\n",
    "\n",
    "bmi = (weight)/(height/100)**2\n",
    "\n",
    "if bmi < 18.5:\n",
    "    print(\"'You are Under Weight'\")\n",
    "elif  18.5 < bmi < 24.9:\n",
    "    print(\"'You have a Natural Weight'\")\n",
    "elif  25.0 < bmi < 29.9:\n",
    "    print(\"'You are Over Weight'\")\n",
    "else:\n",
    "    print(\"'You are OBESE!'\")"
   ]
  },
  {
   "cell_type": "markdown",
   "id": "2d18ceae",
   "metadata": {},
   "source": [
    "## Factorial of Number"
   ]
  },
  {
   "cell_type": "markdown",
   "id": "4a9bb8fd",
   "metadata": {},
   "source": [
    "### Iterative Approach"
   ]
  },
  {
   "cell_type": "code",
   "execution_count": null,
   "id": "b250da89",
   "metadata": {},
   "outputs": [],
   "source": [
    "# 5! = 5 * 4 * 3 * 2 * 1\n",
    "# 1! = 1\n",
    "# 0! = 1\n",
    "# n! = n * (n-1) * (n-2) * (n-3) * .... * 1"
   ]
  },
  {
   "cell_type": "code",
   "execution_count": 20,
   "id": "9bf009bf",
   "metadata": {
    "ExecuteTime": {
     "end_time": "2022-11-12T09:58:28.355773Z",
     "start_time": "2022-11-12T09:58:28.344755Z"
    }
   },
   "outputs": [],
   "source": [
    "def Iterative_Factorial(num):\n",
    "    result = 1\n",
    "    for i in range(1, num + 1):\n",
    "        result  = result * i\n",
    "    return result"
   ]
  },
  {
   "cell_type": "code",
   "execution_count": 21,
   "id": "97083cc0",
   "metadata": {
    "ExecuteTime": {
     "end_time": "2022-11-12T09:58:28.605112Z",
     "start_time": "2022-11-12T09:58:28.586075Z"
    }
   },
   "outputs": [
    {
     "data": {
      "text/plain": [
       "120"
      ]
     },
     "execution_count": 21,
     "metadata": {},
     "output_type": "execute_result"
    }
   ],
   "source": [
    "Iterative_Factorial(5)"
   ]
  },
  {
   "cell_type": "code",
   "execution_count": 22,
   "id": "554e6e4a",
   "metadata": {
    "ExecuteTime": {
     "end_time": "2022-11-12T09:58:28.871161Z",
     "start_time": "2022-11-12T09:58:28.858166Z"
    }
   },
   "outputs": [
    {
     "data": {
      "text/plain": [
       "720"
      ]
     },
     "execution_count": 22,
     "metadata": {},
     "output_type": "execute_result"
    }
   ],
   "source": [
    "Iterative_Factorial(6)"
   ]
  },
  {
   "cell_type": "code",
   "execution_count": 23,
   "id": "c7a009cf",
   "metadata": {
    "ExecuteTime": {
     "end_time": "2022-11-12T09:58:29.247036Z",
     "start_time": "2022-11-12T09:58:29.242037Z"
    }
   },
   "outputs": [],
   "source": [
    "def Iterative_Factorial(num):\n",
    "    result = 1\n",
    "    for i in range(num, 0, -1):\n",
    "        result  = result * i\n",
    "    return result"
   ]
  },
  {
   "cell_type": "code",
   "execution_count": 24,
   "id": "36b405df",
   "metadata": {
    "ExecuteTime": {
     "end_time": "2022-11-12T09:58:29.682678Z",
     "start_time": "2022-11-12T09:58:29.673682Z"
    }
   },
   "outputs": [
    {
     "data": {
      "text/plain": [
       "120"
      ]
     },
     "execution_count": 24,
     "metadata": {},
     "output_type": "execute_result"
    }
   ],
   "source": [
    "Iterative_Factorial(5)"
   ]
  },
  {
   "cell_type": "code",
   "execution_count": 25,
   "id": "e812633c",
   "metadata": {
    "ExecuteTime": {
     "end_time": "2022-11-12T09:58:33.497068Z",
     "start_time": "2022-11-12T09:58:33.488035Z"
    }
   },
   "outputs": [
    {
     "data": {
      "text/plain": [
       "720"
      ]
     },
     "execution_count": 25,
     "metadata": {},
     "output_type": "execute_result"
    }
   ],
   "source": [
    "Iterative_Factorial(6)"
   ]
  },
  {
   "cell_type": "markdown",
   "id": "56e6f6a7",
   "metadata": {},
   "source": [
    "### Recursive Appraoch"
   ]
  },
  {
   "cell_type": "code",
   "execution_count": null,
   "id": "b0e232db",
   "metadata": {},
   "outputs": [],
   "source": [
    "# 5! = 5 * 4!\n",
    "# n! = n * (n-1)*\n",
    "# 0! = 1\n",
    "# 0! = 1"
   ]
  },
  {
   "cell_type": "code",
   "execution_count": 2,
   "id": "e9983670",
   "metadata": {
    "ExecuteTime": {
     "end_time": "2022-11-12T13:31:28.281330Z",
     "start_time": "2022-11-12T13:31:28.265300Z"
    }
   },
   "outputs": [],
   "source": [
    "def Recursive_Factorial(num):\n",
    "    if num == 0 or num == 1:\n",
    "        return 1\n",
    "    else:\n",
    "        return num * Recursive_Factorial(num - 1)"
   ]
  },
  {
   "cell_type": "code",
   "execution_count": 3,
   "id": "35c2bbb4",
   "metadata": {
    "ExecuteTime": {
     "end_time": "2022-11-12T13:31:28.517298Z",
     "start_time": "2022-11-12T13:31:28.488299Z"
    }
   },
   "outputs": [
    {
     "data": {
      "text/plain": [
       "120"
      ]
     },
     "execution_count": 3,
     "metadata": {},
     "output_type": "execute_result"
    }
   ],
   "source": [
    "Recursive_Factorial(5)"
   ]
  },
  {
   "cell_type": "code",
   "execution_count": 4,
   "id": "079996cb",
   "metadata": {
    "ExecuteTime": {
     "end_time": "2022-11-12T13:31:28.688294Z",
     "start_time": "2022-11-12T13:31:28.667297Z"
    }
   },
   "outputs": [
    {
     "data": {
      "text/plain": [
       "720"
      ]
     },
     "execution_count": 4,
     "metadata": {},
     "output_type": "execute_result"
    }
   ],
   "source": [
    "Recursive_Factorial(6)"
   ]
  },
  {
   "cell_type": "code",
   "execution_count": 7,
   "id": "3a43ca4e",
   "metadata": {
    "ExecuteTime": {
     "end_time": "2022-11-12T13:37:28.635904Z",
     "start_time": "2022-11-12T13:37:28.624902Z"
    }
   },
   "outputs": [
    {
     "data": {
      "text/plain": [
       "1"
      ]
     },
     "execution_count": 7,
     "metadata": {},
     "output_type": "execute_result"
    }
   ],
   "source": [
    "Recursive_Factorial(1)"
   ]
  },
  {
   "cell_type": "markdown",
   "id": "4393af08",
   "metadata": {},
   "source": [
    "## Default Arguments"
   ]
  },
  {
   "cell_type": "code",
   "execution_count": 1,
   "id": "ab630b98",
   "metadata": {
    "ExecuteTime": {
     "end_time": "2022-11-13T09:20:22.587197Z",
     "start_time": "2022-11-13T09:20:22.569026Z"
    }
   },
   "outputs": [],
   "source": [
    "def defaultargumentfunction(x=123):\n",
    "    print(\"The value of x is {}\".format(x))"
   ]
  },
  {
   "cell_type": "code",
   "execution_count": 2,
   "id": "472889e2",
   "metadata": {
    "ExecuteTime": {
     "end_time": "2022-11-13T09:20:35.908068Z",
     "start_time": "2022-11-13T09:20:35.892032Z"
    }
   },
   "outputs": [
    {
     "name": "stdout",
     "output_type": "stream",
     "text": [
      "The value of x is 123\n"
     ]
    }
   ],
   "source": [
    "defaultargumentfunction()"
   ]
  },
  {
   "cell_type": "markdown",
   "id": "dfc49f5e",
   "metadata": {},
   "source": [
    "## Lambda Function"
   ]
  },
  {
   "cell_type": "code",
   "execution_count": null,
   "id": "5ab193de",
   "metadata": {},
   "outputs": [],
   "source": [
    "# Lamda functions\n",
    "# Function with \"NO\" Name\n",
    "# Anonymous Function\n",
    "# One-Liner Functions"
   ]
  },
  {
   "cell_type": "code",
   "execution_count": 3,
   "id": "59936b0d",
   "metadata": {
    "ExecuteTime": {
     "end_time": "2022-11-13T10:07:10.077280Z",
     "start_time": "2022-11-13T10:07:10.065248Z"
    }
   },
   "outputs": [],
   "source": [
    "f =  lambda num: num * num"
   ]
  },
  {
   "cell_type": "code",
   "execution_count": 4,
   "id": "b9ff1d03",
   "metadata": {
    "ExecuteTime": {
     "end_time": "2022-11-13T10:07:15.696974Z",
     "start_time": "2022-11-13T10:07:15.652986Z"
    }
   },
   "outputs": [
    {
     "data": {
      "text/plain": [
       "100"
      ]
     },
     "execution_count": 4,
     "metadata": {},
     "output_type": "execute_result"
    }
   ],
   "source": [
    "f(10)"
   ]
  },
  {
   "cell_type": "code",
   "execution_count": 5,
   "id": "5044b34a",
   "metadata": {
    "ExecuteTime": {
     "end_time": "2022-11-13T10:07:58.781482Z",
     "start_time": "2022-11-13T10:07:58.763490Z"
    }
   },
   "outputs": [
    {
     "data": {
      "text/plain": [
       "function"
      ]
     },
     "execution_count": 5,
     "metadata": {},
     "output_type": "execute_result"
    }
   ],
   "source": [
    "type(f)"
   ]
  },
  {
   "cell_type": "code",
   "execution_count": 7,
   "id": "7edd0827",
   "metadata": {
    "ExecuteTime": {
     "end_time": "2022-11-13T10:08:54.554707Z",
     "start_time": "2022-11-13T10:08:54.547741Z"
    }
   },
   "outputs": [
    {
     "data": {
      "text/plain": [
       "64"
      ]
     },
     "execution_count": 7,
     "metadata": {},
     "output_type": "execute_result"
    }
   ],
   "source": [
    "(lambda num: num * num)(8)"
   ]
  },
  {
   "cell_type": "code",
   "execution_count": 8,
   "id": "e8587441",
   "metadata": {
    "ExecuteTime": {
     "end_time": "2022-11-13T10:16:39.103354Z",
     "start_time": "2022-11-13T10:16:39.088286Z"
    }
   },
   "outputs": [
    {
     "data": {
      "text/plain": [
       "3"
      ]
     },
     "execution_count": 8,
     "metadata": {},
     "output_type": "execute_result"
    }
   ],
   "source": [
    "(lambda x, y: x if x > y else y)(2,3)"
   ]
  },
  {
   "cell_type": "code",
   "execution_count": 9,
   "id": "4b3116b0",
   "metadata": {
    "ExecuteTime": {
     "end_time": "2022-11-13T10:18:11.735078Z",
     "start_time": "2022-11-13T10:18:11.715997Z"
    }
   },
   "outputs": [
    {
     "data": {
      "text/plain": [
       "'100'"
      ]
     },
     "execution_count": 9,
     "metadata": {},
     "output_type": "execute_result"
    }
   ],
   "source": [
    "(lambda x: str(x))(100)"
   ]
  },
  {
   "cell_type": "markdown",
   "id": "86036883",
   "metadata": {},
   "source": [
    "## args and kwargs"
   ]
  },
  {
   "cell_type": "markdown",
   "id": "9682cef9",
   "metadata": {},
   "source": [
    "### Arguments"
   ]
  },
  {
   "cell_type": "code",
   "execution_count": 16,
   "id": "4d7a3c04",
   "metadata": {
    "ExecuteTime": {
     "end_time": "2022-11-13T13:32:55.364999Z",
     "start_time": "2022-11-13T13:32:55.353006Z"
    }
   },
   "outputs": [],
   "source": [
    "def SumofNumber(*args): # *args packing into a tuple\n",
    "    print('Args: ', args)\n",
    "    print('Type of args: ', type(args))\n",
    "    result = 0\n",
    "    for i in args:\n",
    "        result += i\n",
    "    return result"
   ]
  },
  {
   "cell_type": "code",
   "execution_count": 17,
   "id": "f8b312d1",
   "metadata": {
    "ExecuteTime": {
     "end_time": "2022-11-13T13:32:55.961346Z",
     "start_time": "2022-11-13T13:32:55.938312Z"
    }
   },
   "outputs": [
    {
     "name": "stdout",
     "output_type": "stream",
     "text": [
      "Args:  (1, 2, 3, 4)\n",
      "Type of args:  <class 'tuple'>\n"
     ]
    },
    {
     "data": {
      "text/plain": [
       "10"
      ]
     },
     "execution_count": 17,
     "metadata": {},
     "output_type": "execute_result"
    }
   ],
   "source": [
    "SumofNumber(1,2,3,4)"
   ]
  },
  {
   "cell_type": "code",
   "execution_count": 28,
   "id": "4cae9692",
   "metadata": {
    "ExecuteTime": {
     "end_time": "2022-11-13T13:43:12.896328Z",
     "start_time": "2022-11-13T13:43:12.890319Z"
    }
   },
   "outputs": [],
   "source": [
    "t = (5,4,2,3,1)"
   ]
  },
  {
   "cell_type": "code",
   "execution_count": 29,
   "id": "7785d477",
   "metadata": {
    "ExecuteTime": {
     "end_time": "2022-11-13T13:43:28.126330Z",
     "start_time": "2022-11-13T13:43:28.106313Z"
    }
   },
   "outputs": [
    {
     "name": "stdout",
     "output_type": "stream",
     "text": [
      "5\n",
      "4\n",
      "2\n",
      "3\n",
      "1\n"
     ]
    }
   ],
   "source": [
    "for i in t:\n",
    "    print(i)"
   ]
  },
  {
   "cell_type": "code",
   "execution_count": 30,
   "id": "0a4d4153",
   "metadata": {
    "ExecuteTime": {
     "end_time": "2022-11-13T13:44:17.061266Z",
     "start_time": "2022-11-13T13:44:17.037272Z"
    }
   },
   "outputs": [
    {
     "name": "stdout",
     "output_type": "stream",
     "text": [
      "Args:  (5, 4, 2, 3, 1)\n",
      "Type of args:  <class 'tuple'>\n"
     ]
    },
    {
     "data": {
      "text/plain": [
       "15"
      ]
     },
     "execution_count": 30,
     "metadata": {},
     "output_type": "execute_result"
    }
   ],
   "source": [
    "SumofNumber(t[0], t[1], t[2], t[3], t[4])"
   ]
  },
  {
   "cell_type": "code",
   "execution_count": 31,
   "id": "62b400dd",
   "metadata": {
    "ExecuteTime": {
     "end_time": "2022-11-13T13:44:42.598595Z",
     "start_time": "2022-11-13T13:44:42.581559Z"
    }
   },
   "outputs": [
    {
     "name": "stdout",
     "output_type": "stream",
     "text": [
      "Args:  (5, 4, 2, 3, 1)\n",
      "Type of args:  <class 'tuple'>\n"
     ]
    },
    {
     "data": {
      "text/plain": [
       "15"
      ]
     },
     "execution_count": 31,
     "metadata": {},
     "output_type": "execute_result"
    }
   ],
   "source": [
    "SumofNumber(*t) # uppacking the caller side"
   ]
  },
  {
   "cell_type": "code",
   "execution_count": 46,
   "id": "f3762628",
   "metadata": {
    "ExecuteTime": {
     "end_time": "2022-11-13T14:03:57.825502Z",
     "start_time": "2022-11-13T14:03:57.810501Z"
    }
   },
   "outputs": [
    {
     "name": "stdout",
     "output_type": "stream",
     "text": [
      "Args:  (1, 2, 3, 4, 5)\n",
      "Type of args:  <class 'tuple'>\n"
     ]
    },
    {
     "data": {
      "text/plain": [
       "15"
      ]
     },
     "execution_count": 46,
     "metadata": {},
     "output_type": "execute_result"
    }
   ],
   "source": [
    "s = {2, 1, 3, 4, 5}\n",
    "SumofNumber(*s)"
   ]
  },
  {
   "cell_type": "code",
   "execution_count": 32,
   "id": "852c9fb2",
   "metadata": {
    "ExecuteTime": {
     "end_time": "2022-11-13T13:51:04.055512Z",
     "start_time": "2022-11-13T13:50:58.019967Z"
    }
   },
   "outputs": [
    {
     "name": "stdout",
     "output_type": "stream",
     "text": [
      "Enter comma separated numbers to add: 1,2,4,5,3\n"
     ]
    }
   ],
   "source": [
    "userInput = input(\"Enter comma separated numbers to add: \")"
   ]
  },
  {
   "cell_type": "code",
   "execution_count": 33,
   "id": "a2522154",
   "metadata": {
    "ExecuteTime": {
     "end_time": "2022-11-13T13:51:32.825798Z",
     "start_time": "2022-11-13T13:51:32.812765Z"
    }
   },
   "outputs": [
    {
     "data": {
      "text/plain": [
       "['1', '2', '4', '5', '3']"
      ]
     },
     "execution_count": 33,
     "metadata": {},
     "output_type": "execute_result"
    }
   ],
   "source": [
    "userInput.split(',')"
   ]
  },
  {
   "cell_type": "code",
   "execution_count": 38,
   "id": "d6d8a27c",
   "metadata": {
    "ExecuteTime": {
     "end_time": "2022-11-13T13:53:42.278574Z",
     "start_time": "2022-11-13T13:53:42.267575Z"
    }
   },
   "outputs": [
    {
     "data": {
      "text/plain": [
       "[1, 2, 4, 5, 3]"
      ]
     },
     "execution_count": 38,
     "metadata": {},
     "output_type": "execute_result"
    }
   ],
   "source": [
    "newNo = [int(item) for item in userInput.split(',')]\n",
    "newNo"
   ]
  },
  {
   "cell_type": "code",
   "execution_count": 40,
   "id": "0ca8dd80",
   "metadata": {
    "ExecuteTime": {
     "end_time": "2022-11-13T13:54:27.904903Z",
     "start_time": "2022-11-13T13:54:27.883925Z"
    }
   },
   "outputs": [
    {
     "name": "stdout",
     "output_type": "stream",
     "text": [
      "Args:  (1, 2, 4, 5, 3)\n",
      "Type of args:  <class 'tuple'>\n"
     ]
    },
    {
     "data": {
      "text/plain": [
       "15"
      ]
     },
     "execution_count": 40,
     "metadata": {},
     "output_type": "execute_result"
    }
   ],
   "source": [
    "SumofNumber(*newNo)"
   ]
  },
  {
   "cell_type": "code",
   "execution_count": 47,
   "id": "7c7c8568",
   "metadata": {
    "ExecuteTime": {
     "end_time": "2022-11-13T14:04:09.393500Z",
     "start_time": "2022-11-13T14:04:01.429501Z"
    }
   },
   "outputs": [
    {
     "name": "stdout",
     "output_type": "stream",
     "text": [
      "Enter comma separated numbers to add: 1,2,3,4,5,6\n",
      "Args:  (1, 2, 3, 4, 5, 6)\n",
      "Type of args:  <class 'tuple'>\n"
     ]
    },
    {
     "data": {
      "text/plain": [
       "21"
      ]
     },
     "execution_count": 47,
     "metadata": {},
     "output_type": "execute_result"
    }
   ],
   "source": [
    "SumofNumber(*[int(item) for item in input(\"Enter comma separated numbers to add: \").split(',')])"
   ]
  },
  {
   "cell_type": "markdown",
   "id": "102a0430",
   "metadata": {},
   "source": [
    "### Key word arguments (kwargs)"
   ]
  },
  {
   "cell_type": "code",
   "execution_count": 49,
   "id": "9b21c4be",
   "metadata": {
    "ExecuteTime": {
     "end_time": "2022-11-13T14:06:54.390773Z",
     "start_time": "2022-11-13T14:06:54.375775Z"
    }
   },
   "outputs": [],
   "source": [
    "# It is used as dictionary"
   ]
  },
  {
   "cell_type": "code",
   "execution_count": 50,
   "id": "63963ab7",
   "metadata": {
    "ExecuteTime": {
     "end_time": "2022-11-13T14:10:39.239492Z",
     "start_time": "2022-11-13T14:10:39.231492Z"
    }
   },
   "outputs": [],
   "source": [
    "def printplayersdetails(**kwargs): # packing + Dict\n",
    "    print(\"kwargs: \", kwargs)\n",
    "    print(\"Type of kwargs: \", type(kwargs))"
   ]
  },
  {
   "cell_type": "code",
   "execution_count": 52,
   "id": "1fe32df7",
   "metadata": {
    "ExecuteTime": {
     "end_time": "2022-11-13T14:11:15.801565Z",
     "start_time": "2022-11-13T14:11:15.789559Z"
    }
   },
   "outputs": [
    {
     "name": "stdout",
     "output_type": "stream",
     "text": [
      "kwargs:  {'name': 'Virat', 'age': 33, 'team': 'RCB'}\n",
      "Type of kwargs:  <class 'dict'>\n"
     ]
    }
   ],
   "source": [
    "printplayersdetails(name='Virat', age=33, team=\"RCB\")"
   ]
  },
  {
   "cell_type": "code",
   "execution_count": 53,
   "id": "24e59e06",
   "metadata": {
    "ExecuteTime": {
     "end_time": "2022-11-13T14:11:43.598500Z",
     "start_time": "2022-11-13T14:11:43.577500Z"
    }
   },
   "outputs": [
    {
     "name": "stdout",
     "output_type": "stream",
     "text": [
      "kwargs:  {'name': 'Virat', 'age': 33, 'team': 'RCB', 'salary': 1000}\n",
      "Type of kwargs:  <class 'dict'>\n"
     ]
    }
   ],
   "source": [
    "printplayersdetails(name='Virat', age=33, team=\"RCB\", salary=1000)"
   ]
  },
  {
   "cell_type": "code",
   "execution_count": 1,
   "id": "84ec61e2",
   "metadata": {
    "ExecuteTime": {
     "end_time": "2022-11-13T16:31:26.803969Z",
     "start_time": "2022-11-13T16:31:26.783969Z"
    }
   },
   "outputs": [],
   "source": [
    "def printplayersdetails(**kwargs): # packing + Dict\n",
    "    print(\"kwargs: \", kwargs)\n",
    "    print(\"Type of kwargs: \", type(kwargs))\n",
    "    if 'version' not in kwargs:\n",
    "        print(\"Not a valid client\")\n",
    "    elif kwargs['version'] == 'v1':\n",
    "        print(\"Printing for version V1\")\n",
    "    elif kwargs['version'] == 'v2':\n",
    "        print(\"Printing for version V2\")\n",
    "    return"
   ]
  },
  {
   "cell_type": "code",
   "execution_count": 2,
   "id": "d8f25d76",
   "metadata": {
    "ExecuteTime": {
     "end_time": "2022-11-13T16:32:08.668658Z",
     "start_time": "2022-11-13T16:32:08.653657Z"
    }
   },
   "outputs": [
    {
     "name": "stdout",
     "output_type": "stream",
     "text": [
      "kwargs:  {'name': 'Virat', 'age': 33, 'team': 'RCB', 'salary': 1000, 'version': 'v1'}\n",
      "Type of kwargs:  <class 'dict'>\n",
      "Printing for version V1\n"
     ]
    }
   ],
   "source": [
    "printplayersdetails(name='Virat', age=33, team=\"RCB\", salary=1000, version='v1')"
   ]
  },
  {
   "cell_type": "code",
   "execution_count": 3,
   "id": "6ba2333c",
   "metadata": {
    "ExecuteTime": {
     "end_time": "2022-11-13T16:32:16.955755Z",
     "start_time": "2022-11-13T16:32:16.948787Z"
    }
   },
   "outputs": [
    {
     "name": "stdout",
     "output_type": "stream",
     "text": [
      "kwargs:  {'name': 'Virat', 'age': 33, 'team': 'RCB', 'salary': 1000, 'version': 'v2'}\n",
      "Type of kwargs:  <class 'dict'>\n",
      "Printing for version V2\n"
     ]
    }
   ],
   "source": [
    "printplayersdetails(name='Virat', age=33, team=\"RCB\", salary=1000, version='v2')"
   ]
  },
  {
   "cell_type": "code",
   "execution_count": 4,
   "id": "e3792365",
   "metadata": {
    "ExecuteTime": {
     "end_time": "2022-11-13T16:32:27.270097Z",
     "start_time": "2022-11-13T16:32:27.260101Z"
    }
   },
   "outputs": [
    {
     "name": "stdout",
     "output_type": "stream",
     "text": [
      "kwargs:  {'name': 'Virat', 'age': 33, 'team': 'RCB', 'salary': 1000}\n",
      "Type of kwargs:  <class 'dict'>\n",
      "Not a valid client\n"
     ]
    }
   ],
   "source": [
    "printplayersdetails(name='Virat', age=33, team=\"RCB\", salary=1000)"
   ]
  },
  {
   "cell_type": "code",
   "execution_count": 5,
   "id": "6df4f6f7",
   "metadata": {
    "ExecuteTime": {
     "end_time": "2022-11-13T16:34:18.856496Z",
     "start_time": "2022-11-13T16:34:18.844498Z"
    }
   },
   "outputs": [],
   "source": [
    "def printplayersdetails(**kwargs): # packing + Dict\n",
    "    print(\"kwargs: \", kwargs)\n",
    "    print(\"Type of kwargs: \", type(kwargs))\n",
    "    if 'version' not in kwargs:\n",
    "        print(\"Not a valid client\")\n",
    "        return\n",
    "    if kwargs['version'] == 'v1':\n",
    "        print(\"Printing for version V1\")\n",
    "    elif kwargs['version'] == 'v2':\n",
    "        print(\"Printing for version V2\")"
   ]
  },
  {
   "cell_type": "code",
   "execution_count": 6,
   "id": "6548a5eb",
   "metadata": {
    "ExecuteTime": {
     "end_time": "2022-11-13T16:34:26.107824Z",
     "start_time": "2022-11-13T16:34:26.098792Z"
    }
   },
   "outputs": [
    {
     "name": "stdout",
     "output_type": "stream",
     "text": [
      "kwargs:  {'name': 'Virat', 'age': 33, 'team': 'RCB', 'salary': 1000}\n",
      "Type of kwargs:  <class 'dict'>\n",
      "Not a valid client\n"
     ]
    }
   ],
   "source": [
    "printplayersdetails(name='Virat', age=33, team=\"RCB\", salary=1000)"
   ]
  },
  {
   "cell_type": "code",
   "execution_count": 7,
   "id": "db73b109",
   "metadata": {
    "ExecuteTime": {
     "end_time": "2022-11-13T16:34:45.556251Z",
     "start_time": "2022-11-13T16:34:45.548246Z"
    }
   },
   "outputs": [
    {
     "name": "stdout",
     "output_type": "stream",
     "text": [
      "kwargs:  {'name': 'Virat', 'age': 33, 'team': 'RCB', 'salary': 1000, 'version': 'v1'}\n",
      "Type of kwargs:  <class 'dict'>\n",
      "Printing for version V1\n"
     ]
    }
   ],
   "source": [
    "printplayersdetails(name='Virat', age=33, team=\"RCB\", salary=1000, version='v1')"
   ]
  },
  {
   "cell_type": "code",
   "execution_count": 8,
   "id": "b8e11617",
   "metadata": {
    "ExecuteTime": {
     "end_time": "2022-11-13T16:38:40.362929Z",
     "start_time": "2022-11-13T16:38:40.350941Z"
    }
   },
   "outputs": [],
   "source": [
    "d = {\"name\": \"MSD\", 'age':39, \"team\": 'CSK', \"version\":'v2'}"
   ]
  },
  {
   "cell_type": "code",
   "execution_count": 9,
   "id": "6d71b35b",
   "metadata": {
    "ExecuteTime": {
     "end_time": "2022-11-13T16:38:50.769699Z",
     "start_time": "2022-11-13T16:38:50.748701Z"
    }
   },
   "outputs": [
    {
     "name": "stdout",
     "output_type": "stream",
     "text": [
      "kwargs:  {'name': 'MSD', 'age': 39, 'team': 'CSK', 'version': 'v2'}\n",
      "Type of kwargs:  <class 'dict'>\n",
      "Printing for version V2\n"
     ]
    }
   ],
   "source": [
    "printplayersdetails(**d)"
   ]
  },
  {
   "cell_type": "code",
   "execution_count": 10,
   "id": "18f5221e",
   "metadata": {
    "ExecuteTime": {
     "end_time": "2022-11-13T16:39:09.090878Z",
     "start_time": "2022-11-13T16:39:09.085877Z"
    }
   },
   "outputs": [],
   "source": [
    "d = {\"name\": \"MSD\", 'age':39, \"team\": 'CSK', \"version\":'v1'}"
   ]
  },
  {
   "cell_type": "code",
   "execution_count": 11,
   "id": "31d57605",
   "metadata": {
    "ExecuteTime": {
     "end_time": "2022-11-13T16:39:10.925750Z",
     "start_time": "2022-11-13T16:39:10.915579Z"
    }
   },
   "outputs": [
    {
     "name": "stdout",
     "output_type": "stream",
     "text": [
      "kwargs:  {'name': 'MSD', 'age': 39, 'team': 'CSK', 'version': 'v1'}\n",
      "Type of kwargs:  <class 'dict'>\n",
      "Printing for version V1\n"
     ]
    }
   ],
   "source": [
    "printplayersdetails(**d)"
   ]
  },
  {
   "cell_type": "code",
   "execution_count": 13,
   "id": "b368f369",
   "metadata": {
    "ExecuteTime": {
     "end_time": "2022-11-13T16:39:30.112074Z",
     "start_time": "2022-11-13T16:39:30.102965Z"
    }
   },
   "outputs": [],
   "source": [
    "d = {\"name\": \"MSD\", 'age':39, \"team\": 'CSK'}"
   ]
  },
  {
   "cell_type": "code",
   "execution_count": 14,
   "id": "7a8af8ba",
   "metadata": {
    "ExecuteTime": {
     "end_time": "2022-11-13T16:39:30.583790Z",
     "start_time": "2022-11-13T16:39:30.567797Z"
    }
   },
   "outputs": [
    {
     "name": "stdout",
     "output_type": "stream",
     "text": [
      "kwargs:  {'name': 'MSD', 'age': 39, 'team': 'CSK'}\n",
      "Type of kwargs:  <class 'dict'>\n",
      "Not a valid client\n"
     ]
    }
   ],
   "source": [
    "printplayersdetails(**d)"
   ]
  },
  {
   "cell_type": "markdown",
   "id": "227495eb",
   "metadata": {},
   "source": [
    "# Map Functions"
   ]
  },
  {
   "cell_type": "markdown",
   "id": "84e8947e",
   "metadata": {},
   "source": [
    "## Exercise 1"
   ]
  },
  {
   "cell_type": "code",
   "execution_count": null,
   "id": "8cdbab81",
   "metadata": {},
   "outputs": [],
   "source": [
    "# Take a sequence of input (numbers) (which are comma separated) and\n",
    "# Calculate the sum\n",
    "\n",
    "# Enter sequence of numbers: 1, 2, 3, 4, 5\n",
    "# Result 15"
   ]
  },
  {
   "cell_type": "markdown",
   "id": "0dbdcaa0",
   "metadata": {},
   "source": [
    "### Approach 1"
   ]
  },
  {
   "cell_type": "code",
   "execution_count": 16,
   "id": "da41db64",
   "metadata": {
    "ExecuteTime": {
     "end_time": "2022-11-20T13:21:04.415900Z",
     "start_time": "2022-11-20T13:20:57.193546Z"
    }
   },
   "outputs": [
    {
     "name": "stdout",
     "output_type": "stream",
     "text": [
      "Please Enter comma separated Numbers: 1, 2, 3, 4, 5\n",
      "Sum of Entered Numbers:  15\n"
     ]
    }
   ],
   "source": [
    "s = 0\n",
    "for i in input(\"Please Enter comma separated Numbers: \").split(','):\n",
    "    s = s + int(i)\n",
    "print('Sum of Entered Numbers: ',s)"
   ]
  },
  {
   "cell_type": "markdown",
   "id": "15492510",
   "metadata": {},
   "source": [
    "### Approach 2"
   ]
  },
  {
   "cell_type": "code",
   "execution_count": 1,
   "id": "213b08b0",
   "metadata": {
    "ExecuteTime": {
     "end_time": "2022-11-20T14:11:44.575586Z",
     "start_time": "2022-11-20T14:11:28.071338Z"
    }
   },
   "outputs": [
    {
     "name": "stdout",
     "output_type": "stream",
     "text": [
      "Please Enter comma separated Numbers: 4, 1, 3, 5, 2\n",
      "Sum of Entered Numbers:  15\n"
     ]
    }
   ],
   "source": [
    "print(\"Sum of Entered Numbers: \", sum(list(map(int, input(\"Please Enter comma separated Numbers: \").split(',')))))"
   ]
  },
  {
   "cell_type": "code",
   "execution_count": 12,
   "id": "da4061f9",
   "metadata": {
    "ExecuteTime": {
     "end_time": "2022-11-20T14:26:44.184901Z",
     "start_time": "2022-11-20T14:26:31.267992Z"
    }
   },
   "outputs": [
    {
     "name": "stdout",
     "output_type": "stream",
     "text": [
      "Please Enter comma separated Numbers: 1,2,3,4,5,6,7,8,9,10\n",
      "Sum of Entered Numbers:  55\n"
     ]
    }
   ],
   "source": [
    "print(\"Sum of Entered Numbers: \", sum(list(map(int, input(\"Please Enter comma separated Numbers: \").split(',')))))"
   ]
  },
  {
   "cell_type": "markdown",
   "id": "b35183c1",
   "metadata": {},
   "source": [
    "# Filter Function"
   ]
  },
  {
   "cell_type": "code",
   "execution_count": 2,
   "id": "26e0dec4",
   "metadata": {
    "ExecuteTime": {
     "end_time": "2022-11-20T14:15:00.294381Z",
     "start_time": "2022-11-20T14:15:00.277378Z"
    }
   },
   "outputs": [
    {
     "name": "stdout",
     "output_type": "stream",
     "text": [
      "False\n"
     ]
    }
   ],
   "source": [
    "# Find Even number\n",
    "even = lambda n: n % 2 == 0\n",
    "print(even(5))"
   ]
  },
  {
   "cell_type": "code",
   "execution_count": 3,
   "id": "42d0c1b5",
   "metadata": {
    "ExecuteTime": {
     "end_time": "2022-11-20T14:17:42.490627Z",
     "start_time": "2022-11-20T14:17:42.468106Z"
    }
   },
   "outputs": [
    {
     "name": "stdout",
     "output_type": "stream",
     "text": [
      "True\n"
     ]
    }
   ],
   "source": [
    "def isEven(n):\n",
    "    return n % 2 ==0\n",
    "print(isEven(6))"
   ]
  },
  {
   "cell_type": "code",
   "execution_count": 6,
   "id": "8718e731",
   "metadata": {
    "ExecuteTime": {
     "end_time": "2022-11-20T14:22:18.944410Z",
     "start_time": "2022-11-20T14:22:18.926411Z"
    }
   },
   "outputs": [
    {
     "name": "stdout",
     "output_type": "stream",
     "text": [
      "Result using Filter - Even Numbers:  [2, 4, 6, 8, 10, 12, 14]\n"
     ]
    }
   ],
   "source": [
    "print(\"Result using Filter - Even Numbers: \", list(filter(lambda n: n % 2 == 0, range(1,16))))"
   ]
  },
  {
   "cell_type": "code",
   "execution_count": 7,
   "id": "25f48dcd",
   "metadata": {
    "ExecuteTime": {
     "end_time": "2022-11-20T14:22:19.194408Z",
     "start_time": "2022-11-20T14:22:19.184412Z"
    }
   },
   "outputs": [
    {
     "name": "stdout",
     "output_type": "stream",
     "text": [
      "Result using Map - Even Numbers:  [False, True, False, True, False, True, False, True, False, True, False, True, False, True, False]\n"
     ]
    }
   ],
   "source": [
    "print(\"Result using Map - Even Numbers: \", list(map(lambda n: n % 2 == 0, range(1,16))))"
   ]
  },
  {
   "cell_type": "markdown",
   "id": "dc784188",
   "metadata": {},
   "source": [
    "# Reduce Functions"
   ]
  },
  {
   "cell_type": "code",
   "execution_count": 14,
   "id": "fa8e103e",
   "metadata": {
    "ExecuteTime": {
     "end_time": "2022-11-20T14:27:57.968937Z",
     "start_time": "2022-11-20T14:27:57.962936Z"
    }
   },
   "outputs": [],
   "source": [
    "from functools import reduce"
   ]
  },
  {
   "cell_type": "code",
   "execution_count": 17,
   "id": "3e6255b9",
   "metadata": {
    "ExecuteTime": {
     "end_time": "2022-11-20T14:28:48.203524Z",
     "start_time": "2022-11-20T14:28:48.183518Z"
    }
   },
   "outputs": [
    {
     "name": "stdout",
     "output_type": "stream",
     "text": [
      "[1, 2, 3, 4, 5, 6, 7, 8, 9, 10, 11, 12, 13, 14, 15, 16, 17, 18, 19]\n"
     ]
    }
   ],
   "source": [
    "print(list(range(1,20)))"
   ]
  },
  {
   "cell_type": "code",
   "execution_count": 11,
   "id": "f28aaa28",
   "metadata": {
    "ExecuteTime": {
     "end_time": "2022-11-20T14:25:14.430197Z",
     "start_time": "2022-11-20T14:25:14.422194Z"
    }
   },
   "outputs": [
    {
     "name": "stdout",
     "output_type": "stream",
     "text": [
      "15\n"
     ]
    }
   ],
   "source": [
    "myfunc = lambda x, y: x + y\n",
    "print(myfunc(7, 8))"
   ]
  },
  {
   "cell_type": "code",
   "execution_count": 15,
   "id": "9f587bde",
   "metadata": {
    "ExecuteTime": {
     "end_time": "2022-11-20T14:28:00.578603Z",
     "start_time": "2022-11-20T14:28:00.565606Z"
    }
   },
   "outputs": [
    {
     "name": "stdout",
     "output_type": "stream",
     "text": [
      "Result using Reduce Function:  55\n"
     ]
    }
   ],
   "source": [
    "print(\"Result using Reduce Function: \", reduce(lambda x, y: x + y, range(1, 11)))"
   ]
  },
  {
   "cell_type": "code",
   "execution_count": 18,
   "id": "15f50b0b",
   "metadata": {
    "ExecuteTime": {
     "end_time": "2022-11-20T14:30:17.500531Z",
     "start_time": "2022-11-20T14:30:17.491536Z"
    }
   },
   "outputs": [
    {
     "name": "stdout",
     "output_type": "stream",
     "text": [
      "Result using Reduce Function:  120\n"
     ]
    }
   ],
   "source": [
    "print(\"Result using Reduce Function: \", reduce(lambda x, y: x * y, range(1, 6)))"
   ]
  },
  {
   "cell_type": "code",
   "execution_count": null,
   "id": "e44827c4",
   "metadata": {},
   "outputs": [],
   "source": [
    "# Hadoop\n",
    "# Map-Reduce\n",
    "# WordCount\n",
    "# 100 files OR 1 Files = 100GB\n",
    "# 100 parts - 100 * 1 GB => 100 Systems ->\n",
    "# {WordA: 1, WordB: 10, WordC: 35: ....}"
   ]
  },
  {
   "cell_type": "markdown",
   "id": "57d84e5e",
   "metadata": {},
   "source": [
    "# Exception Handling"
   ]
  },
  {
   "cell_type": "code",
   "execution_count": 5,
   "id": "bf0af7d9",
   "metadata": {
    "ExecuteTime": {
     "end_time": "2022-11-21T17:03:45.319483Z",
     "start_time": "2022-11-21T17:03:43.883531Z"
    }
   },
   "outputs": [
    {
     "name": "stdout",
     "output_type": "stream",
     "text": [
      "Enter any number: 5\n",
      "Result:  20.0\n"
     ]
    }
   ],
   "source": [
    "userInput = input(\"Enter any number: \")\n",
    "result = 100 / int(userInput)\n",
    "print(\"Result: \", result)"
   ]
  },
  {
   "cell_type": "code",
   "execution_count": 6,
   "id": "0da1beb8",
   "metadata": {
    "ExecuteTime": {
     "end_time": "2022-11-21T17:50:43.653832Z",
     "start_time": "2022-11-21T17:50:42.695155Z"
    }
   },
   "outputs": [
    {
     "name": "stdout",
     "output_type": "stream",
     "text": [
      "Enter any number: a\n"
     ]
    },
    {
     "ename": "ValueError",
     "evalue": "invalid literal for int() with base 10: 'a'",
     "output_type": "error",
     "traceback": [
      "\u001b[1;31m---------------------------------------------------------------------------\u001b[0m",
      "\u001b[1;31mValueError\u001b[0m                                Traceback (most recent call last)",
      "Input \u001b[1;32mIn [6]\u001b[0m, in \u001b[0;36m<cell line: 2>\u001b[1;34m()\u001b[0m\n\u001b[0;32m      1\u001b[0m userInput \u001b[38;5;241m=\u001b[39m \u001b[38;5;28minput\u001b[39m(\u001b[38;5;124m\"\u001b[39m\u001b[38;5;124mEnter any number: \u001b[39m\u001b[38;5;124m\"\u001b[39m)\n\u001b[1;32m----> 2\u001b[0m result \u001b[38;5;241m=\u001b[39m \u001b[38;5;241m100\u001b[39m \u001b[38;5;241m/\u001b[39m \u001b[38;5;28;43mint\u001b[39;49m\u001b[43m(\u001b[49m\u001b[43muserInput\u001b[49m\u001b[43m)\u001b[49m\n\u001b[0;32m      3\u001b[0m \u001b[38;5;28mprint\u001b[39m(\u001b[38;5;124m\"\u001b[39m\u001b[38;5;124mResult: \u001b[39m\u001b[38;5;124m\"\u001b[39m, result)\n",
      "\u001b[1;31mValueError\u001b[0m: invalid literal for int() with base 10: 'a'"
     ]
    }
   ],
   "source": [
    "userInput = input(\"Enter any number: \")\n",
    "result = 100 / int(userInput)\n",
    "print(\"Result: \", result)"
   ]
  },
  {
   "cell_type": "code",
   "execution_count": 11,
   "id": "5463968e",
   "metadata": {
    "ExecuteTime": {
     "end_time": "2022-11-21T17:53:23.228454Z",
     "start_time": "2022-11-21T17:53:23.211460Z"
    }
   },
   "outputs": [
    {
     "ename": "SyntaxError",
     "evalue": "invalid syntax (1545504434.py, line 7)",
     "output_type": "error",
     "traceback": [
      "\u001b[1;36m  Input \u001b[1;32mIn [11]\u001b[1;36m\u001b[0m\n\u001b[1;33m    excetp ZeroDivisionError:\u001b[0m\n\u001b[1;37m           ^\u001b[0m\n\u001b[1;31mSyntaxError\u001b[0m\u001b[1;31m:\u001b[0m invalid syntax\n"
     ]
    }
   ],
   "source": [
    "try:\n",
    "    userInput = input(\"Enter any number: \")\n",
    "    result = 100 / int(userInput)\n",
    "    print(\"Result: \", result)\n",
    "except ValueError:\n",
    "    print('Please enter only numbers!')"
   ]
  },
  {
   "cell_type": "code",
   "execution_count": 10,
   "id": "eb25516b",
   "metadata": {
    "ExecuteTime": {
     "end_time": "2022-11-21T17:52:44.270281Z",
     "start_time": "2022-11-21T17:52:42.582704Z"
    }
   },
   "outputs": [
    {
     "name": "stdout",
     "output_type": "stream",
     "text": [
      "Enter any number: 0\n"
     ]
    },
    {
     "ename": "ZeroDivisionError",
     "evalue": "division by zero",
     "output_type": "error",
     "traceback": [
      "\u001b[1;31m---------------------------------------------------------------------------\u001b[0m",
      "\u001b[1;31mZeroDivisionError\u001b[0m                         Traceback (most recent call last)",
      "Input \u001b[1;32mIn [10]\u001b[0m, in \u001b[0;36m<cell line: 1>\u001b[1;34m()\u001b[0m\n\u001b[0;32m      1\u001b[0m \u001b[38;5;28;01mtry\u001b[39;00m:\n\u001b[0;32m      2\u001b[0m     userInput \u001b[38;5;241m=\u001b[39m \u001b[38;5;28minput\u001b[39m(\u001b[38;5;124m\"\u001b[39m\u001b[38;5;124mEnter any number: \u001b[39m\u001b[38;5;124m\"\u001b[39m)\n\u001b[1;32m----> 3\u001b[0m     result \u001b[38;5;241m=\u001b[39m \u001b[38;5;241;43m100\u001b[39;49m\u001b[43m \u001b[49m\u001b[38;5;241;43m/\u001b[39;49m\u001b[43m \u001b[49m\u001b[38;5;28;43mint\u001b[39;49m\u001b[43m(\u001b[49m\u001b[43muserInput\u001b[49m\u001b[43m)\u001b[49m\n\u001b[0;32m      4\u001b[0m     \u001b[38;5;28mprint\u001b[39m(\u001b[38;5;124m\"\u001b[39m\u001b[38;5;124mResult: \u001b[39m\u001b[38;5;124m\"\u001b[39m, result)\n\u001b[0;32m      5\u001b[0m \u001b[38;5;28;01mexcept\u001b[39;00m \u001b[38;5;167;01mValueError\u001b[39;00m:\n",
      "\u001b[1;31mZeroDivisionError\u001b[0m: division by zero"
     ]
    }
   ],
   "source": [
    "try:\n",
    "    userInput = input(\"Enter any number: \")\n",
    "    result = 100 / int(userInput)\n",
    "    print(\"Result: \", result)\n",
    "except ValueError:\n",
    "    print('Please enter only numbers!')"
   ]
  },
  {
   "cell_type": "code",
   "execution_count": 13,
   "id": "13960b6d",
   "metadata": {
    "ExecuteTime": {
     "end_time": "2022-11-21T17:54:07.306443Z",
     "start_time": "2022-11-21T17:54:06.253587Z"
    }
   },
   "outputs": [
    {
     "name": "stdout",
     "output_type": "stream",
     "text": [
      "Enter any number: 0\n",
      "Please enter number greater than Zero.\n"
     ]
    }
   ],
   "source": [
    "try:\n",
    "    userInput = input(\"Enter any number: \")\n",
    "    result = 100 / int(userInput)\n",
    "    print(\"Result: \", result)\n",
    "except ValueError:\n",
    "    print('Please enter only numbers!')\n",
    "except ZeroDivisionError:\n",
    "    print(\"Please enter number greater than Zero.\")"
   ]
  },
  {
   "cell_type": "code",
   "execution_count": 14,
   "id": "22a10912",
   "metadata": {
    "ExecuteTime": {
     "end_time": "2022-11-21T17:54:26.066424Z",
     "start_time": "2022-11-21T17:54:23.721857Z"
    }
   },
   "outputs": [
    {
     "name": "stdout",
     "output_type": "stream",
     "text": [
      "Enter any number: 101\n",
      "Result:  0.9900990099009901\n"
     ]
    }
   ],
   "source": [
    "try:\n",
    "    userInput = input(\"Enter any number: \")\n",
    "    result = 100 / int(userInput)\n",
    "    print(\"Result: \", result)\n",
    "except ValueError:\n",
    "    print('Please enter only numbers!')\n",
    "except ZeroDivisionError:\n",
    "    print(\"Please enter number greater than Zero.\")"
   ]
  },
  {
   "cell_type": "code",
   "execution_count": 15,
   "id": "cc798aab",
   "metadata": {
    "ExecuteTime": {
     "end_time": "2022-11-21T17:54:44.930194Z",
     "start_time": "2022-11-21T17:54:42.215050Z"
    }
   },
   "outputs": [
    {
     "name": "stdout",
     "output_type": "stream",
     "text": [
      "Enter any number: %\n",
      "Please enter only numbers!\n"
     ]
    }
   ],
   "source": [
    "try:\n",
    "    userInput = input(\"Enter any number: \")\n",
    "    result = 100 / int(userInput)\n",
    "    print(\"Result: \", result)\n",
    "except ValueError:\n",
    "    print('Please enter only numbers!')\n",
    "except ZeroDivisionError:\n",
    "    print(\"Please enter number greater than Zero.\")"
   ]
  },
  {
   "cell_type": "code",
   "execution_count": 16,
   "id": "5ab42a06",
   "metadata": {
    "ExecuteTime": {
     "end_time": "2022-11-21T18:01:31.018227Z",
     "start_time": "2022-11-21T18:01:28.677232Z"
    }
   },
   "outputs": [
    {
     "name": "stdout",
     "output_type": "stream",
     "text": [
      "Enter any number: i\n",
      "Invalid Input Error Occured\n"
     ]
    }
   ],
   "source": [
    "try:\n",
    "    userInput = input(\"Enter any number: \")\n",
    "    result = 100 / int(userInput)\n",
    "    print(\"Result: \", result)\n",
    "except Exception:\n",
    "    print('Invalid Input Error Occured')"
   ]
  },
  {
   "cell_type": "code",
   "execution_count": 17,
   "id": "0fa5fe0e",
   "metadata": {
    "ExecuteTime": {
     "end_time": "2022-11-21T18:02:23.817444Z",
     "start_time": "2022-11-21T18:02:21.454135Z"
    }
   },
   "outputs": [
    {
     "name": "stdout",
     "output_type": "stream",
     "text": [
      "Enter any number: *\n",
      "Exception Error occured:  invalid literal for int() with base 10: '*'\n"
     ]
    }
   ],
   "source": [
    "try:\n",
    "    userInput = input(\"Enter any number: \")\n",
    "    result = 100 / int(userInput)\n",
    "    print(\"Result: \", result)\n",
    "except Exception as e:\n",
    "    print('Exception Error occured: ', e)"
   ]
  },
  {
   "cell_type": "code",
   "execution_count": 19,
   "id": "d6e5bf65",
   "metadata": {
    "ExecuteTime": {
     "end_time": "2022-11-21T18:03:30.974959Z",
     "start_time": "2022-11-21T18:03:29.432015Z"
    }
   },
   "outputs": [
    {
     "name": "stdout",
     "output_type": "stream",
     "text": [
      "Enter any number: 0\n",
      "Exception Error occured:  division by zero <class 'ZeroDivisionError'>\n"
     ]
    }
   ],
   "source": [
    "try:\n",
    "    userInput = input(\"Enter any number: \")\n",
    "    result = 100 / int(userInput)\n",
    "    print(\"Result: \", result)\n",
    "except Exception as e:\n",
    "    print('Exception Error occured: ', e, e.__class__)"
   ]
  },
  {
   "cell_type": "code",
   "execution_count": 20,
   "id": "6315cc10",
   "metadata": {
    "ExecuteTime": {
     "end_time": "2022-11-21T18:10:55.882825Z",
     "start_time": "2022-11-21T18:10:53.875075Z"
    }
   },
   "outputs": [
    {
     "name": "stdout",
     "output_type": "stream",
     "text": [
      "Enter any number: 0\n",
      "Please enter number greater than Zero.\n"
     ]
    }
   ],
   "source": [
    "try:\n",
    "    userInput = input(\"Enter any number: \")\n",
    "    result = 100 / int(userInput)\n",
    "    print(\"Result: \", result)\n",
    "except ValueError:\n",
    "    print('Please enter only numbers!')\n",
    "except ZeroDivisionError:\n",
    "    print(\"Please enter number greater than Zero.\")\n",
    "except Exception as e:\n",
    "    print('Exception Error occured: ', e, e.__class__, str(e))"
   ]
  },
  {
   "cell_type": "code",
   "execution_count": 22,
   "id": "5b905198",
   "metadata": {
    "ExecuteTime": {
     "end_time": "2022-11-21T18:11:23.921720Z",
     "start_time": "2022-11-21T18:11:20.709136Z"
    }
   },
   "outputs": [
    {
     "name": "stdout",
     "output_type": "stream",
     "text": [
      "Enter any number: 0\n",
      "Exception Error occured:  division by zero <class 'ZeroDivisionError'> division by zero\n"
     ]
    }
   ],
   "source": [
    "try:\n",
    "    userInput = input(\"Enter any number: \")\n",
    "    result = 100 / int(userInput)\n",
    "    print(\"Result: \", result)\n",
    "except Exception as e:\n",
    "    print('Exception Error occured: ', e, e.__class__, str(e))"
   ]
  },
  {
   "cell_type": "code",
   "execution_count": 1,
   "id": "ae7c86fe",
   "metadata": {
    "ExecuteTime": {
     "end_time": "2022-11-22T06:44:03.075319Z",
     "start_time": "2022-11-22T06:44:00.309464Z"
    }
   },
   "outputs": [
    {
     "name": "stdout",
     "output_type": "stream",
     "text": [
      "Enter any number: 0\n",
      "Exception Error occured:  division by zero <class 'ZeroDivisionError'> division by zero ZeroDivisionError\n"
     ]
    }
   ],
   "source": [
    "try:\n",
    "    userInput = input(\"Enter any number: \")\n",
    "    result = 100 / int(userInput)\n",
    "    print(\"Result: \", result)\n",
    "except Exception as e:\n",
    "    print('Exception Error occured: ', e, e.__class__, str(e), type(e).__name__)"
   ]
  },
  {
   "cell_type": "markdown",
   "id": "0bc1b529",
   "metadata": {},
   "source": [
    "# REGEXP Funtions"
   ]
  },
  {
   "cell_type": "code",
   "execution_count": 2,
   "id": "d7c64287",
   "metadata": {
    "ExecuteTime": {
     "end_time": "2022-11-22T07:18:17.201403Z",
     "start_time": "2022-11-22T07:18:17.132406Z"
    }
   },
   "outputs": [
    {
     "name": "stdout",
     "output_type": "stream",
     "text": [
      "['Welcome', 'to', 'Regexp', 'Programming', 'using', 'Python']\n"
     ]
    }
   ],
   "source": [
    "print(str(\"Welcome to   Regexp    Programming   using  Python\").split())"
   ]
  },
  {
   "cell_type": "code",
   "execution_count": 3,
   "id": "2f4ead6e",
   "metadata": {
    "ExecuteTime": {
     "end_time": "2022-11-22T07:18:29.674179Z",
     "start_time": "2022-11-22T07:18:29.657878Z"
    }
   },
   "outputs": [
    {
     "name": "stdout",
     "output_type": "stream",
     "text": [
      "['Welcome', 'to', '', '', 'Regexp', '', '', '', 'Programming', '', '', 'using', '', 'Python']\n"
     ]
    }
   ],
   "source": [
    "print(str(\"Welcome to   Regexp    Programming   using  Python\").split(' '))"
   ]
  },
  {
   "attachments": {
    "image-2.png": {
     "image/png": "[encoded data removed]"
    },
    "image.png": {
     "image/png": "[encoded data removed]"
    }
   },
   "cell_type": "markdown",
   "id": "8b2862b6",
   "metadata": {},
   "source": [
    "![image-2.png](attachment:image-2.png)\n",
    "![image.png](attachment:image.png)"
   ]
  },
  {
   "cell_type": "code",
   "execution_count": 1,
   "id": "222d41c7",
   "metadata": {
    "ExecuteTime": {
     "end_time": "2022-11-22T13:02:09.655795Z",
     "start_time": "2022-11-22T13:02:09.641799Z"
    }
   },
   "outputs": [
    {
     "name": "stdout",
     "output_type": "stream",
     "text": [
      "The value of s       :    Welcome to   Regexp    Programming   using  Python\n",
      "Using regular Split  :  ['Welcome', 'to', '', '', 'Regexp', '', '', '', 'Programming', '', '', 'using', '', 'Python']\n",
      "Regex split using \\s :  ['Welcome', 'to', '', '', 'Regexp', '', '', '', 'Programming', '', '', 'using', '', 'Python']\n",
      "Regex split using \\s+:  ['Welcome', 'to', 'Regexp', 'Programming', 'using', 'Python']\n",
      "Regex split using s+ :  ['Welcome to   Regexp    Programming   u', 'ing  Python']\n"
     ]
    }
   ],
   "source": [
    "import re\n",
    "\n",
    "s = \"Welcome to   Regexp    Programming   using  Python\"\n",
    "print(\"The value of s       :   \", s)\n",
    "\n",
    "print('Using regular Split  : ', s.split(' '))\n",
    "\n",
    "print(\"Regex split using \\s : \", re.split(r\"\\s\", s))\n",
    "\n",
    "print(\"Regex split using \\s+: \", re.split(r\"\\s+\", s))\n",
    "\n",
    "print(\"Regex split using s+ : \", re.split(r\"s+\", s))"
   ]
  },
  {
   "cell_type": "code",
   "execution_count": 27,
   "id": "42c46cd1",
   "metadata": {
    "ExecuteTime": {
     "end_time": "2022-11-22T07:56:16.011142Z",
     "start_time": "2022-11-22T07:56:15.990143Z"
    }
   },
   "outputs": [
    {
     "name": "stdout",
     "output_type": "stream",
     "text": [
      "The value of s         :    Welcome to Regex Programming using Python\n",
      "Regex split using '[]' :  ['W', 'l', 'om', ' to R', 'g', 'x Progr', 'mming using Python']\n"
     ]
    }
   ],
   "source": [
    "s =  \"Welcome to Regex Programming using Python\"\n",
    "\n",
    "print(\"The value of s         :   \", s)\n",
    "\n",
    "print(\"Regex split using '[]' : \", re.split(r\"[a-f]\", s))"
   ]
  },
  {
   "cell_type": "code",
   "execution_count": 3,
   "id": "1eb9a3b3",
   "metadata": {
    "ExecuteTime": {
     "end_time": "2022-11-22T09:42:37.410756Z",
     "start_time": "2022-11-22T09:42:37.400724Z"
    }
   },
   "outputs": [
    {
     "name": "stdout",
     "output_type": "stream",
     "text": [
      "The value of s         :    Welcome to Regex Programming using Python\n",
      "Regex split using '[]' :  ['W', 'come to Regex Progr', 'ming using Python']\n"
     ]
    }
   ],
   "source": [
    "s =  \"Welcome to Regex Programming using Python\"\n",
    "\n",
    "print(\"The value of s         :   \", s)\n",
    "\n",
    "print(\"Regex split using '[]' : \", re.split(r\"[a-f][l-n]\", s))"
   ]
  },
  {
   "cell_type": "code",
   "execution_count": 5,
   "id": "ba01f042",
   "metadata": {
    "ExecuteTime": {
     "end_time": "2022-11-22T10:24:32.124471Z",
     "start_time": "2022-11-22T10:24:32.113507Z"
    }
   },
   "outputs": [
    {
     "name": "stdout",
     "output_type": "stream",
     "text": [
      "Hi\n",
      "11\n",
      "89\n",
      "Main,\n",
      "4th\n",
      "Cross,\n",
      "123\n",
      "Road,\n",
      "Marathalli,\n",
      "5678\n",
      "Bangalore,\n",
      "560023\n",
      "67893\n"
     ]
    }
   ],
   "source": [
    "address = 'Hi 11 89 Main, 4th Cross, 123 Road, Marathalli, 5678 Bangalore, 560023 67893'\n",
    "\n",
    "for i in address.split():\n",
    "    print(i)"
   ]
  },
  {
   "cell_type": "code",
   "execution_count": 25,
   "id": "0b42bee1",
   "metadata": {
    "ExecuteTime": {
     "end_time": "2022-11-22T10:29:35.910815Z",
     "start_time": "2022-11-22T10:29:35.902821Z"
    }
   },
   "outputs": [
    {
     "name": "stdout",
     "output_type": "stream",
     "text": [
      "Finding Numbers using the Pattern:  ['11', '89', '4', '123', '5678', '560023', '67893']\n"
     ]
    }
   ],
   "source": [
    "address = 'Hi 11 89 Main, 4th Cross, 123 Road, Marathalli, 5678 Bangalore, 560023 67893'\n",
    "\n",
    "print(\"Finding Numbers using the Pattern: \", re.findall(r\"\\d+\", address))"
   ]
  },
  {
   "cell_type": "code",
   "execution_count": 75,
   "id": "b5e21014",
   "metadata": {
    "ExecuteTime": {
     "end_time": "2022-11-22T10:43:15.444634Z",
     "start_time": "2022-11-22T10:43:15.426641Z"
    }
   },
   "outputs": [
    {
     "name": "stdout",
     "output_type": "stream",
     "text": [
      "Finding Numbers using the Pattern:  ['11 ', '89 ', '4th', '23 ', '78 ', '23 ']\n"
     ]
    }
   ],
   "source": [
    "address = 'Hi 11 89 Main, 4th Cross, 123 Road, Marathalli, 5678 Bangalore, 560023 67893'\n",
    "\n",
    "print(\"Finding Numbers using the Pattern: \", re.findall(r\"\\d{1}\\S\\D\", address))"
   ]
  },
  {
   "cell_type": "code",
   "execution_count": 85,
   "id": "9208a283",
   "metadata": {
    "ExecuteTime": {
     "end_time": "2022-11-22T10:48:43.485299Z",
     "start_time": "2022-11-22T10:48:43.473298Z"
    }
   },
   "outputs": [
    {
     "name": "stdout",
     "output_type": "stream",
     "text": [
      "['11 ', '89 ', '4th', '23 ', '78 ', '23 ']\n",
      "11  89  4th 23  78  23 \n",
      "Finding Numbers using the Pattern:  None\n"
     ]
    }
   ],
   "source": [
    "address = 'Hi 11 89 Main, 4th Cross, 123 Road, Marathalli, 5678 Bangalore, 560023 67893'\n",
    "\n",
    "lst_Values = re.findall(r\"\\d{1}\\S\\D\", address)\n",
    "\n",
    "print(lst_Values)\n",
    "\n",
    "# using list comprehension\n",
    "listToStr = ' '.join([str(elem) for elem in lst_Values])\n",
    "print(listToStr)\n",
    "\n",
    "print(\"Finding Numbers using the Pattern: \", re.match(r\"\\d$th\", listToStr))"
   ]
  },
  {
   "cell_type": "code",
   "execution_count": 6,
   "id": "ebc5776e",
   "metadata": {
    "ExecuteTime": {
     "end_time": "2022-11-22T13:06:02.919805Z",
     "start_time": "2022-11-22T13:06:02.898802Z"
    }
   },
   "outputs": [
    {
     "name": "stdout",
     "output_type": "stream",
     "text": [
      "Finding Numbers using the Pattern '\\d{6}':  ['560023']\n"
     ]
    }
   ],
   "source": [
    "address = 'Hi 11  89 Main, 4th Cross, 123 Road, Marathalli, 5678 Bangalore, 560023 67893'\n",
    "\n",
    "print(\"Finding Numbers using the Pattern '\\d{6}': \", re.findall(r\"\\d{6}\", address))"
   ]
  },
  {
   "cell_type": "code",
   "execution_count": 8,
   "id": "6eac4af8",
   "metadata": {
    "ExecuteTime": {
     "end_time": "2022-11-22T13:07:04.541704Z",
     "start_time": "2022-11-22T13:07:04.519717Z"
    }
   },
   "outputs": [
    {
     "name": "stdout",
     "output_type": "stream",
     "text": [
      "Finding Numbers using the Pattern '\\s\\d{2}\\s':  [' 11 ']\n"
     ]
    }
   ],
   "source": [
    "address = 'Hi 11 89 Main, 4th Cross, 123 Road, Marathalli, 5678 Bangalore, 560023 67893'\n",
    "\n",
    "print(\"Finding Numbers using the Pattern '\\s\\d{2}\\s': \", re.findall(r\"\\s\\d{2}\\s\", address))"
   ]
  },
  {
   "cell_type": "code",
   "execution_count": 7,
   "id": "f3d30a54",
   "metadata": {
    "ExecuteTime": {
     "end_time": "2022-11-22T13:06:06.579281Z",
     "start_time": "2022-11-22T13:06:06.567289Z"
    }
   },
   "outputs": [
    {
     "name": "stdout",
     "output_type": "stream",
     "text": [
      "Finding Numbers using the Pattern '\\s\\d{2}\\s':  [' 11 ', ' 89 ']\n"
     ]
    }
   ],
   "source": [
    "address = 'Hi 11  89 Main, 4th Cross, 123 Road, Marathalli, 5678 Bangalore, 560023 67893'\n",
    "\n",
    "print(\"Finding Numbers using the Pattern '\\s\\d{2}\\s': \", re.findall(r\"\\s\\d{2}\\s\", address))"
   ]
  },
  {
   "cell_type": "code",
   "execution_count": 9,
   "id": "c3a2e9bf",
   "metadata": {
    "ExecuteTime": {
     "end_time": "2022-11-22T13:07:25.758718Z",
     "start_time": "2022-11-22T13:07:25.751716Z"
    }
   },
   "outputs": [
    {
     "name": "stdout",
     "output_type": "stream",
     "text": [
      "Finding Numbers using the Pattern '\\d{1,6}':  ['11', '89', '4', '123', '5678', '560023', '67893']\n"
     ]
    }
   ],
   "source": [
    "address = 'Hi 11  89 Main, 4th Cross, 123 Road, Marathalli, 5678 Bangalore, 560023 67893'\n",
    "\n",
    "print(\"Finding Numbers using the Pattern '\\d{1,6}': \", re.findall(r\"\\d{1,6}\", address))"
   ]
  },
  {
   "cell_type": "code",
   "execution_count": 11,
   "id": "2a4a118b",
   "metadata": {
    "ExecuteTime": {
     "end_time": "2022-11-22T13:09:12.349427Z",
     "start_time": "2022-11-22T13:09:12.330426Z"
    }
   },
   "outputs": [
    {
     "name": "stdout",
     "output_type": "stream",
     "text": [
      "Finding Numbers using the Pattern '\\s\\d{2}\\s':  [' 11 ', ' 89 ']\n",
      "Finding Numbers using the Pattern '\\s?\\d{2}\\s':  ['69 ', ' 11 ', ' 89 ', '23 ', '78 ', '23 ']\n"
     ]
    }
   ],
   "source": [
    "address = '69 Hi 11  89 Main, 4th Cross, 123 Road, Marathalli, 5678 Bangalore, 560023 67893'\n",
    "\n",
    "print(\"Finding Numbers using the Pattern '\\s\\d{2}\\s': \", re.findall(r\"\\s\\d{2}\\s\", address))\n",
    "\n",
    "print(\"Finding Numbers using the Pattern '\\s?\\d{2}\\s': \", re.findall(r\"\\s?\\d{2}\\s\", address))"
   ]
  },
  {
   "cell_type": "code",
   "execution_count": 14,
   "id": "4f8f4916",
   "metadata": {
    "ExecuteTime": {
     "end_time": "2022-11-22T17:16:44.371172Z",
     "start_time": "2022-11-22T17:16:44.347158Z"
    }
   },
   "outputs": [
    {
     "name": "stdout",
     "output_type": "stream",
     "text": [
      "Finding Numbers using the Pattern '\\s\\d{1}\\D{2}':  [' 4th']\n",
      "Finding Numbers using the Pattern '\\s\\d{1}\\D{2}':  4\n",
      "Finding Numbers using the Pattern '\\s\\d{1}\\D{2}':  4\n"
     ]
    }
   ],
   "source": [
    "address = 'Hi 11  89 Main, 4th Cross, 123 Road, Marathalli, 5678 Bangalore, 560023 67893'\n",
    "\n",
    "print(\"Finding Numbers using the Pattern '\\s\\d{1}\\D{2}': \", re.findall(r\"\\s\\d{1}\\D{2}\", address))\n",
    "\n",
    "lstValues = ''.join(re.findall(r\"\\s\\d{1}\\D{2}\", address))\n",
    "\n",
    "print(\"Finding Numbers using the Pattern '\\s\\d{1}\\D{2}': \",  ''.join(re.findall(r\"\\d{1}\", lstValues)))\n",
    "\n",
    "print(\"Finding Numbers using the Pattern '\\s(\\d{1})\\D{2}': \", ''.join(re.findall(r\"\\s(\\d{1})\\D{2}\", address)))"
   ]
  },
  {
   "cell_type": "code",
   "execution_count": 15,
   "id": "cd49a99d",
   "metadata": {
    "ExecuteTime": {
     "end_time": "2022-11-22T17:17:20.541533Z",
     "start_time": "2022-11-22T17:17:20.531535Z"
    }
   },
   "outputs": [
    {
     "name": "stdout",
     "output_type": "stream",
     "text": [
      "Finding Numbers using the Pattern '\\s\\d{3}\\s\\D{4}':  [' 123 Road']\n",
      "Finding Numbers using the Pattern '\\s\\d{3}\\s\\D{4}':  123\n",
      "Finding Numbers using the Pattern '\\s\\d{3}\\s\\D{4}':  123\n"
     ]
    }
   ],
   "source": [
    "address = 'Hi 11  89 Main, 4th Cross, 123 Road, Marathalli, 5678 Bangalore, 560023 67893'\n",
    "\n",
    "print(\"Finding Numbers using the Pattern '\\s\\d{3}\\s\\D{4}': \", re.findall(r\"\\s\\d{3}\\s\\D{4}\", address))\n",
    "\n",
    "lstValues = ''.join(re.findall(r\"\\s\\d{3}\\s\\D{4}\", address))\n",
    "\n",
    "print(\"Finding Numbers using the Pattern '\\s\\d{3}\\s\\D{4}': \",  ''.join(re.findall(r\"\\d{3}\", lstValues)))\n",
    "\n",
    "print(\"Finding Numbers using the Pattern '\\s(\\d{3})\\s\\D{4}': \", ''.join(re.findall(r\"\\s(\\d{3})\\s\\D{4}\", address)))"
   ]
  },
  {
   "cell_type": "code",
   "execution_count": 18,
   "id": "c27442bf",
   "metadata": {
    "ExecuteTime": {
     "end_time": "2022-11-22T17:18:08.330835Z",
     "start_time": "2022-11-22T17:18:08.316836Z"
    }
   },
   "outputs": [
    {
     "name": "stdout",
     "output_type": "stream",
     "text": [
      "Finding Numbers using the Pattern '\\s\\d{3}\\s\\D{4}'   :  [' 123 Road']\n",
      "Finding Numbers using the Pattern '\\s\\d{3}\\s\\D{4}'   :  123\n",
      "Finding Numbers using the Pattern '\\s(\\d{3})\\s\\D{4}' :  123\n"
     ]
    }
   ],
   "source": [
    "address = 'Hi 11  89 Main, 4th Cross, 123 Road, Marathalli, 5678 Bangalore, 560023 67893'\n",
    "\n",
    "print(\"Finding Numbers using the Pattern '\\s\\d{3}\\s\\D{4}'   : \", re.findall(r\"\\s\\d{3}\\sRoad\", address))\n",
    "\n",
    "lstValues = ''.join(re.findall(r\"\\s\\d{3}\\sRoad\", address))\n",
    "\n",
    "print(\"Finding Numbers using the Pattern '\\s\\d{3}\\s\\D{4}'   : \",  ''.join(re.findall(r\"\\d{3}\", lstValues)))\n",
    "\n",
    "print(\"Finding Numbers using the Pattern '\\s(\\d{3})\\s\\D{4}' : \", ''.join(re.findall(r\"\\s(\\d{3})\\sRoad\", address)))"
   ]
  },
  {
   "cell_type": "code",
   "execution_count": 12,
   "id": "75771f3b",
   "metadata": {
    "ExecuteTime": {
     "end_time": "2022-11-22T13:15:08.862218Z",
     "start_time": "2022-11-22T13:15:08.842214Z"
    }
   },
   "outputs": [],
   "source": [
    "s = '''\n",
    "<html>\n",
    "<head>\n",
    "<title>Current IP Address Allocations\n",
    "</title>\n",
    "</head>\n",
    "<body>\n",
    "IP Address are 172.45.78.109\n",
    "LoopBack Address: 127.0.0.1\n",
    "Computer 1: 10.67.89.101\n",
    "Computer 2: 11.67.98.102\n",
    "Computer 2: 12.68.98.102\n",
    "</body>\n",
    "</html>\n",
    "'''"
   ]
  },
  {
   "cell_type": "code",
   "execution_count": 25,
   "id": "4e9ece32",
   "metadata": {
    "ExecuteTime": {
     "end_time": "2022-11-22T13:20:27.327946Z",
     "start_time": "2022-11-22T13:20:27.316919Z"
    }
   },
   "outputs": [
    {
     "name": "stdout",
     "output_type": "stream",
     "text": [
      "IP Address:  ['172.45.78.109', '127.0.0.1', '10.67.89.101', '11.67.98.102', '12.68.98.102']\n"
     ]
    }
   ],
   "source": [
    "# IP Address : 4 parts (octets)\n",
    "\n",
    "lstValues = re.findall(r\"\\d{1,3}\\.\\d{1,3}\\.\\d{1,3}\\.\\d{1,3}\", s)\n",
    "print(\"IP Address: \", lstValues)"
   ]
  },
  {
   "cell_type": "code",
   "execution_count": 56,
   "id": "e4a9dee3",
   "metadata": {
    "ExecuteTime": {
     "end_time": "2022-11-22T13:29:42.180322Z",
     "start_time": "2022-11-22T13:29:42.167324Z"
    }
   },
   "outputs": [],
   "source": [
    "s = '''\n",
    "<html>\n",
    "<head>\n",
    "<title>Current IP Address Allocations\n",
    "</title>\n",
    "</head>\n",
    "<body>\n",
    "IP Address are 172.45.78.109\n",
    "LoopBack Address: 127.0.0.1\n",
    "Computer 1: 10.67.89.101\n",
    "Computer 2: 11.67.98.102\n",
    "Computer 2: 10.68.98.102\n",
    "</body>\n",
    "</html>\n",
    "'''"
   ]
  },
  {
   "cell_type": "code",
   "execution_count": 58,
   "id": "3ab6d735",
   "metadata": {
    "ExecuteTime": {
     "end_time": "2022-11-22T13:30:48.736435Z",
     "start_time": "2022-11-22T13:30:48.717466Z"
    }
   },
   "outputs": [
    {
     "name": "stdout",
     "output_type": "stream",
     "text": [
      "IP Address:  ['10.67.89.101', '10.68.98.102']\n"
     ]
    }
   ],
   "source": [
    "# Find only those IP Address that starts with 10\n",
    "\n",
    "lstValues = re.findall(r\"10\\.\\d{1,3}\\.\\d{1,3}\\.\\d{1,3}\", s)\n",
    "print(\"IP Address: \", lstValues)"
   ]
  },
  {
   "cell_type": "code",
   "execution_count": 102,
   "id": "cfcc5177",
   "metadata": {
    "ExecuteTime": {
     "end_time": "2022-11-22T13:53:31.385567Z",
     "start_time": "2022-11-22T13:53:31.366566Z"
    }
   },
   "outputs": [
    {
     "name": "stdout",
     "output_type": "stream",
     "text": [
      "IP Address:  ['10.67.89.101', '11.67.98.102', '10.68.98.102']\n"
     ]
    }
   ],
   "source": [
    "# Find only those IP Address that starts with 10 or 11\n",
    "\n",
    "lstValues = re.findall(r\"1[0-1]\\.\\d{1,3}\\.\\d{1,3}\\.\\d{1,3}\", s)\n",
    "print(\"IP Address: \", lstValues)"
   ]
  },
  {
   "cell_type": "code",
   "execution_count": 103,
   "id": "00e27d3d",
   "metadata": {
    "ExecuteTime": {
     "end_time": "2022-11-22T17:52:04.935487Z",
     "start_time": "2022-11-22T17:52:04.916486Z"
    }
   },
   "outputs": [
    {
     "name": "stdout",
     "output_type": "stream",
     "text": [
      "Output:  9\n",
      "Output:  9\n",
      "Output:  9\n"
     ]
    }
   ],
   "source": [
    "# Find the age from the address \n",
    "\n",
    "address = \"R.Kesavan aged 9, residing at D.NO 59 Eswaran Koil St\"\n",
    "\n",
    "print(\"Output: \", ''.join(re.findall(r\"\\d{1,2}\", ''.join(re.findall(r\"aged\\s\\d{1,2}|\\s\\d{1,2}\\syears|\\s\\d{1,2}yrs|aged\\s\\D+\\d{1,2}|age\\d{1,2}\", address)))))\n",
    "\n",
    "print(\"Output: \", ''.join(re.findall(r\"[age|aged]\\s?\\D{1,4}?\\s?(\\d{1,2}),|\\s\\d{1,2}\\syears|\\s\\d{1,2}yrs\", address)))\n",
    "\n",
    "print(\"Output: \", ''.join(re.findall(r\"[age|aged]?\\s?\\D{4}?\\s?\\D{1,4}?\\s?(\\d{1,2}),?\\s?[yrs|years]?,\", address)))"
   ]
  },
  {
   "cell_type": "code",
   "execution_count": 104,
   "id": "6a4c600a",
   "metadata": {
    "ExecuteTime": {
     "end_time": "2022-11-22T17:52:05.550844Z",
     "start_time": "2022-11-22T17:52:05.540822Z"
    }
   },
   "outputs": [
    {
     "name": "stdout",
     "output_type": "stream",
     "text": [
      "Output:  63\n",
      "Output:  63\n",
      "Output:  63\n"
     ]
    }
   ],
   "source": [
    "address = \"R.Kesavan age63, residing at D.NO 59 Eswaran Koil St\"\n",
    "\n",
    "print(\"Output: \", ''.join(re.findall(r\"\\d{1,2}\", ''.join(re.findall(r\"aged\\s\\d{1,2}|\\s\\d{1,2}\\syears|\\s\\d{1,2}yrs|aged\\s\\D+\\d{1,2}|age\\d{1,2}\", address)))))\n",
    "\n",
    "print(\"Output: \", ''.join(re.findall(r\"[age|aged]\\s?\\D{1,4}?\\s?(\\d{1,2}),|\\s\\d{1,2}\\syears|\\s\\d{1,2}yrs\", address)))\n",
    "\n",
    "print(\"Output: \", ''.join(re.findall(r\"[age|aged]?\\s?\\D{4}?\\s?\\D{1,4}?\\s?(\\d{1,2}),?\\s?[yrs|years]?,\", address)))"
   ]
  },
  {
   "cell_type": "code",
   "execution_count": 105,
   "id": "f5f15baa",
   "metadata": {
    "ExecuteTime": {
     "end_time": "2022-11-22T17:52:13.083858Z",
     "start_time": "2022-11-22T17:52:13.062859Z"
    }
   },
   "outputs": [
    {
     "name": "stdout",
     "output_type": "stream",
     "text": [
      "Output:  61\n",
      "Output:  61\n",
      "Output:  61\n"
     ]
    }
   ],
   "source": [
    "address = \"12-4-67 , R.Kesavan aged about 61, residing at D.NO 59 Eswaran Koil St\"\n",
    "\n",
    "print(\"Output: \", ''.join(re.findall(r\"\\d{1,2}\", ''.join(re.findall(r\"aged\\s\\d{1,2}|\\s\\d{1,2}\\syears|\\s\\d{1,2}yrs|aged\\s\\D+\\d{1,2}|age\\d{1,2}\", address)))))\n",
    "\n",
    "print(\"Output: \", ''.join(re.findall(r\"[age|aged]\\s?\\D{1,4}?\\s?(\\d{1,2}),|\\s\\d{1,2}\\syears|\\s\\d{1,2}yrs\", address)))\n",
    "\n",
    "print(\"Output: \", ''.join(re.findall(r\"[age|aged]?\\s?\\D{4}?\\s?\\D{1,4}?\\s?(\\d{1,2}),?\\s?[yrs|years]?,\", address)))"
   ]
  },
  {
   "cell_type": "code",
   "execution_count": 102,
   "id": "65b56f3e",
   "metadata": {
    "ExecuteTime": {
     "end_time": "2022-11-22T17:51:30.376325Z",
     "start_time": "2022-11-22T17:51:30.364334Z"
    }
   },
   "outputs": [
    {
     "name": "stdout",
     "output_type": "stream",
     "text": [
      "Output:  46\n",
      "Output:  \n"
     ]
    }
   ],
   "source": [
    "address = \"16th street R.Kesavan age 46yrs, residing at D.NO 59 Eswaran Koil St\"\n",
    "\n",
    "print(\"Output: \", ''.join(re.findall(r\"\\d{1,2}\", ''.join(re.findall(r\"aged\\s\\d{1,2}|\\s\\d{1,2}\\syears|\\s\\d{1,2}yrs|aged\\s\\D+\\d{1,2}|age\\d{1,2}\", address)))))\n",
    "\n",
    "print(\"Output: \", ''.join(re.findall(r\"[age|aged]?\\s?\\D{4}?\\s?\\D{1,4}?\\s?(\\d{1,2}),?\\s?[yrs|years]?,\", address)))"
   ]
  },
  {
   "cell_type": "code",
   "execution_count": 89,
   "id": "3ee90bd5",
   "metadata": {
    "ExecuteTime": {
     "end_time": "2022-11-22T17:48:13.214349Z",
     "start_time": "2022-11-22T17:48:13.197347Z"
    }
   },
   "outputs": [
    {
     "name": "stdout",
     "output_type": "stream",
     "text": [
      "Output:  60\n",
      "Output:  \n"
     ]
    }
   ],
   "source": [
    "address = \"13/35 agedabout 60 years, residing at D.NO 59 Eswaran Koil St\"\n",
    "\n",
    "print(\"Output: \", ''.join(re.findall(r\"\\d{1,2}\", ''.join(re.findall(r\"aged\\s\\d{1,2}|\\s\\d{1,2}\\syears|\\s\\d{1,2}yrs|aged\\s\\D+\\d{1,2}|age\\d{1,2}\", address)))))\n",
    "\n",
    "print(\"Output: \", ''.join(re.findall(r\"[age|aged]?\\D{4}?\\s?\\D{1,4}?\\s?(\\d{1,2}),?\\s?[$yrs|$years]?,\", address)))"
   ]
  },
  {
   "cell_type": "code",
   "execution_count": 94,
   "id": "cf76b00b",
   "metadata": {
    "ExecuteTime": {
     "end_time": "2022-11-22T17:49:15.578978Z",
     "start_time": "2022-11-22T17:49:15.563972Z"
    }
   },
   "outputs": [
    {
     "name": "stdout",
     "output_type": "stream",
     "text": [
      "Output:  37\n",
      "Output:  \n"
     ]
    }
   ],
   "source": [
    "address = \"Room no 43 R.Kesavan aged about 37 years, residing at D.NO 59 Eswaran Koil St\"\n",
    "\n",
    "print(\"Output: \", ''.join(re.findall(r\"\\d{1,2}\", ''.join(re.findall(r\"aged\\s\\d{1,2}|\\s\\d{1,2}\\syears|\\s\\d{1,2}yrs|aged\\s\\D+\\d{1,2}|age\\d{1,2}\", address)))))\n",
    "\n",
    "print(\"Output: \", ''.join(re.findall(r\"[age|aged]?\\s?\\D{4}?\\s?\\D{1,4}?\\s?(\\d{1,2}),?\\s?[$yrs|$years]?,\", address)))"
   ]
  },
  {
   "cell_type": "code",
   "execution_count": 125,
   "id": "1475bdf8",
   "metadata": {
    "ExecuteTime": {
     "end_time": "2022-11-22T17:57:41.242886Z",
     "start_time": "2022-11-22T17:57:41.227258Z"
    }
   },
   "outputs": [
    {
     "name": "stdout",
     "output_type": "stream",
     "text": [
      "Output:  56\n",
      "Output:  \n"
     ]
    }
   ],
   "source": [
    "address = \"Door no 32 R.Kesavan 56yrs, residing at D.NO 59 Eswaran Koil St\"\n",
    "\n",
    "print(\"Output: \", ''.join(re.findall(r\"\\d{1,2}\", ''.join(re.findall(r\"aged\\s\\d{1,2}|\\s\\d{1,2}\\syears|\\s\\d{1,2}yrs|aged\\s\\D+\\d{1,2}|age\\d{1,2}\", address)))))\n",
    "\n",
    "print(\"Output: \", ''.join(re.findall(r\"[^age|^aged]?\\D{4}?\\s?\\D{1,4}?\\s?(\\d{1,2}),?\\s?[$yrs|$years]?,\", address)))"
   ]
  },
  {
   "cell_type": "code",
   "execution_count": 104,
   "id": "964eae90",
   "metadata": {
    "ExecuteTime": {
     "end_time": "2022-11-22T14:00:01.624375Z",
     "start_time": "2022-11-22T14:00:01.615348Z"
    }
   },
   "outputs": [
    {
     "name": "stdout",
     "output_type": "stream",
     "text": [
      "Valid Credit Card Number is:  3775 123456 78910\n"
     ]
    }
   ],
   "source": [
    "# Find the valid credit card number with pattern below\n",
    "\n",
    "empDetails = \"Hi I have a credit card with number 3775 123456 78910 and \" \\\n",
    "\"other card is\" \\\n",
    "\"3545 456789 12345\"\n",
    "\n",
    "#http://www.getcreditcardnumbers.com\n",
    "\n",
    "# AMEX Card\n",
    "# Always Start with 3\n",
    "# Second Digit is either 4 or 7\n",
    "# <4 Digit> <6 Digit> <5 Digit>\n",
    "\n",
    "print(\"Valid Credit Card Number is: \", ''.join(re.findall(r\"3[4|7]\\d{2}\\s\\d{6}\\s\\d{5}\", empDetails)))"
   ]
  },
  {
   "cell_type": "code",
   "execution_count": 128,
   "id": "1abe31bf",
   "metadata": {
    "ExecuteTime": {
     "end_time": "2022-11-22T15:00:49.123070Z",
     "start_time": "2022-11-22T15:00:49.103070Z"
    }
   },
   "outputs": [
    {
     "name": "stdout",
     "output_type": "stream",
     "text": [
      "Names of players ['Rohit', 'Virat', 'Dhawan']\n",
      "Scores of players [' 122', ' 96', ' 46']\n",
      "Expected:  {'Rohit': ' 122', 'Virat': ' 96', 'Dhawan': ' 46'}\n",
      "Expected:  {'Rohit': ' 122', 'Virat': ' 96', 'Dhawan': ' 46'}\n"
     ]
    }
   ],
   "source": [
    "sampleString = '''\n",
    "Rohit made 122 runs, Virat made 96 runs, and Dhawan made 46 runs and we won the match.'''\n",
    "\n",
    "#Expected: {\"Rohit\": 122, \"Virat\": 96, \"Dhawan\": 46}\n",
    "\n",
    "keys =  re.findall(r\"[A-Z][a-z]+\", sampleString)\n",
    "values = re.findall(r\"\\s\\d+\", sampleString)\n",
    "\n",
    "print('Names of players', keys)\n",
    "print('Scores of players', values)\n",
    "print('Expected: ', {keys[i]: values[i] for i in range(len(keys))})\n",
    "print('Expected: ', dict(zip(keys, values)))"
   ]
  },
  {
   "cell_type": "code",
   "execution_count": 7,
   "id": "4ed0f13a",
   "metadata": {
    "ExecuteTime": {
     "end_time": "2022-11-22T17:14:03.312268Z",
     "start_time": "2022-11-22T17:14:03.300272Z"
    }
   },
   "outputs": [
    {
     "name": "stdout",
     "output_type": "stream",
     "text": [
      "Find all matches for format Month day\n",
      "['June 24', 'August 9', 'Dec 12']\n"
     ]
    }
   ],
   "source": [
    "import re\n",
    "\n",
    "print(\"Find all matches for format Month day\") \n",
    "matches = re.findall(r\"[A-Z][a-z]+\\s\\d{1,2}\", \"These are the match dates June 24, August 9, Dec 12\") \n",
    "print(matches)"
   ]
  },
  {
   "cell_type": "code",
   "execution_count": 114,
   "id": "714f93a7",
   "metadata": {
    "ExecuteTime": {
     "end_time": "2022-11-22T17:54:24.918898Z",
     "start_time": "2022-11-22T17:54:24.906765Z"
    }
   },
   "outputs": [
    {
     "name": "stdout",
     "output_type": "stream",
     "text": [
      "Find all matches for format Month day\n",
      "['June', 'August', 'Dec']\n"
     ]
    }
   ],
   "source": [
    "print(\"Find all matches for format Month day\") \n",
    "matches = re.findall(r\"([A-Z][a-z]+)\\s?\\d{1,2}?\", \"These are the match dates June 24, August 9, Dec 12\") \n",
    "print(matches)"
   ]
  },
  {
   "cell_type": "code",
   "execution_count": 113,
   "id": "b24d7892",
   "metadata": {
    "ExecuteTime": {
     "end_time": "2022-11-22T17:54:11.647942Z",
     "start_time": "2022-11-22T17:54:11.638943Z"
    }
   },
   "outputs": [
    {
     "name": "stdout",
     "output_type": "stream",
     "text": [
      "Find all matches for format Month day\n",
      "['24', '9', '12']\n"
     ]
    }
   ],
   "source": [
    "print(\"Find all matches for format Month day\") \n",
    "matches = re.findall(r\"[A-Z][a-z]+\\s?(\\d{1,2})\", \"These are the match dates June 24, August 9, Dec 12, and Nov\") \n",
    "print(matches)"
   ]
  },
  {
   "cell_type": "code",
   "execution_count": 121,
   "id": "ef8f2a13",
   "metadata": {
    "ExecuteTime": {
     "end_time": "2022-11-22T17:55:40.404630Z",
     "start_time": "2022-11-22T17:55:40.394635Z"
    }
   },
   "outputs": [
    {
     "name": "stdout",
     "output_type": "stream",
     "text": [
      "Find all matches for format Month day\n",
      "['June', 'August', 'Dec']\n"
     ]
    }
   ],
   "source": [
    "print(\"Find all matches for format Month day\") \n",
    "matches = re.findall(r\"\\s([A-Z][a-z]{2,6})\\s?\\d{1,2}?\", \"These are the match dates June 24, August 9, Dec 12, and Nov\") \n",
    "print(matches)"
   ]
  },
  {
   "cell_type": "code",
   "execution_count": 122,
   "id": "2de74462",
   "metadata": {
    "ExecuteTime": {
     "end_time": "2022-11-22T17:56:31.835321Z",
     "start_time": "2022-11-22T17:56:31.820323Z"
    }
   },
   "outputs": [
    {
     "name": "stdout",
     "output_type": "stream",
     "text": [
      "Find all matches for format Month day\n",
      "[('June', '24'), ('August', '9'), ('Dec', '12')]\n"
     ]
    }
   ],
   "source": [
    "print(\"Find all matches for format Month day\") \n",
    "matches = re.findall(r\"([A-Z][a-z]+)\\s?(\\d{1,2})\", \"These are the match dates June 24, August 9, Dec 12, and Nov\") \n",
    "print(matches)"
   ]
  },
  {
   "cell_type": "code",
   "execution_count": 137,
   "id": "159ccba4",
   "metadata": {
    "ExecuteTime": {
     "end_time": "2022-11-22T18:09:17.239801Z",
     "start_time": "2022-11-22T18:09:17.227798Z"
    }
   },
   "outputs": [
    {
     "name": "stdout",
     "output_type": "stream",
     "text": [
      "emails:  ['alice@google.com', 'helloab@abc.com', '23@gmail.com', 'my23@gmail.com']\n"
     ]
    }
   ],
   "source": [
    "S = \"purple alice@google.com abcde helloab@abc.com ---@gmail.com 23@gmail.com my23@gmail.com\"\n",
    "emails = re.findall(r\"[a-z0-9]+\\w?@[a-z]+.com\", S)\n",
    "print(\"emails: \",emails)"
   ]
  },
  {
   "cell_type": "code",
   "execution_count": 136,
   "id": "f9a01543",
   "metadata": {
    "ExecuteTime": {
     "end_time": "2022-11-22T18:09:06.559962Z",
     "start_time": "2022-11-22T18:09:06.551956Z"
    }
   },
   "outputs": [
    {
     "name": "stdout",
     "output_type": "stream",
     "text": [
      "emails:  ['alice@google.com', 'helloab@abc.com', '23@gmail.com', 'my23@gmail.com']\n"
     ]
    }
   ],
   "source": [
    "print(\"emails: \", re.findall(r\"\\w+@\\w+\\.\\w+\", S))"
   ]
  },
  {
   "cell_type": "code",
   "execution_count": 144,
   "id": "84b66a1e",
   "metadata": {
    "ExecuteTime": {
     "end_time": "2022-11-22T18:11:33.165539Z",
     "start_time": "2022-11-22T18:11:33.144485Z"
    }
   },
   "outputs": [
    {
     "name": "stdout",
     "output_type": "stream",
     "text": [
      "emails:  ['alice@google.com', 'helloab@abc.com', 'my23@gmail.com']\n"
     ]
    }
   ],
   "source": [
    "S = \"purple alice@google.com abcde helloab@abc.com ---@gmail.com 23@gmail.com my23@gmail.com\"\n",
    "emails = re.findall(r\"[A-Za-z]+\\w+?@[a-z]+.com\", S)\n",
    "print(\"emails: \",emails)"
   ]
  },
  {
   "cell_type": "code",
   "execution_count": 143,
   "id": "2d215d5e",
   "metadata": {
    "ExecuteTime": {
     "end_time": "2022-11-22T18:11:14.335659Z",
     "start_time": "2022-11-22T18:11:14.319657Z"
    }
   },
   "outputs": [
    {
     "name": "stdout",
     "output_type": "stream",
     "text": [
      "emails:  ['alice@google.com', 'helloab@abc.com', 'my23@gmail.com']\n"
     ]
    }
   ],
   "source": [
    "print(\"emails: \", re.findall(r\"[A-Za-z]\\w+@\\w+\\.\\w+\", S))"
   ]
  },
  {
   "cell_type": "code",
   "execution_count": null,
   "id": "6f036055",
   "metadata": {},
   "outputs": [],
   "source": []
  }
 ],
 "metadata": {
  "gist": {
   "data": {
    "description": "Data_Science/Machine Learniing/Basics_of_Python.ipynb",
    "public": true
   },
   "id": ""
  },
  "hide_input": false,
  "kernelspec": {
   "display_name": "Python 3 (ipykernel)",
   "language": "python",
   "name": "python3"
  },
  "language_info": {
   "codemirror_mode": {
    "name": "ipython",
    "version": 3
   },
   "file_extension": ".py",
   "mimetype": "text/x-python",
   "name": "python",
   "nbconvert_exporter": "python",
   "pygments_lexer": "ipython3",
   "version": "3.9.12"
  },
  "toc": {
   "base_numbering": 1,
   "nav_menu": {},
   "number_sections": true,
   "sideBar": true,
   "skip_h1_title": false,
   "title_cell": "Table of Contents",
   "title_sidebar": "Contents",
   "toc_cell": false,
   "toc_position": {
    "height": "calc(100% - 180px)",
    "left": "10px",
    "top": "150px",
    "width": "330.099px"
   },
   "toc_section_display": true,
   "toc_window_display": true
  },
  "varInspector": {
   "cols": {
    "lenName": 16,
    "lenType": 16,
    "lenVar": 40
   },
   "kernels_config": {
    "python": {
     "delete_cmd_postfix": "",
     "delete_cmd_prefix": "del ",
     "library": "var_list.py",
     "varRefreshCmd": "print(var_dic_list())"
    },
    "r": {
     "delete_cmd_postfix": ") ",
     "delete_cmd_prefix": "rm(",
     "library": "var_list.r",
     "varRefreshCmd": "cat(var_dic_list()) "
    }
   },
   "types_to_exclude": [
    "module",
    "function",
    "builtin_function_or_method",
    "instance",
    "_Feature"
   ],
   "window_display": false
  }
 },
 "nbformat": 4,
 "nbformat_minor": 5
}
