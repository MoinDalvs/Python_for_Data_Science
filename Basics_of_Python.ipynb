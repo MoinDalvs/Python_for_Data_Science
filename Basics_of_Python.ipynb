{
 "cells": [
  {
   "cell_type": "code",
   "execution_count": 1,
   "id": "c0af58dc",
   "metadata": {},
   "outputs": [
    {
     "name": "stdout",
     "output_type": "stream",
     "text": [
      " Volume in drive C has no label.\n",
      " Volume Serial Number is 2C0A-535C\n",
      "\n",
      " Directory of C:\\Users\\Moin Dalvi\\Data_Science\n",
      "\n",
      "05-Mar-22  03:42 PM    <DIR>          .\n",
      "05-Mar-22  03:42 PM    <DIR>          ..\n",
      "04-Mar-22  10:54 PM    <DIR>          .ipynb_checkpoints\n",
      "04-Mar-22  04:22 PM           727,133 About_Data_Frames.ipynb\n",
      "03-Mar-22  07:58 PM           130,197 Assignment_2_Set_1_descriptive_statistics_and_probability.ipynb\n",
      "03-Mar-22  11:10 PM           165,290 Assignment_2_Set_1_to_4.ipynb\n",
      "03-Mar-22  08:25 PM            12,524 Assignment_2_Set_2_Normal_Distribution_Functions_of_random_variables.ipynb\n",
      "03-Mar-22  08:28 PM             4,127 Assignment_2_Set_3.ipynb\n",
      "04-Mar-22  10:57 PM             5,693 Assignment_2_Set_4.ipynb\n",
      "05-Mar-22  03:42 PM           514,301 Assignment_Basic_Statistics_1.ipynb\n",
      "09-Feb-22  11:17 PM            12,154 AT.png\n",
      "03-Mar-22  08:18 PM            67,398 Basics_of_Python.ipynb\n",
      "01-Mar-22  03:26 PM            69,771 BEML_gain.csv\n",
      "03-Mar-22  12:05 PM            15,136 Confidence_Interval.ipynb\n",
      "26-Feb-22  10:49 PM            19,098 Create_Dictionary.ipynb\n",
      "24-Jan-22  08:12 PM            90,414 Create_series.ipynb\n",
      "10-Feb-22  07:40 PM             5,303 demo.pdf\n",
      "20-Feb-22  07:58 PM           418,147 EDA_1.ipynb\n",
      "01-Mar-22  03:17 PM            71,555 GLAXO_gain.csv\n",
      "05-Mar-22  12:35 PM           971,021 Hypothesis_Testing .ipynb\n",
      "08-Feb-22  09:09 PM                43 link.html\n",
      "07-Feb-22  07:14 PM            38,641 MeanModeMedian_Skew_Kurtosis.ipynb\n",
      "09-Feb-22  11:14 PM            11,594 MPG of cars.png\n",
      "21-Feb-22  11:37 AM           732,306 Multi_Linear_Regression.ipynb\n",
      "25-Jan-22  03:48 PM               237 nfl.csv\n",
      "05-Mar-22  03:21 PM             4,027 PointsInferences.png\n",
      "11-Feb-22  09:33 PM         2,411,862 PP_report.html\n",
      "05-Mar-22  03:42 PM           248,116 Practice_BEML_and_GLAXO.ipynb\n",
      "24-Feb-22  03:26 PM           344,037 Probability.ipynb\n",
      "10-Feb-22  03:42 PM            63,878 Question1.png\n",
      "03-Mar-22  07:53 PM             3,000 question1boxplot.png\n",
      "03-Mar-22  07:53 PM            63,837 Question1piechart.png\n",
      "21-Jan-22  01:12 PM             2,126 Salaries.csv\n",
      "08-Feb-22  03:51 PM             5,467 ScoresInferences.png\n",
      "19-Feb-22  03:22 PM             4,934 Set _2_Normal_distribution.ipynb\n",
      "17-Feb-22  01:31 PM            93,556 Simple Linear Regression.ipynb\n",
      "11-Feb-22  09:35 PM           968,944 Sweet_report.html\n",
      "16-Feb-22  03:38 PM           286,169 Test_Assignment1_#1.ipynb\n",
      "20-Jan-22  12:43 PM               827 Universities.csv\n",
      "20-Feb-22  03:33 PM           525,325 Visualization_Matplotlib.ipynb\n",
      "10-Feb-22  03:26 PM         1,433,796 Visualization_Seaborn.ipynb\n",
      "09-Feb-22  11:17 PM            12,344 Waist.png\n",
      "08-Feb-22  03:53 PM             3,954 WeighInferences.png\n",
      "              40 File(s)     10,558,282 bytes\n",
      "               3 Dir(s)  83,410,980,864 bytes free\n"
     ]
    }
   ],
   "source": [
    "ls"
   ]
  },
  {
   "cell_type": "markdown",
   "id": "44600b2a",
   "metadata": {},
   "source": [
    "##### Navigating Jupyter Notebook"
   ]
  },
  {
   "cell_type": "markdown",
   "id": "4d60928f",
   "metadata": {},
   "source": [
    "+ ESC + B = Add a cell below current cell\n",
    "+ ESC + A = Add a cell above current cell\n",
    "+ ESC + X = Delete the current cell\n",
    "+ ESC + M = Convert cell to Markdown cell\n",
    "+ ESC + Y = Convert cell to code cell\n",
    "+ ESC + Z = Undo\n",
    "+ Shift + Tab = More Info\n",
    "+ .(dot / Period) + Tab = Functions List"
   ]
  },
  {
   "cell_type": "markdown",
   "id": "dcd85dc3",
   "metadata": {},
   "source": [
    "# This is just a Header"
   ]
  },
  {
   "cell_type": "code",
   "execution_count": null,
   "id": "57f78432",
   "metadata": {},
   "outputs": [],
   "source": [
    "# Datatypes in Python"
   ]
  },
  {
   "cell_type": "markdown",
   "id": "a9e0370b",
   "metadata": {},
   "source": [
    "## Variables in Python"
   ]
  },
  {
   "cell_type": "code",
   "execution_count": null,
   "id": "71db5075",
   "metadata": {},
   "outputs": [],
   "source": [
    "## Variables in Python"
   ]
  },
  {
   "cell_type": "markdown",
   "id": "4379db68",
   "metadata": {},
   "source": [
    "+ variables are like containers to hold data\n",
    "+ Or they can be thought of aliases for memory addresses"
   ]
  },
  {
   "cell_type": "code",
   "execution_count": null,
   "id": "3db963ac",
   "metadata": {},
   "outputs": [],
   "source": [
    "# + Text above\n",
    "# + text above"
   ]
  },
  {
   "cell_type": "markdown",
   "id": "c7aa0d6a",
   "metadata": {},
   "source": [
    "+ <font color='blue'> variables are like containers to hold data </font>\n",
    "+ Or they can be thought of aliases for memory addresses"
   ]
  },
  {
   "cell_type": "code",
   "execution_count": null,
   "id": "35270db3",
   "metadata": {},
   "outputs": [],
   "source": [
    "#+ <font color='blue'> variables are like containers to hold data </font>\n",
    "#+ Or they can be thought of aliases for memory addresses"
   ]
  },
  {
   "cell_type": "markdown",
   "id": "7beb94fc",
   "metadata": {},
   "source": [
    "+ <font color='blue'> Variables are like containers to hold data </font>\n",
    "+ <b>Or they can be thought of aliases for memory addresses<b/>"
   ]
  },
  {
   "cell_type": "markdown",
   "id": "647d5f2f",
   "metadata": {},
   "source": [
    "#+ <font color='blue'> Variables are like containers to hold data </font>\n",
    "#+ <b>Or they can be thought of aliases for memory addresses<b/>"
   ]
  },
  {
   "cell_type": "markdown",
   "id": "87c01cf7",
   "metadata": {},
   "source": [
    "### Header"
   ]
  },
  {
   "cell_type": "code",
   "execution_count": null,
   "id": "7453b75e",
   "metadata": {},
   "outputs": [],
   "source": [
    "### Head"
   ]
  },
  {
   "cell_type": "code",
   "execution_count": 3,
   "id": "cc1a8f2d",
   "metadata": {},
   "outputs": [
    {
     "name": "stdout",
     "output_type": "stream",
     "text": [
      "HELLO WORLD\n"
     ]
    }
   ],
   "source": [
    "print('HELLO WORLD')"
   ]
  },
  {
   "cell_type": "code",
   "execution_count": 2,
   "id": "d8c488f7",
   "metadata": {},
   "outputs": [
    {
     "name": "stdout",
     "output_type": "stream",
     "text": [
      "HOW ARE YOU?\n"
     ]
    }
   ],
   "source": [
    "print('HOW ARE YOU?')"
   ]
  },
  {
   "cell_type": "code",
   "execution_count": 1,
   "id": "3cffc351",
   "metadata": {},
   "outputs": [],
   "source": [
    "x=10"
   ]
  },
  {
   "cell_type": "code",
   "execution_count": 2,
   "id": "056ce5dc",
   "metadata": {},
   "outputs": [
    {
     "data": {
      "text/plain": [
       "10"
      ]
     },
     "execution_count": 2,
     "metadata": {},
     "output_type": "execute_result"
    }
   ],
   "source": [
    "x"
   ]
  },
  {
   "cell_type": "code",
   "execution_count": 3,
   "id": "fb89109a",
   "metadata": {},
   "outputs": [
    {
     "name": "stdout",
     "output_type": "stream",
     "text": [
      "10\n"
     ]
    }
   ],
   "source": [
    "print(x)"
   ]
  },
  {
   "cell_type": "code",
   "execution_count": 4,
   "id": "b18e9c0b",
   "metadata": {},
   "outputs": [
    {
     "data": {
      "text/plain": [
       "2871071566416"
      ]
     },
     "execution_count": 4,
     "metadata": {},
     "output_type": "execute_result"
    }
   ],
   "source": [
    "id(x)"
   ]
  },
  {
   "cell_type": "code",
   "execution_count": 5,
   "id": "15442eaa",
   "metadata": {},
   "outputs": [],
   "source": [
    "x=20"
   ]
  },
  {
   "cell_type": "code",
   "execution_count": 13,
   "id": "e3bc51d8",
   "metadata": {},
   "outputs": [
    {
     "data": {
      "text/plain": [
       "-10"
      ]
     },
     "execution_count": 13,
     "metadata": {},
     "output_type": "execute_result"
    }
   ],
   "source": [
    "x"
   ]
  },
  {
   "cell_type": "code",
   "execution_count": 3,
   "id": "6d114dde",
   "metadata": {},
   "outputs": [
    {
     "name": "stdout",
     "output_type": "stream",
     "text": [
      "x= 10\n",
      "y= 20\n"
     ]
    }
   ],
   "source": [
    "x=10\n",
    "y=20\n",
    "print('x=',x)\n",
    "print('y=',y)"
   ]
  },
  {
   "cell_type": "code",
   "execution_count": 8,
   "id": "5e1653b8",
   "metadata": {},
   "outputs": [
    {
     "data": {
      "text/plain": [
       "['__add__',\n",
       " '__class__',\n",
       " '__class_getitem__',\n",
       " '__contains__',\n",
       " '__delattr__',\n",
       " '__delitem__',\n",
       " '__dir__',\n",
       " '__doc__',\n",
       " '__eq__',\n",
       " '__format__',\n",
       " '__ge__',\n",
       " '__getattribute__',\n",
       " '__getitem__',\n",
       " '__gt__',\n",
       " '__hash__',\n",
       " '__iadd__',\n",
       " '__imul__',\n",
       " '__init__',\n",
       " '__init_subclass__',\n",
       " '__iter__',\n",
       " '__le__',\n",
       " '__len__',\n",
       " '__lt__',\n",
       " '__mul__',\n",
       " '__ne__',\n",
       " '__new__',\n",
       " '__reduce__',\n",
       " '__reduce_ex__',\n",
       " '__repr__',\n",
       " '__reversed__',\n",
       " '__rmul__',\n",
       " '__setattr__',\n",
       " '__setitem__',\n",
       " '__sizeof__',\n",
       " '__str__',\n",
       " '__subclasshook__',\n",
       " 'append',\n",
       " 'clear',\n",
       " 'copy',\n",
       " 'count',\n",
       " 'extend',\n",
       " 'index',\n",
       " 'insert',\n",
       " 'pop',\n",
       " 'remove',\n",
       " 'reverse',\n",
       " 'sort']"
      ]
     },
     "execution_count": 8,
     "metadata": {},
     "output_type": "execute_result"
    }
   ],
   "source": [
    "dir(list)"
   ]
  },
  {
   "cell_type": "code",
   "execution_count": 9,
   "id": "469dcb57",
   "metadata": {},
   "outputs": [],
   "source": [
    "\n",
    "x = -10"
   ]
  },
  {
   "cell_type": "code",
   "execution_count": 10,
   "id": "3b1edd22",
   "metadata": {},
   "outputs": [
    {
     "data": {
      "text/plain": [
       "int"
      ]
     },
     "execution_count": 10,
     "metadata": {},
     "output_type": "execute_result"
    }
   ],
   "source": [
    "type(x)"
   ]
  },
  {
   "cell_type": "code",
   "execution_count": 11,
   "id": "16c7562d",
   "metadata": {},
   "outputs": [],
   "source": [
    "y = -69.420"
   ]
  },
  {
   "cell_type": "code",
   "execution_count": 12,
   "id": "193a32b7",
   "metadata": {},
   "outputs": [
    {
     "data": {
      "text/plain": [
       "float"
      ]
     },
     "execution_count": 12,
     "metadata": {},
     "output_type": "execute_result"
    }
   ],
   "source": [
    "type(y)"
   ]
  },
  {
   "cell_type": "code",
   "execution_count": 14,
   "id": "316884d6",
   "metadata": {},
   "outputs": [
    {
     "data": {
      "text/plain": [
       "0"
      ]
     },
     "execution_count": 14,
     "metadata": {},
     "output_type": "execute_result"
    }
   ],
   "source": [
    "35 % 7 #modulo division"
   ]
  },
  {
   "cell_type": "code",
   "execution_count": 15,
   "id": "a8e5f882",
   "metadata": {},
   "outputs": [
    {
     "data": {
      "text/plain": [
       "2"
      ]
     },
     "execution_count": 15,
     "metadata": {},
     "output_type": "execute_result"
    }
   ],
   "source": [
    "x = 5\n",
    "y = 2\n",
    "x // y #floor division"
   ]
  },
  {
   "cell_type": "code",
   "execution_count": 16,
   "id": "b8115e0e",
   "metadata": {},
   "outputs": [
    {
     "data": {
      "text/plain": [
       "(-3.3333333333333335, -4)"
      ]
     },
     "execution_count": 16,
     "metadata": {},
     "output_type": "execute_result"
    }
   ],
   "source": [
    "x = -20\n",
    "y = 6\n",
    "x/y, x//y"
   ]
  },
  {
   "cell_type": "code",
   "execution_count": 2,
   "id": "27e7afd2",
   "metadata": {},
   "outputs": [
    {
     "name": "stdout",
     "output_type": "stream",
     "text": [
      "x= 10\n",
      "y= 20\n"
     ]
    }
   ],
   "source": [
    "# Create a variable called x\n",
    "x=10\n",
    "y=20\n",
    "print('x=', x)\n",
    "print('y=', y)"
   ]
  },
  {
   "cell_type": "code",
   "execution_count": 8,
   "id": "41a89e16",
   "metadata": {},
   "outputs": [
    {
     "data": {
      "text/plain": [
       "2057249646992"
      ]
     },
     "execution_count": 8,
     "metadata": {},
     "output_type": "execute_result"
    }
   ],
   "source": [
    "a=256\n",
    "id(a)"
   ]
  },
  {
   "cell_type": "code",
   "execution_count": 9,
   "id": "cc61608b",
   "metadata": {},
   "outputs": [
    {
     "data": {
      "text/plain": [
       "2055179130160"
      ]
     },
     "execution_count": 9,
     "metadata": {},
     "output_type": "execute_result"
    }
   ],
   "source": [
    "b=257\n",
    "id(b)"
   ]
  },
  {
   "cell_type": "code",
   "execution_count": 10,
   "id": "7a2d7f32",
   "metadata": {},
   "outputs": [
    {
     "data": {
      "text/plain": [
       "int"
      ]
     },
     "execution_count": 10,
     "metadata": {},
     "output_type": "execute_result"
    }
   ],
   "source": [
    "my_int=10\n",
    "type(my_int)"
   ]
  },
  {
   "cell_type": "code",
   "execution_count": 11,
   "id": "3fb0c68a",
   "metadata": {},
   "outputs": [
    {
     "data": {
      "text/plain": [
       "float"
      ]
     },
     "execution_count": 11,
     "metadata": {},
     "output_type": "execute_result"
    }
   ],
   "source": [
    "my_float=-69.420\n",
    "type(my_float)"
   ]
  },
  {
   "cell_type": "code",
   "execution_count": 12,
   "id": "97f14984",
   "metadata": {},
   "outputs": [
    {
     "data": {
      "text/plain": [
       "False"
      ]
     },
     "execution_count": 12,
     "metadata": {},
     "output_type": "execute_result"
    }
   ],
   "source": [
    "2 == 3"
   ]
  },
  {
   "cell_type": "code",
   "execution_count": 13,
   "id": "915b8a57",
   "metadata": {},
   "outputs": [
    {
     "data": {
      "text/plain": [
       "True"
      ]
     },
     "execution_count": 13,
     "metadata": {},
     "output_type": "execute_result"
    }
   ],
   "source": [
    "a=256\n",
    "b=256\n",
    "a == b"
   ]
  },
  {
   "cell_type": "code",
   "execution_count": 14,
   "id": "7badf97e",
   "metadata": {},
   "outputs": [],
   "source": [
    "a = True\n",
    "b = False"
   ]
  },
  {
   "cell_type": "code",
   "execution_count": 15,
   "id": "3f44438f",
   "metadata": {},
   "outputs": [
    {
     "data": {
      "text/plain": [
       "True"
      ]
     },
     "execution_count": 15,
     "metadata": {},
     "output_type": "execute_result"
    }
   ],
   "source": [
    "a"
   ]
  },
  {
   "cell_type": "code",
   "execution_count": 16,
   "id": "5bc76c12",
   "metadata": {},
   "outputs": [
    {
     "data": {
      "text/plain": [
       "False"
      ]
     },
     "execution_count": 16,
     "metadata": {},
     "output_type": "execute_result"
    }
   ],
   "source": [
    "b"
   ]
  },
  {
   "cell_type": "code",
   "execution_count": 17,
   "id": "795a8da9",
   "metadata": {},
   "outputs": [
    {
     "data": {
      "text/plain": [
       "True"
      ]
     },
     "execution_count": 17,
     "metadata": {},
     "output_type": "execute_result"
    }
   ],
   "source": [
    "3 == 3"
   ]
  },
  {
   "cell_type": "markdown",
   "id": "db8523c7",
   "metadata": {},
   "source": [
    "# Indexing"
   ]
  },
  {
   "cell_type": "markdown",
   "id": "01feb7d9",
   "metadata": {},
   "source": [
    "+ positive indexing: left to right [0]\n",
    "+ neagtive indexing: right to left [-1]"
   ]
  },
  {
   "cell_type": "code",
   "execution_count": 1,
   "id": "7612309f",
   "metadata": {},
   "outputs": [],
   "source": [
    "string = 'abc'"
   ]
  },
  {
   "cell_type": "code",
   "execution_count": 6,
   "id": "8334b016",
   "metadata": {},
   "outputs": [
    {
     "data": {
      "text/plain": [
       "'a'"
      ]
     },
     "execution_count": 6,
     "metadata": {},
     "output_type": "execute_result"
    }
   ],
   "source": [
    "string[0]"
   ]
  },
  {
   "cell_type": "code",
   "execution_count": 5,
   "id": "f05a3b1e",
   "metadata": {},
   "outputs": [
    {
     "data": {
      "text/plain": [
       "'b'"
      ]
     },
     "execution_count": 5,
     "metadata": {},
     "output_type": "execute_result"
    }
   ],
   "source": [
    "string[1]"
   ]
  },
  {
   "cell_type": "code",
   "execution_count": 9,
   "id": "30d9eccc",
   "metadata": {},
   "outputs": [
    {
     "name": "stdout",
     "output_type": "stream",
     "text": [
      "c , c\n"
     ]
    }
   ],
   "source": [
    "print(string[2],',',string[-1])"
   ]
  },
  {
   "cell_type": "markdown",
   "id": "18dc6262",
   "metadata": {},
   "source": [
    "# Arithmetic Operations"
   ]
  },
  {
   "cell_type": "code",
   "execution_count": 18,
   "id": "c28800a3",
   "metadata": {},
   "outputs": [],
   "source": [
    "x=64\n",
    "y=46"
   ]
  },
  {
   "cell_type": "code",
   "execution_count": 19,
   "id": "da503218",
   "metadata": {},
   "outputs": [
    {
     "data": {
      "text/plain": [
       "110"
      ]
     },
     "execution_count": 19,
     "metadata": {},
     "output_type": "execute_result"
    }
   ],
   "source": [
    "# Add two numbers\n",
    "x + y"
   ]
  },
  {
   "cell_type": "code",
   "execution_count": 20,
   "id": "cde7c3fe",
   "metadata": {},
   "outputs": [
    {
     "data": {
      "text/plain": [
       "18"
      ]
     },
     "execution_count": 20,
     "metadata": {},
     "output_type": "execute_result"
    }
   ],
   "source": [
    "## Subtraction\n",
    "x-y"
   ]
  },
  {
   "cell_type": "code",
   "execution_count": 21,
   "id": "ea78fa77",
   "metadata": {},
   "outputs": [
    {
     "data": {
      "text/plain": [
       "2944"
      ]
     },
     "execution_count": 21,
     "metadata": {},
     "output_type": "execute_result"
    }
   ],
   "source": [
    "# Multiplication\n",
    "x * y"
   ]
  },
  {
   "cell_type": "code",
   "execution_count": 23,
   "id": "8ed48f12",
   "metadata": {},
   "outputs": [
    {
     "data": {
      "text/plain": [
       "110"
      ]
     },
     "execution_count": 23,
     "metadata": {},
     "output_type": "execute_result"
    }
   ],
   "source": [
    "Total = x + y\n",
    "Total"
   ]
  },
  {
   "cell_type": "code",
   "execution_count": 24,
   "id": "68f95d3a",
   "metadata": {},
   "outputs": [
    {
     "data": {
      "text/plain": [
       "1.391304347826087"
      ]
     },
     "execution_count": 24,
     "metadata": {},
     "output_type": "execute_result"
    }
   ],
   "source": [
    "x / y # Division"
   ]
  },
  {
   "cell_type": "code",
   "execution_count": 25,
   "id": "6df9a252",
   "metadata": {},
   "outputs": [
    {
     "data": {
      "text/plain": [
       "18"
      ]
     },
     "execution_count": 25,
     "metadata": {},
     "output_type": "execute_result"
    }
   ],
   "source": [
    "x % y #remainder of the division"
   ]
  },
  {
   "cell_type": "code",
   "execution_count": 26,
   "id": "68c25b6f",
   "metadata": {},
   "outputs": [
    {
     "data": {
      "text/plain": [
       "2"
      ]
     },
     "execution_count": 26,
     "metadata": {},
     "output_type": "execute_result"
    }
   ],
   "source": [
    "5 // 2 # floor division"
   ]
  },
  {
   "cell_type": "code",
   "execution_count": 27,
   "id": "53f0e67a",
   "metadata": {},
   "outputs": [
    {
     "data": {
      "text/plain": [
       "(3.3333333333333335, 3)"
      ]
     },
     "execution_count": 27,
     "metadata": {},
     "output_type": "execute_result"
    }
   ],
   "source": [
    "x = 20\n",
    "y = 6\n",
    "x/y, x // y"
   ]
  },
  {
   "cell_type": "code",
   "execution_count": 28,
   "id": "fa165da2",
   "metadata": {},
   "outputs": [
    {
     "data": {
      "text/plain": [
       "(-3.3333333333333335, -4)"
      ]
     },
     "execution_count": 28,
     "metadata": {},
     "output_type": "execute_result"
    }
   ],
   "source": [
    "x = -20\n",
    "y = 6\n",
    "x/y, x // y"
   ]
  },
  {
   "cell_type": "markdown",
   "id": "282bd5cb",
   "metadata": {},
   "source": [
    "# Boolean Operations"
   ]
  },
  {
   "cell_type": "code",
   "execution_count": 29,
   "id": "02e61b7e",
   "metadata": {},
   "outputs": [
    {
     "data": {
      "text/plain": [
       "True"
      ]
     },
     "execution_count": 29,
     "metadata": {},
     "output_type": "execute_result"
    }
   ],
   "source": [
    "True or True"
   ]
  },
  {
   "cell_type": "code",
   "execution_count": 30,
   "id": "e4b24d66",
   "metadata": {},
   "outputs": [
    {
     "data": {
      "text/plain": [
       "True"
      ]
     },
     "execution_count": 30,
     "metadata": {},
     "output_type": "execute_result"
    }
   ],
   "source": [
    "True or False"
   ]
  },
  {
   "cell_type": "code",
   "execution_count": 31,
   "id": "4e07c7fe",
   "metadata": {},
   "outputs": [
    {
     "data": {
      "text/plain": [
       "False"
      ]
     },
     "execution_count": 31,
     "metadata": {},
     "output_type": "execute_result"
    }
   ],
   "source": [
    "True and False"
   ]
  },
  {
   "cell_type": "code",
   "execution_count": 32,
   "id": "fd6ddf28",
   "metadata": {},
   "outputs": [
    {
     "data": {
      "text/plain": [
       "False"
      ]
     },
     "execution_count": 32,
     "metadata": {},
     "output_type": "execute_result"
    }
   ],
   "source": [
    "not True"
   ]
  },
  {
   "cell_type": "code",
   "execution_count": 33,
   "id": "6f990d2c",
   "metadata": {},
   "outputs": [
    {
     "data": {
      "text/plain": [
       "False"
      ]
     },
     "execution_count": 33,
     "metadata": {},
     "output_type": "execute_result"
    }
   ],
   "source": [
    "2 == 3 and 3 == 3"
   ]
  },
  {
   "cell_type": "markdown",
   "id": "46de44a8",
   "metadata": {},
   "source": [
    "# Sequence"
   ]
  },
  {
   "cell_type": "markdown",
   "id": "3a423fbf",
   "metadata": {},
   "source": [
    "### List"
   ]
  },
  {
   "cell_type": "code",
   "execution_count": 34,
   "id": "7fad124f",
   "metadata": {},
   "outputs": [
    {
     "data": {
      "text/plain": [
       "list"
      ]
     },
     "execution_count": 34,
     "metadata": {},
     "output_type": "execute_result"
    }
   ],
   "source": [
    "lst = []\n",
    "type(lst)"
   ]
  },
  {
   "cell_type": "code",
   "execution_count": 38,
   "id": "5dadfe74",
   "metadata": {},
   "outputs": [
    {
     "data": {
      "text/plain": [
       "[65, 76, 48, 93, 55]"
      ]
     },
     "execution_count": 38,
     "metadata": {},
     "output_type": "execute_result"
    }
   ],
   "source": [
    "marks = [65, 76, 48, 93, 55]\n",
    "marks"
   ]
  },
  {
   "cell_type": "code",
   "execution_count": 1,
   "id": "a8a7103c",
   "metadata": {},
   "outputs": [],
   "source": [
    "l1=[100,'Tom','MySQL',78]"
   ]
  },
  {
   "cell_type": "code",
   "execution_count": 2,
   "id": "a89eb666",
   "metadata": {},
   "outputs": [
    {
     "data": {
      "text/plain": [
       "100"
      ]
     },
     "execution_count": 2,
     "metadata": {},
     "output_type": "execute_result"
    }
   ],
   "source": [
    "l1[0]"
   ]
  },
  {
   "cell_type": "markdown",
   "id": "159f3030",
   "metadata": {},
   "source": [
    "### Slicing"
   ]
  },
  {
   "cell_type": "markdown",
   "id": "b9375c86",
   "metadata": {},
   "source": [
    "+ Extraction of a substring\n",
    "+ syntax is start position and end position (end position excluded)"
   ]
  },
  {
   "cell_type": "code",
   "execution_count": 1,
   "id": "fe4d3ab0",
   "metadata": {},
   "outputs": [],
   "source": [
    "lst=[1,2,3,4,5,6,7,8,9]"
   ]
  },
  {
   "cell_type": "code",
   "execution_count": 2,
   "id": "99e49bf2",
   "metadata": {},
   "outputs": [
    {
     "data": {
      "text/plain": [
       "[3, 4, 5, 6, 7]"
      ]
     },
     "execution_count": 2,
     "metadata": {},
     "output_type": "execute_result"
    }
   ],
   "source": [
    "lst[2:7]"
   ]
  },
  {
   "cell_type": "code",
   "execution_count": 3,
   "id": "6679b4c2",
   "metadata": {},
   "outputs": [
    {
     "data": {
      "text/plain": [
       "[3, 4, 5, 6, 7, 8, 9]"
      ]
     },
     "execution_count": 3,
     "metadata": {},
     "output_type": "execute_result"
    }
   ],
   "source": [
    "lst[2:]"
   ]
  },
  {
   "cell_type": "code",
   "execution_count": 4,
   "id": "cfbe33c7",
   "metadata": {},
   "outputs": [
    {
     "data": {
      "text/plain": [
       "[1, 2, 3, 4, 5, 6, 7]"
      ]
     },
     "execution_count": 4,
     "metadata": {},
     "output_type": "execute_result"
    }
   ],
   "source": [
    "lst[:7]"
   ]
  },
  {
   "cell_type": "code",
   "execution_count": 5,
   "id": "786fed0c",
   "metadata": {},
   "outputs": [
    {
     "data": {
      "text/plain": [
       "[1, 4, 7]"
      ]
     },
     "execution_count": 5,
     "metadata": {},
     "output_type": "execute_result"
    }
   ],
   "source": [
    "lst[::3]"
   ]
  },
  {
   "cell_type": "code",
   "execution_count": null,
   "id": "6b63c0a4",
   "metadata": {},
   "outputs": [],
   "source": [
    "lst[2::2]"
   ]
  },
  {
   "cell_type": "code",
   "execution_count": null,
   "id": "6b95c61c",
   "metadata": {},
   "outputs": [],
   "source": [
    "lst[::-1]"
   ]
  },
  {
   "cell_type": "code",
   "execution_count": null,
   "id": "9ca26fca",
   "metadata": {},
   "outputs": [],
   "source": [
    "lst[8:2:-2]"
   ]
  },
  {
   "cell_type": "code",
   "execution_count": 8,
   "id": "d5219e72",
   "metadata": {},
   "outputs": [
    {
     "data": {
      "text/plain": [
       "[1, 2, 3, 4, 5, 6, 7, 8, 9]"
      ]
     },
     "execution_count": 8,
     "metadata": {},
     "output_type": "execute_result"
    }
   ],
   "source": [
    "lst[:]"
   ]
  },
  {
   "cell_type": "markdown",
   "id": "6453a36c",
   "metadata": {},
   "source": [
    "### Tuple"
   ]
  },
  {
   "cell_type": "code",
   "execution_count": 35,
   "id": "46b929c6",
   "metadata": {},
   "outputs": [
    {
     "data": {
      "text/plain": [
       "tuple"
      ]
     },
     "execution_count": 35,
     "metadata": {},
     "output_type": "execute_result"
    }
   ],
   "source": [
    "tup = ()\n",
    "type(tup)"
   ]
  },
  {
   "cell_type": "code",
   "execution_count": 4,
   "id": "a35bfbbd",
   "metadata": {},
   "outputs": [
    {
     "data": {
      "text/plain": [
       "(65, 76, 48, 93, 55)"
      ]
     },
     "execution_count": 4,
     "metadata": {},
     "output_type": "execute_result"
    }
   ],
   "source": [
    "my_tup = (65, 76, 48, 93, 55)\n",
    "my_tup"
   ]
  },
  {
   "cell_type": "code",
   "execution_count": 5,
   "id": "4a438f24",
   "metadata": {},
   "outputs": [
    {
     "data": {
      "text/plain": [
       "93"
      ]
     },
     "execution_count": 5,
     "metadata": {},
     "output_type": "execute_result"
    }
   ],
   "source": [
    "my_tup[3]"
   ]
  },
  {
   "cell_type": "code",
   "execution_count": 10,
   "id": "38257d9e",
   "metadata": {},
   "outputs": [],
   "source": [
    "my_tup=(1,2,3,4,5,6,7,8,9,10,11)"
   ]
  },
  {
   "cell_type": "code",
   "execution_count": 44,
   "id": "6d046a17",
   "metadata": {},
   "outputs": [
    {
     "data": {
      "text/plain": [
       "[1, 2, 3, 4, 5, 6, 7, 8, 9, 10, 11]"
      ]
     },
     "execution_count": 44,
     "metadata": {},
     "output_type": "execute_result"
    }
   ],
   "source": [
    "list(my_tup)"
   ]
  },
  {
   "cell_type": "code",
   "execution_count": 45,
   "id": "95b1f9af",
   "metadata": {},
   "outputs": [
    {
     "data": {
      "text/plain": [
       "[(0, 1),\n",
       " (1, 2),\n",
       " (2, 3),\n",
       " (3, 4),\n",
       " (4, 5),\n",
       " (5, 6),\n",
       " (6, 7),\n",
       " (7, 8),\n",
       " (8, 9),\n",
       " (9, 10),\n",
       " (10, 11)]"
      ]
     },
     "execution_count": 45,
     "metadata": {},
     "output_type": "execute_result"
    }
   ],
   "source": [
    "list(enumerate(my_tup))"
   ]
  },
  {
   "cell_type": "code",
   "execution_count": 17,
   "id": "e2b53d1a",
   "metadata": {},
   "outputs": [],
   "source": [
    "tup=(1,2,3,4,[1,2,3],6)"
   ]
  },
  {
   "cell_type": "code",
   "execution_count": 18,
   "id": "64746fd0",
   "metadata": {},
   "outputs": [
    {
     "ename": "AttributeError",
     "evalue": "'tuple' object has no attribute 'append'",
     "output_type": "error",
     "traceback": [
      "\u001b[1;31m---------------------------------------------------------------------------\u001b[0m",
      "\u001b[1;31mAttributeError\u001b[0m                            Traceback (most recent call last)",
      "\u001b[1;32mC:\\Users\\MOINDA~1\\AppData\\Local\\Temp/ipykernel_13152/2403767784.py\u001b[0m in \u001b[0;36m<module>\u001b[1;34m\u001b[0m\n\u001b[1;32m----> 1\u001b[1;33m \u001b[0mtup\u001b[0m\u001b[1;33m.\u001b[0m\u001b[0mappend\u001b[0m\u001b[1;33m(\u001b[0m\u001b[1;36m5\u001b[0m\u001b[1;33m)\u001b[0m\u001b[1;33m\u001b[0m\u001b[1;33m\u001b[0m\u001b[0m\n\u001b[0m",
      "\u001b[1;31mAttributeError\u001b[0m: 'tuple' object has no attribute 'append'"
     ]
    }
   ],
   "source": [
    "tup.append(5)"
   ]
  },
  {
   "cell_type": "code",
   "execution_count": 20,
   "id": "af775244",
   "metadata": {},
   "outputs": [
    {
     "data": {
      "text/plain": [
       "[(0, 1), (1, 2), (2, 3), (3, 4), (4, [1, 2, 3]), (5, 6)]"
      ]
     },
     "execution_count": 20,
     "metadata": {},
     "output_type": "execute_result"
    }
   ],
   "source": [
    "list(enumerate(tup))"
   ]
  },
  {
   "cell_type": "code",
   "execution_count": 21,
   "id": "7d5971b5",
   "metadata": {},
   "outputs": [
    {
     "ename": "AttributeError",
     "evalue": "'tuple' object has no attribute 'insert'",
     "output_type": "error",
     "traceback": [
      "\u001b[1;31m---------------------------------------------------------------------------\u001b[0m",
      "\u001b[1;31mAttributeError\u001b[0m                            Traceback (most recent call last)",
      "\u001b[1;32mC:\\Users\\MOINDA~1\\AppData\\Local\\Temp/ipykernel_13152/1260704283.py\u001b[0m in \u001b[0;36m<module>\u001b[1;34m\u001b[0m\n\u001b[1;32m----> 1\u001b[1;33m \u001b[0mtup\u001b[0m\u001b[1;33m.\u001b[0m\u001b[0minsert\u001b[0m\u001b[1;33m[\u001b[0m\u001b[1;36m4\u001b[0m\u001b[1;33m]\u001b[0m\u001b[1;33m=\u001b[0m\u001b[1;36m5\u001b[0m\u001b[1;33m\u001b[0m\u001b[1;33m\u001b[0m\u001b[0m\n\u001b[0m",
      "\u001b[1;31mAttributeError\u001b[0m: 'tuple' object has no attribute 'insert'"
     ]
    }
   ],
   "source": [
    "tup.insert[4]=5"
   ]
  },
  {
   "cell_type": "code",
   "execution_count": 23,
   "id": "73861c5c",
   "metadata": {},
   "outputs": [],
   "source": [
    "tup[4].append(5)"
   ]
  },
  {
   "cell_type": "code",
   "execution_count": 24,
   "id": "400db017",
   "metadata": {},
   "outputs": [
    {
     "data": {
      "text/plain": [
       "(1, 2, 3, 4, [1, 2, 3, 5], 6)"
      ]
     },
     "execution_count": 24,
     "metadata": {},
     "output_type": "execute_result"
    }
   ],
   "source": [
    "tup"
   ]
  },
  {
   "cell_type": "markdown",
   "id": "8f662850",
   "metadata": {},
   "source": [
    "### Slicing"
   ]
  },
  {
   "cell_type": "code",
   "execution_count": 47,
   "id": "a6a99884",
   "metadata": {},
   "outputs": [
    {
     "data": {
      "text/plain": [
       "(6, 7, 8, 9, 10)"
      ]
     },
     "execution_count": 47,
     "metadata": {},
     "output_type": "execute_result"
    }
   ],
   "source": [
    "my_tup[5:10]"
   ]
  },
  {
   "cell_type": "code",
   "execution_count": 48,
   "id": "a16bd5b5",
   "metadata": {},
   "outputs": [
    {
     "data": {
      "text/plain": [
       "(1, 2, 3, 4)"
      ]
     },
     "execution_count": 48,
     "metadata": {},
     "output_type": "execute_result"
    }
   ],
   "source": [
    "my_tup[:4]"
   ]
  },
  {
   "cell_type": "code",
   "execution_count": 49,
   "id": "5c783edb",
   "metadata": {},
   "outputs": [
    {
     "data": {
      "text/plain": [
       "(9, 10, 11)"
      ]
     },
     "execution_count": 49,
     "metadata": {},
     "output_type": "execute_result"
    }
   ],
   "source": [
    "my_tup[8:]"
   ]
  },
  {
   "cell_type": "code",
   "execution_count": 50,
   "id": "2c486f79",
   "metadata": {},
   "outputs": [
    {
     "data": {
      "text/plain": [
       "(1, 3, 5, 7, 9, 11)"
      ]
     },
     "execution_count": 50,
     "metadata": {},
     "output_type": "execute_result"
    }
   ],
   "source": [
    "my_tup[::2]"
   ]
  },
  {
   "cell_type": "code",
   "execution_count": 51,
   "id": "f82b5fdf",
   "metadata": {},
   "outputs": [
    {
     "data": {
      "text/plain": [
       "(7, 8, 9, 10, 11)"
      ]
     },
     "execution_count": 51,
     "metadata": {},
     "output_type": "execute_result"
    }
   ],
   "source": [
    "my_tup[6::]"
   ]
  },
  {
   "cell_type": "code",
   "execution_count": 52,
   "id": "43375f0e",
   "metadata": {},
   "outputs": [
    {
     "data": {
      "text/plain": [
       "(11, 10, 9, 8, 7, 6, 5, 4, 3, 2, 1)"
      ]
     },
     "execution_count": 52,
     "metadata": {},
     "output_type": "execute_result"
    }
   ],
   "source": [
    "my_tup[::-1]"
   ]
  },
  {
   "cell_type": "code",
   "execution_count": 53,
   "id": "d4bc0294",
   "metadata": {},
   "outputs": [
    {
     "data": {
      "text/plain": [
       "(11, 9, 7, 5, 3, 1)"
      ]
     },
     "execution_count": 53,
     "metadata": {},
     "output_type": "execute_result"
    }
   ],
   "source": [
    "my_tup[::-2]"
   ]
  },
  {
   "cell_type": "code",
   "execution_count": 55,
   "id": "39420430",
   "metadata": {},
   "outputs": [
    {
     "data": {
      "text/plain": [
       "(9, 8, 7, 6, 5, 4)"
      ]
     },
     "execution_count": 55,
     "metadata": {},
     "output_type": "execute_result"
    }
   ],
   "source": [
    "my_tup[8:2:-1]"
   ]
  },
  {
   "cell_type": "code",
   "execution_count": 12,
   "id": "fa172ae4",
   "metadata": {},
   "outputs": [
    {
     "ename": "TypeError",
     "evalue": "tuple indices must be integers or slices, not tuple",
     "output_type": "error",
     "traceback": [
      "\u001b[1;31m---------------------------------------------------------------------------\u001b[0m",
      "\u001b[1;31mTypeError\u001b[0m                                 Traceback (most recent call last)",
      "\u001b[1;32mC:\\Users\\MOINDA~1\\AppData\\Local\\Temp/ipykernel_9112/3381605885.py\u001b[0m in \u001b[0;36m<module>\u001b[1;34m\u001b[0m\n\u001b[1;32m----> 1\u001b[1;33m \u001b[0mprint\u001b[0m\u001b[1;33m(\u001b[0m\u001b[0mmy_tup\u001b[0m\u001b[1;33m[\u001b[0m\u001b[1;36m0\u001b[0m\u001b[1;33m:\u001b[0m\u001b[1;36m5\u001b[0m\u001b[1;33m,\u001b[0m\u001b[1;33m:\u001b[0m\u001b[1;33m]\u001b[0m\u001b[1;33m)\u001b[0m\u001b[1;33m\u001b[0m\u001b[1;33m\u001b[0m\u001b[0m\n\u001b[0m",
      "\u001b[1;31mTypeError\u001b[0m: tuple indices must be integers or slices, not tuple"
     ]
    }
   ],
   "source": [
    "print(my_tup[0:5,:])"
   ]
  },
  {
   "cell_type": "markdown",
   "id": "1ad567bc",
   "metadata": {},
   "source": [
    "### String"
   ]
  },
  {
   "cell_type": "code",
   "execution_count": 10,
   "id": "afa5961c",
   "metadata": {},
   "outputs": [
    {
     "data": {
      "text/plain": [
       "'abcdefgh'"
      ]
     },
     "execution_count": 10,
     "metadata": {},
     "output_type": "execute_result"
    }
   ],
   "source": [
    "a = \"abcd\"\n",
    "e = \"efgh\"\n",
    "a+e"
   ]
  },
  {
   "cell_type": "code",
   "execution_count": 6,
   "id": "69d56556",
   "metadata": {},
   "outputs": [
    {
     "data": {
      "text/plain": [
       "str"
      ]
     },
     "execution_count": 6,
     "metadata": {},
     "output_type": "execute_result"
    }
   ],
   "source": [
    "my_str = 'Python'\n",
    "type(my_str)"
   ]
  },
  {
   "cell_type": "code",
   "execution_count": 8,
   "id": "39fc1291",
   "metadata": {},
   "outputs": [
    {
     "data": {
      "text/plain": [
       "'n'"
      ]
     },
     "execution_count": 8,
     "metadata": {},
     "output_type": "execute_result"
    }
   ],
   "source": [
    "my_str[5]"
   ]
  },
  {
   "cell_type": "code",
   "execution_count": 41,
   "id": "aca024b2",
   "metadata": {},
   "outputs": [
    {
     "data": {
      "text/plain": [
       "'Python'"
      ]
     },
     "execution_count": 41,
     "metadata": {},
     "output_type": "execute_result"
    }
   ],
   "source": [
    "my_str"
   ]
  },
  {
   "cell_type": "code",
   "execution_count": 11,
   "id": "b8d30c28",
   "metadata": {},
   "outputs": [
    {
     "data": {
      "text/plain": [
       "[(0, 'P'), (1, 'y'), (2, 't'), (3, 'h'), (4, 'o'), (5, 'n')]"
      ]
     },
     "execution_count": 11,
     "metadata": {},
     "output_type": "execute_result"
    }
   ],
   "source": [
    "list(enumerate(my_str))"
   ]
  },
  {
   "cell_type": "code",
   "execution_count": 56,
   "id": "8e54cc00",
   "metadata": {},
   "outputs": [
    {
     "data": {
      "text/plain": [
       "'o'"
      ]
     },
     "execution_count": 56,
     "metadata": {},
     "output_type": "execute_result"
    }
   ],
   "source": [
    "my_str[4]     "
   ]
  },
  {
   "cell_type": "code",
   "execution_count": 57,
   "id": "3f5dc5f9",
   "metadata": {},
   "outputs": [
    {
     "data": {
      "text/plain": [
       "[(0, 'P'), (1, 'y'), (2, 't'), (3, 'h'), (4, 'o'), (5, 'n')]"
      ]
     },
     "execution_count": 57,
     "metadata": {},
     "output_type": "execute_result"
    }
   ],
   "source": [
    "list(enumerate(my_str))"
   ]
  },
  {
   "cell_type": "code",
   "execution_count": 13,
   "id": "f875a3dd",
   "metadata": {},
   "outputs": [
    {
     "data": {
      "text/plain": [
       "'Python'"
      ]
     },
     "execution_count": 13,
     "metadata": {},
     "output_type": "execute_result"
    }
   ],
   "source": [
    "str1='python'\n",
    "str1.capitalize()"
   ]
  },
  {
   "cell_type": "code",
   "execution_count": 14,
   "id": "8aa23efa",
   "metadata": {},
   "outputs": [
    {
     "data": {
      "text/plain": [
       "'python'"
      ]
     },
     "execution_count": 14,
     "metadata": {},
     "output_type": "execute_result"
    }
   ],
   "source": [
    "str1"
   ]
  },
  {
   "cell_type": "code",
   "execution_count": 15,
   "id": "629e5533",
   "metadata": {},
   "outputs": [
    {
     "data": {
      "text/plain": [
       "'Hello World'"
      ]
     },
     "execution_count": 15,
     "metadata": {},
     "output_type": "execute_result"
    }
   ],
   "source": [
    " 'hELLO wORLD'.title()"
   ]
  },
  {
   "cell_type": "code",
   "execution_count": 17,
   "id": "b7e4f98c",
   "metadata": {},
   "outputs": [
    {
     "data": {
      "text/plain": [
       "(True, False)"
      ]
     },
     "execution_count": 17,
     "metadata": {},
     "output_type": "execute_result"
    }
   ],
   "source": [
    "str1.startswith('py'), str1.endswith('py')"
   ]
  },
  {
   "cell_type": "code",
   "execution_count": 19,
   "id": "9d7555e6",
   "metadata": {},
   "outputs": [
    {
     "data": {
      "text/plain": [
       "(True, False)"
      ]
     },
     "execution_count": 19,
     "metadata": {},
     "output_type": "execute_result"
    }
   ],
   "source": [
    "str1.endswith('on'), str1.startswith('on')"
   ]
  },
  {
   "cell_type": "code",
   "execution_count": 20,
   "id": "2839a87a",
   "metadata": {},
   "outputs": [],
   "source": [
    "my_string='pythontista'"
   ]
  },
  {
   "cell_type": "code",
   "execution_count": 24,
   "id": "b31ce7d4",
   "metadata": {},
   "outputs": [
    {
     "data": {
      "text/plain": [
       "[(0, 'p'),\n",
       " (1, 'y'),\n",
       " (2, 't'),\n",
       " (3, 'h'),\n",
       " (4, 'o'),\n",
       " (5, 'n'),\n",
       " (6, 't'),\n",
       " (7, 'i'),\n",
       " (8, 's'),\n",
       " (9, 't'),\n",
       " (10, 'a')]"
      ]
     },
     "execution_count": 24,
     "metadata": {},
     "output_type": "execute_result"
    }
   ],
   "source": [
    "list(enumerate(my_string))"
   ]
  },
  {
   "cell_type": "code",
   "execution_count": 21,
   "id": "61a36e37",
   "metadata": {},
   "outputs": [
    {
     "data": {
      "text/plain": [
       "2"
      ]
     },
     "execution_count": 21,
     "metadata": {},
     "output_type": "execute_result"
    }
   ],
   "source": [
    "my_string.find('t')"
   ]
  },
  {
   "cell_type": "code",
   "execution_count": 27,
   "id": "db083936",
   "metadata": {},
   "outputs": [
    {
     "data": {
      "text/plain": [
       "2"
      ]
     },
     "execution_count": 27,
     "metadata": {},
     "output_type": "execute_result"
    }
   ],
   "source": [
    "my_string.index('t',0,6)"
   ]
  },
  {
   "cell_type": "code",
   "execution_count": 28,
   "id": "ee63e832",
   "metadata": {},
   "outputs": [
    {
     "data": {
      "text/plain": [
       "6"
      ]
     },
     "execution_count": 28,
     "metadata": {},
     "output_type": "execute_result"
    }
   ],
   "source": [
    "my_string.index('t',3,10)"
   ]
  },
  {
   "cell_type": "code",
   "execution_count": 33,
   "id": "46cb46c7",
   "metadata": {},
   "outputs": [
    {
     "data": {
      "text/plain": [
       "9"
      ]
     },
     "execution_count": 33,
     "metadata": {},
     "output_type": "execute_result"
    }
   ],
   "source": [
    "my_string.index('t',7,10)"
   ]
  },
  {
   "cell_type": "code",
   "execution_count": 53,
   "id": "508a2839",
   "metadata": {},
   "outputs": [],
   "source": [
    "alpha= 'python'\n",
    "alphanum= 'pyhton3'\n",
    "num= '1234'"
   ]
  },
  {
   "cell_type": "code",
   "execution_count": 48,
   "id": "738f0b69",
   "metadata": {},
   "outputs": [
    {
     "data": {
      "text/plain": [
       "(True, True, False)"
      ]
     },
     "execution_count": 48,
     "metadata": {},
     "output_type": "execute_result"
    }
   ],
   "source": [
    "alpha.isalpha(),alpha.isalnum(), alpha.isnumeric()"
   ]
  },
  {
   "cell_type": "code",
   "execution_count": 51,
   "id": "dc86fbdd",
   "metadata": {},
   "outputs": [
    {
     "data": {
      "text/plain": [
       "(False, True, False)"
      ]
     },
     "execution_count": 51,
     "metadata": {},
     "output_type": "execute_result"
    }
   ],
   "source": [
    "alphanum.isalpha(), alphanum.isalnum(), alphanum.isnumeric()"
   ]
  },
  {
   "cell_type": "code",
   "execution_count": 56,
   "id": "b61a899a",
   "metadata": {},
   "outputs": [
    {
     "data": {
      "text/plain": [
       "(False, True, True)"
      ]
     },
     "execution_count": 56,
     "metadata": {},
     "output_type": "execute_result"
    }
   ],
   "source": [
    "num.isalpha(),num.isalnum(), num.isnumeric()"
   ]
  },
  {
   "cell_type": "code",
   "execution_count": 60,
   "id": "762df51d",
   "metadata": {},
   "outputs": [
    {
     "data": {
      "text/plain": [
       "(True, False)"
      ]
     },
     "execution_count": 60,
     "metadata": {},
     "output_type": "execute_result"
    }
   ],
   "source": [
    "'python'.islower(), 'Python'.isupper()"
   ]
  },
  {
   "cell_type": "code",
   "execution_count": 61,
   "id": "8f057d4a",
   "metadata": {},
   "outputs": [
    {
     "data": {
      "text/plain": [
       "(False, True)"
      ]
     },
     "execution_count": 61,
     "metadata": {},
     "output_type": "execute_result"
    }
   ],
   "source": [
    "'python'.isupper(), 'PYTHON'.isupper()"
   ]
  },
  {
   "cell_type": "code",
   "execution_count": 62,
   "id": "e80570f7",
   "metadata": {},
   "outputs": [
    {
     "data": {
      "text/plain": [
       "(False, False)"
      ]
     },
     "execution_count": 62,
     "metadata": {},
     "output_type": "execute_result"
    }
   ],
   "source": [
    "'pYTHON'.islower(),'pYTHON'.isupper()"
   ]
  },
  {
   "cell_type": "code",
   "execution_count": 3,
   "id": "aa8d72df",
   "metadata": {},
   "outputs": [
    {
     "data": {
      "text/plain": [
       "(False, True)"
      ]
     },
     "execution_count": 3,
     "metadata": {},
     "output_type": "execute_result"
    }
   ],
   "source": [
    "''.isspace(), \" \".isspace()"
   ]
  },
  {
   "cell_type": "code",
   "execution_count": 4,
   "id": "ba4350c8",
   "metadata": {},
   "outputs": [
    {
     "data": {
      "text/plain": [
       "('Python', '  Python', 'Python  ')"
      ]
     },
     "execution_count": 4,
     "metadata": {},
     "output_type": "execute_result"
    }
   ],
   "source": [
    "'  Python   '.strip(), \"  Python   \".rstrip(),\"   Python  \".lstrip()"
   ]
  },
  {
   "cell_type": "code",
   "execution_count": 7,
   "id": "d18e9508",
   "metadata": {},
   "outputs": [
    {
     "data": {
      "text/plain": [
       "['apple', 'kiwi', 'banana', 'strawberry', 'orange']"
      ]
     },
     "execution_count": 7,
     "metadata": {},
     "output_type": "execute_result"
    }
   ],
   "source": [
    "'apple,kiwi,banana,strawberry,orange'.split(',')"
   ]
  },
  {
   "cell_type": "code",
   "execution_count": 8,
   "id": "a2fd5c98",
   "metadata": {},
   "outputs": [
    {
     "data": {
      "text/plain": [
       "['apple;kiwi', 'banana', 'strawberry:orange']"
      ]
     },
     "execution_count": 8,
     "metadata": {},
     "output_type": "execute_result"
    }
   ],
   "source": [
    "'apple;kiwi,banana,strawberry:orange'.split(',')"
   ]
  },
  {
   "cell_type": "markdown",
   "id": "dcd8c89e",
   "metadata": {},
   "source": [
    "# List Comprehension"
   ]
  },
  {
   "cell_type": "code",
   "execution_count": 38,
   "id": "a72a85d7",
   "metadata": {},
   "outputs": [],
   "source": [
    "lst=[1,2,3,4,5]"
   ]
  },
  {
   "cell_type": "code",
   "execution_count": 40,
   "id": "612184cc",
   "metadata": {},
   "outputs": [
    {
     "data": {
      "text/plain": [
       "[1, 4, 9, 16, 25]"
      ]
     },
     "execution_count": 40,
     "metadata": {},
     "output_type": "execute_result"
    }
   ],
   "source": [
    "sqr_lst"
   ]
  },
  {
   "cell_type": "code",
   "execution_count": 41,
   "id": "69a89328",
   "metadata": {},
   "outputs": [],
   "source": [
    "new_sqr_lst=[elem*elem for elem in lst]"
   ]
  },
  {
   "cell_type": "code",
   "execution_count": 42,
   "id": "b78d2945",
   "metadata": {},
   "outputs": [
    {
     "data": {
      "text/plain": [
       "[1, 4, 9, 16, 25]"
      ]
     },
     "execution_count": 42,
     "metadata": {},
     "output_type": "execute_result"
    }
   ],
   "source": [
    "new_sqr_lst"
   ]
  },
  {
   "cell_type": "code",
   "execution_count": 43,
   "id": "ca304e1a",
   "metadata": {},
   "outputs": [],
   "source": [
    "numbers=[6,7,8,9,10,11,12]"
   ]
  },
  {
   "cell_type": "code",
   "execution_count": 44,
   "id": "7edb0f0f",
   "metadata": {},
   "outputs": [],
   "source": [
    "new_list=[number ** 2 for number in numbers]"
   ]
  },
  {
   "cell_type": "code",
   "execution_count": 46,
   "id": "a27ab49c",
   "metadata": {},
   "outputs": [
    {
     "data": {
      "text/plain": [
       "[36, 49, 64, 81, 100, 121, 144]"
      ]
     },
     "execution_count": 46,
     "metadata": {},
     "output_type": "execute_result"
    }
   ],
   "source": [
    "new_list"
   ]
  },
  {
   "cell_type": "code",
   "execution_count": 47,
   "id": "76db731d",
   "metadata": {},
   "outputs": [],
   "source": [
    "sqr_numb=[2,3,4,5,6]"
   ]
  },
  {
   "cell_type": "code",
   "execution_count": 48,
   "id": "13517553",
   "metadata": {},
   "outputs": [],
   "source": [
    "numb=[sqr ** 3 for sqr in sqr_numb]"
   ]
  },
  {
   "cell_type": "code",
   "execution_count": 49,
   "id": "7dd703a9",
   "metadata": {},
   "outputs": [
    {
     "data": {
      "text/plain": [
       "[8, 27, 64, 125, 216]"
      ]
     },
     "execution_count": 49,
     "metadata": {},
     "output_type": "execute_result"
    }
   ],
   "source": [
    "numb"
   ]
  },
  {
   "cell_type": "code",
   "execution_count": 60,
   "id": "3c38925b",
   "metadata": {},
   "outputs": [
    {
     "name": "stdout",
     "output_type": "stream",
     "text": [
      "[100, 200, 300, 400, 500]\n"
     ]
    }
   ],
   "source": [
    "range_func=[10,20,30,40,50]\n",
    "rang_f = [elem*10 for elem in range_func]\n",
    "print(rang_f)"
   ]
  },
  {
   "cell_type": "code",
   "execution_count": 2,
   "id": "55579eac",
   "metadata": {},
   "outputs": [
    {
     "data": {
      "text/plain": [
       "[100, 200, 300, 400, 500, 600]"
      ]
     },
     "execution_count": 2,
     "metadata": {},
     "output_type": "execute_result"
    }
   ],
   "source": [
    "ex_list=[1,2,3,4,5,6]\n",
    "ex_list=[numb*100 for numb in ex_list]\n",
    "ex_list"
   ]
  },
  {
   "cell_type": "code",
   "execution_count": 6,
   "id": "e9dd77b6",
   "metadata": {},
   "outputs": [
    {
     "data": {
      "text/plain": [
       "[100, 200, 300, 400, 500, 600]"
      ]
     },
     "execution_count": 6,
     "metadata": {},
     "output_type": "execute_result"
    }
   ],
   "source": [
    "n = [n*100 for n in range(1,7)]\n",
    "n"
   ]
  },
  {
   "cell_type": "code",
   "execution_count": 9,
   "id": "3c7dd560",
   "metadata": {},
   "outputs": [
    {
     "data": {
      "text/plain": [
       "[100, 200, 300, 400, 500, 600]"
      ]
     },
     "execution_count": 9,
     "metadata": {},
     "output_type": "execute_result"
    }
   ],
   "source": [
    "final_ex = [final_exp for final_exp in range(100,601,100)]\n",
    "final_ex"
   ]
  },
  {
   "cell_type": "markdown",
   "id": "9649107a",
   "metadata": {},
   "source": [
    "# For Loops"
   ]
  },
  {
   "cell_type": "markdown",
   "id": "44209247",
   "metadata": {},
   "source": [
    "## Sequence are Iterable"
   ]
  },
  {
   "cell_type": "code",
   "execution_count": 11,
   "id": "f0a80652",
   "metadata": {},
   "outputs": [
    {
     "data": {
      "text/plain": [
       "[2, 4, 6, 8, 10, 12]"
      ]
     },
     "execution_count": 11,
     "metadata": {},
     "output_type": "execute_result"
    }
   ],
   "source": [
    "l = [1,3,5,7,9,11]\n",
    "l[0] = l[0]+1\n",
    "l[1] = l[1]+1\n",
    "l[2] = l[2]+1\n",
    "l[3] = l[3]+1\n",
    "l[4] = l[4]+1\n",
    "l[5] = l[5]+1\n",
    "l"
   ]
  },
  {
   "cell_type": "code",
   "execution_count": 3,
   "id": "f7e3875b",
   "metadata": {},
   "outputs": [
    {
     "data": {
      "text/plain": [
       "66"
      ]
     },
     "execution_count": 3,
     "metadata": {},
     "output_type": "execute_result"
    }
   ],
   "source": [
    "l = [1,10,23,25,7]\n",
    "total = 0\n",
    "for i in l:\n",
    "    total = total+i\n",
    "total"
   ]
  },
  {
   "cell_type": "code",
   "execution_count": 7,
   "id": "427b676c",
   "metadata": {},
   "outputs": [
    {
     "data": {
      "text/plain": [
       "40250"
      ]
     },
     "execution_count": 7,
     "metadata": {},
     "output_type": "execute_result"
    }
   ],
   "source": [
    "l = [1,10,23,25,7]\n",
    "total = 1\n",
    "for i in l:\n",
    "    total = total*i\n",
    "total"
   ]
  },
  {
   "cell_type": "code",
   "execution_count": null,
   "id": "af96c227",
   "metadata": {},
   "outputs": [],
   "source": []
  },
  {
   "cell_type": "code",
   "execution_count": 12,
   "id": "78d9fe70",
   "metadata": {},
   "outputs": [
    {
     "name": "stdout",
     "output_type": "stream",
     "text": [
      "2\n",
      "4\n",
      "6\n",
      "8\n",
      "10\n",
      "12\n"
     ]
    }
   ],
   "source": [
    "list_ = [1,3,5,7,9,11]\n",
    "for add_one in list_:\n",
    "    print(add_one+1)"
   ]
  },
  {
   "cell_type": "code",
   "execution_count": 3,
   "id": "019bdda8",
   "metadata": {},
   "outputs": [
    {
     "name": "stdout",
     "output_type": "stream",
     "text": [
      "[1]\n",
      "[1, 8]\n",
      "[1, 8, 27]\n",
      "[1, 8, 27, 64]\n",
      "[1, 8, 27, 64, 125]\n",
      "[1, 8, 27, 64, 125, 216]\n",
      "[1, 8, 27, 64, 125, 216, 343]\n",
      "[1, 8, 27, 64, 125, 216, 343, 512]\n",
      "[1, 8, 27, 64, 125, 216, 343, 512, 729]\n",
      "[1, 8, 27, 64, 125, 216, 343, 512, 729, 1000]\n",
      "[1, 8, 27, 64, 125, 216, 343, 512, 729, 1000, 1331]\n",
      "[1, 8, 27, 64, 125, 216, 343, 512, 729, 1000, 1331, 1728]\n",
      "[1, 8, 27, 64, 125, 216, 343, 512, 729, 1000, 1331, 1728, 2197]\n",
      "[1, 8, 27, 64, 125, 216, 343, 512, 729, 1000, 1331, 1728, 2197, 2744]\n",
      "[1, 8, 27, 64, 125, 216, 343, 512, 729, 1000, 1331, 1728, 2197, 2744, 3375]\n",
      "[1, 8, 27, 64, 125, 216, 343, 512, 729, 1000, 1331, 1728, 2197, 2744, 3375, 4096]\n",
      "[1, 8, 27, 64, 125, 216, 343, 512, 729, 1000, 1331, 1728, 2197, 2744, 3375, 4096, 4913]\n",
      "[1, 8, 27, 64, 125, 216, 343, 512, 729, 1000, 1331, 1728, 2197, 2744, 3375, 4096, 4913, 5832]\n",
      "[1, 8, 27, 64, 125, 216, 343, 512, 729, 1000, 1331, 1728, 2197, 2744, 3375, 4096, 4913, 5832, 6859]\n",
      "[1, 8, 27, 64, 125, 216, 343, 512, 729, 1000, 1331, 1728, 2197, 2744, 3375, 4096, 4913, 5832, 6859, 8000]\n"
     ]
    }
   ],
   "source": [
    "l = [1,2,3,4,5,6,7,8,9,10,11,12,13,14,15,16,17,18,19,20]\n",
    "cube_root = []\n",
    "for i in l:\n",
    "    cube_root.append(i**3)\n",
    "    print(cube_root)"
   ]
  },
  {
   "cell_type": "code",
   "execution_count": 7,
   "id": "c5828bcf",
   "metadata": {},
   "outputs": [
    {
     "name": "stdout",
     "output_type": "stream",
     "text": [
      "[1, 8, 27, 64, 125, 216, 343, 512, 729, 1000, 1331, 1728, 2197, 2744, 3375, 4096, 4913, 5832, 6859, 8000]\n"
     ]
    }
   ],
   "source": [
    "print(cube_root)"
   ]
  },
  {
   "cell_type": "code",
   "execution_count": 19,
   "id": "5cd34cde",
   "metadata": {},
   "outputs": [
    {
     "name": "stdout",
     "output_type": "stream",
     "text": [
      "[1, 2, 3, 4, 5, 6, 7, 8, 9, 10, 11, 12, 13, 14, 15, 16, 17, 18, 19, 20]\n",
      "[1, 4, 3, 4, 5, 6, 7, 8, 9, 10, 11, 12, 13, 14, 15, 16, 17, 18, 19, 20]\n",
      "[1, 4, 9, 4, 5, 6, 7, 8, 9, 10, 11, 12, 13, 14, 15, 16, 17, 18, 19, 20]\n",
      "[1, 4, 9, 16, 5, 6, 7, 8, 9, 10, 11, 12, 13, 14, 15, 16, 17, 18, 19, 20]\n",
      "[1, 4, 9, 16, 25, 6, 7, 8, 9, 10, 11, 12, 13, 14, 15, 16, 17, 18, 19, 20]\n",
      "[1, 4, 9, 16, 25, 36, 7, 8, 9, 10, 11, 12, 13, 14, 15, 16, 17, 18, 19, 20]\n",
      "[1, 4, 9, 16, 25, 36, 49, 8, 9, 10, 11, 12, 13, 14, 15, 16, 17, 18, 19, 20]\n",
      "[1, 4, 9, 16, 25, 36, 49, 64, 9, 10, 11, 12, 13, 14, 15, 16, 17, 18, 19, 20]\n",
      "[1, 4, 9, 16, 25, 36, 49, 64, 81, 10, 11, 12, 13, 14, 15, 16, 17, 18, 19, 20]\n",
      "[1, 4, 9, 16, 25, 36, 49, 64, 81, 100, 11, 12, 13, 14, 15, 16, 17, 18, 19, 20]\n",
      "[1, 4, 9, 16, 25, 36, 49, 64, 81, 100, 121, 12, 13, 14, 15, 16, 17, 18, 19, 20]\n",
      "[1, 4, 9, 16, 25, 36, 49, 64, 81, 100, 121, 144, 13, 14, 15, 16, 17, 18, 19, 20]\n",
      "[1, 4, 9, 16, 25, 36, 49, 64, 81, 100, 121, 144, 169, 14, 15, 16, 17, 18, 19, 20]\n",
      "[1, 4, 9, 16, 25, 36, 49, 64, 81, 100, 121, 144, 169, 196, 15, 16, 17, 18, 19, 20]\n",
      "[1, 4, 9, 16, 25, 36, 49, 64, 81, 100, 121, 144, 169, 196, 225, 16, 17, 18, 19, 20]\n",
      "[1, 4, 9, 16, 25, 36, 49, 64, 81, 100, 121, 144, 169, 196, 225, 256, 17, 18, 19, 20]\n",
      "[1, 4, 9, 16, 25, 36, 49, 64, 81, 100, 121, 144, 169, 196, 225, 256, 289, 18, 19, 20]\n",
      "[1, 4, 9, 16, 25, 36, 49, 64, 81, 100, 121, 144, 169, 196, 225, 256, 289, 324, 19, 20]\n",
      "[1, 4, 9, 16, 25, 36, 49, 64, 81, 100, 121, 144, 169, 196, 225, 256, 289, 324, 361, 20]\n",
      "[1, 4, 9, 16, 25, 36, 49, 64, 81, 100, 121, 144, 169, 196, 225, 256, 289, 324, 361, 400]\n"
     ]
    }
   ],
   "source": [
    "l = list(range(1,21))\n",
    "for i in range(len(l)):\n",
    "    l[i]=l[i]**2\n",
    "    print(l)"
   ]
  },
  {
   "cell_type": "code",
   "execution_count": 39,
   "id": "cae0af1c",
   "metadata": {},
   "outputs": [],
   "source": [
    "sqr_lst=[]\n",
    "for elem in lst:\n",
    "    sqr_lst.append(elem*elem)"
   ]
  },
  {
   "cell_type": "code",
   "execution_count": 55,
   "id": "fd44ad43",
   "metadata": {},
   "outputs": [
    {
     "name": "stdout",
     "output_type": "stream",
     "text": [
      "2\n",
      "4\n",
      "6\n",
      "8\n",
      "10\n",
      "12\n",
      "14\n",
      "16\n",
      "18\n"
     ]
    }
   ],
   "source": [
    "for even in range(2,20,2):\n",
    "    print(even)"
   ]
  },
  {
   "cell_type": "code",
   "execution_count": 61,
   "id": "f8209832",
   "metadata": {},
   "outputs": [
    {
     "name": "stdout",
     "output_type": "stream",
     "text": [
      "HI\n",
      "Ram\n",
      "HI\n",
      "Shaam\n",
      "HI\n",
      "Rohan\n",
      "HI\n",
      "Mohan\n",
      "HI\n",
      "Jobu\n",
      "Hello Eeryone Hope you guys are doing great\n"
     ]
    }
   ],
   "source": [
    "Everyone=['Ram','Shaam','Rohan','Mohan','Jobu']\n",
    "for Members in Everyone:\n",
    "    print('HI')\n",
    "    print(Members)\n",
    "print('Hello Eeryone Hope you guys are doing great')"
   ]
  },
  {
   "cell_type": "code",
   "execution_count": 54,
   "id": "189a9216",
   "metadata": {},
   "outputs": [
    {
     "name": "stdout",
     "output_type": "stream",
     "text": [
      "0\n",
      "1\n",
      "2\n",
      "3\n",
      "4\n",
      "5\n",
      "6\n",
      "7\n",
      "8\n",
      "9\n",
      "10\n",
      "11\n",
      "12\n",
      "13\n",
      "14\n"
     ]
    }
   ],
   "source": [
    "for range_l in range(15):\n",
    "    print(range_l)"
   ]
  },
  {
   "cell_type": "code",
   "execution_count": 56,
   "id": "bb263abd",
   "metadata": {},
   "outputs": [
    {
     "name": "stdout",
     "output_type": "stream",
     "text": [
      "100\n",
      "200\n",
      "300\n",
      "400\n",
      "500\n"
     ]
    }
   ],
   "source": [
    "for comprehension in range(100,600,100):\n",
    "    print(comprehension)"
   ]
  },
  {
   "cell_type": "code",
   "execution_count": 53,
   "id": "95cfa3b1",
   "metadata": {},
   "outputs": [
    {
     "name": "stdout",
     "output_type": "stream",
     "text": [
      "2\n",
      "3\n",
      "4\n",
      "5\n",
      "6\n",
      "7\n",
      "8\n",
      "9\n",
      "10\n",
      "11\n",
      "12\n",
      "13\n",
      "14\n"
     ]
    }
   ],
   "source": [
    "for range_list in range(2,15):\n",
    "    print(range_list)"
   ]
  },
  {
   "cell_type": "code",
   "execution_count": null,
   "id": "00faaab5",
   "metadata": {},
   "outputs": [],
   "source": [
    "my_str='Python'\n",
    "for c in my_str:\n",
    "                print(c)"
   ]
  },
  {
   "cell_type": "markdown",
   "id": "a65289e3",
   "metadata": {},
   "source": [
    "### if elif and else Condition"
   ]
  },
  {
   "cell_type": "code",
   "execution_count": 43,
   "id": "f653ea28",
   "metadata": {},
   "outputs": [
    {
     "name": "stdout",
     "output_type": "stream",
     "text": [
      "Chutiya\n"
     ]
    }
   ],
   "source": [
    "# God while making humans\n",
    "human = \"\" \n",
    "facts = \"\"\n",
    "if human == \"Sajid\":\n",
    "    print('Chutiya')\n",
    "elif facts ==\"Nahi Yaar Sajid Mast Aadmi Hai\":\n",
    "    print('Chup Chutiye')\n",
    "else:\n",
    "    print('Mast Aadmi')"
   ]
  },
  {
   "cell_type": "code",
   "execution_count": 55,
   "id": "a4a6b69c",
   "metadata": {},
   "outputs": [
    {
     "name": "stdout",
     "output_type": "stream",
     "text": [
      "[1, 3, 5, 7, 9] [2, 4, 6, 8, 14.0] [10.01, 12.02]\n"
     ]
    }
   ],
   "source": [
    "l = [1,2,3,4,5,6,7,8,9,10.01,12.02,14.0]\n",
    "even = []\n",
    "odd = []\n",
    "fraction = []\n",
    "for i in l:\n",
    "    if i%2==0:\n",
    "        even.append(i)\n",
    "    elif i%2==1:\n",
    "        odd.append(i)\n",
    "    else:\n",
    "        fraction.append(i)\n",
    "print(odd,even,fraction)"
   ]
  },
  {
   "cell_type": "markdown",
   "id": "52e915d5",
   "metadata": {},
   "source": [
    "# Function "
   ]
  },
  {
   "cell_type": "code",
   "execution_count": 1,
   "id": "3f9910b7",
   "metadata": {},
   "outputs": [],
   "source": [
    "# God while making humans\n",
    "def alexa(n):\n",
    "    if n==\"Sajid\":\n",
    "        print('Chutiya')\n",
    "    elif n==\"Nahi Yaar Sajid Mast Aadmi Hai\":\n",
    "        print('Chup Chutiye')\n",
    "    elif n==\"Sajid Nadiadwala\":\n",
    "        return \"Sajid Bhosdiwala*\"\n",
    "    elif n==\"Sajid Khan\":\n",
    "        return \"Choot Pagal\"\n",
    "    elif n==\"Maruf\":\n",
    "        return \"Rich Billionaire Philanthropist\"\n",
    "    elif n==\"Pranav\":\n",
    "        return \"Arey Chava Talented Guitar Bajata hai personally fida hai uspe\"\n",
    "    elif n==\"Yogesh Patil\":\n",
    "        return \"Ekdum Cheeel kawwa kabutar\"\n",
    "    else:\n",
    "        print('Mast Aadmi')"
   ]
  },
  {
   "cell_type": "code",
   "execution_count": 56,
   "id": "449a703a",
   "metadata": {},
   "outputs": [
    {
     "data": {
      "text/plain": [
       "25"
      ]
     },
     "execution_count": 56,
     "metadata": {},
     "output_type": "execute_result"
    }
   ],
   "source": [
    "pow(5,2)"
   ]
  },
  {
   "cell_type": "code",
   "execution_count": 1,
   "id": "a483da36",
   "metadata": {},
   "outputs": [],
   "source": [
    "def Number(x):\n",
    "    if x%2==0:\n",
    "        return \"even\"\n",
    "    elif x%2==1:\n",
    "        return \"odd\"\n",
    "    else:\n",
    "        return \"fraction\""
   ]
  },
  {
   "cell_type": "code",
   "execution_count": 13,
   "id": "aedf8a24",
   "metadata": {},
   "outputs": [
    {
     "data": {
      "text/plain": [
       "['fraction', 'even', 'odd']"
      ]
     },
     "execution_count": 13,
     "metadata": {},
     "output_type": "execute_result"
    }
   ],
   "source": [
    "list(map(Number,[2.20,12,13]))"
   ]
  },
  {
   "cell_type": "markdown",
   "id": "2bc01e67",
   "metadata": {},
   "source": [
    " # List Methods"
   ]
  },
  {
   "cell_type": "markdown",
   "id": "5b1ec7b8",
   "metadata": {},
   "source": [
    "## Adding into the list"
   ]
  },
  {
   "cell_type": "code",
   "execution_count": 3,
   "id": "e95dec21",
   "metadata": {},
   "outputs": [],
   "source": [
    "lst = [0,1,2,3,4,5]"
   ]
  },
  {
   "cell_type": "code",
   "execution_count": 4,
   "id": "9564c156",
   "metadata": {},
   "outputs": [],
   "source": [
    "lst.append(6)"
   ]
  },
  {
   "cell_type": "code",
   "execution_count": 5,
   "id": "057a92cd",
   "metadata": {},
   "outputs": [
    {
     "data": {
      "text/plain": [
       "[0, 1, 2, 3, 4, 5, 6]"
      ]
     },
     "execution_count": 5,
     "metadata": {},
     "output_type": "execute_result"
    }
   ],
   "source": [
    "lst"
   ]
  },
  {
   "cell_type": "code",
   "execution_count": 6,
   "id": "615762e1",
   "metadata": {},
   "outputs": [],
   "source": [
    "lst.extend([7,8])"
   ]
  },
  {
   "cell_type": "code",
   "execution_count": 7,
   "id": "fb013ed9",
   "metadata": {},
   "outputs": [
    {
     "data": {
      "text/plain": [
       "9"
      ]
     },
     "execution_count": 7,
     "metadata": {},
     "output_type": "execute_result"
    }
   ],
   "source": [
    "len(lst)"
   ]
  },
  {
   "cell_type": "code",
   "execution_count": 8,
   "id": "1e7bc246",
   "metadata": {},
   "outputs": [
    {
     "data": {
      "text/plain": [
       "[0, 1, 2, 3, 4, 5, 6, 7, 8]"
      ]
     },
     "execution_count": 8,
     "metadata": {},
     "output_type": "execute_result"
    }
   ],
   "source": [
    "lst"
   ]
  },
  {
   "cell_type": "code",
   "execution_count": 9,
   "id": "980dee44",
   "metadata": {},
   "outputs": [],
   "source": [
    "lst.extend(range(9, 14))"
   ]
  },
  {
   "cell_type": "code",
   "execution_count": 10,
   "id": "301239fe",
   "metadata": {},
   "outputs": [
    {
     "data": {
      "text/plain": [
       "[0, 1, 2, 3, 4, 5, 6, 7, 8, 9, 10, 11, 12, 13]"
      ]
     },
     "execution_count": 10,
     "metadata": {},
     "output_type": "execute_result"
    }
   ],
   "source": [
    "lst"
   ]
  },
  {
   "cell_type": "code",
   "execution_count": 11,
   "id": "0e639457",
   "metadata": {},
   "outputs": [],
   "source": [
    "lst.extend([14,15,16,17])"
   ]
  },
  {
   "cell_type": "markdown",
   "id": "7d3d831d",
   "metadata": {},
   "source": [
    "### Insert is used to replace number of a particular index number "
   ]
  },
  {
   "cell_type": "code",
   "execution_count": 12,
   "id": "3aee1cbf",
   "metadata": {},
   "outputs": [],
   "source": [
    "lst.insert(18,19) "
   ]
  },
  {
   "cell_type": "code",
   "execution_count": 13,
   "id": "e4f04e06",
   "metadata": {},
   "outputs": [
    {
     "data": {
      "text/plain": [
       "[0, 1, 2, 3, 4, 5, 6, 7, 8, 9, 10, 11, 12, 13, 14, 15, 16, 17, 19]"
      ]
     },
     "execution_count": 13,
     "metadata": {},
     "output_type": "execute_result"
    }
   ],
   "source": [
    "lst"
   ]
  },
  {
   "cell_type": "markdown",
   "id": "540a10e6",
   "metadata": {},
   "source": [
    "### Removing elements from a list"
   ]
  },
  {
   "cell_type": "code",
   "execution_count": 14,
   "id": "46b7a9ba",
   "metadata": {},
   "outputs": [
    {
     "data": {
      "text/plain": [
       "19"
      ]
     },
     "execution_count": 14,
     "metadata": {},
     "output_type": "execute_result"
    }
   ],
   "source": [
    "lst.pop()"
   ]
  },
  {
   "cell_type": "code",
   "execution_count": 80,
   "id": "095e5130",
   "metadata": {},
   "outputs": [],
   "source": [
    "del lst[7]"
   ]
  },
  {
   "cell_type": "code",
   "execution_count": 95,
   "id": "5d32c18f",
   "metadata": {},
   "outputs": [],
   "source": [
    "lst.clear()"
   ]
  },
  {
   "cell_type": "markdown",
   "id": "3be1bc13",
   "metadata": {},
   "source": [
    "### Replace"
   ]
  },
  {
   "cell_type": "code",
   "execution_count": 92,
   "id": "ffa5b095",
   "metadata": {},
   "outputs": [],
   "source": [
    "lst[6] = 6 "
   ]
  },
  {
   "cell_type": "markdown",
   "id": "73ee2683",
   "metadata": {},
   "source": [
    "### Repitition Operation"
   ]
  },
  {
   "cell_type": "code",
   "execution_count": 15,
   "id": "ee0a81c3",
   "metadata": {},
   "outputs": [
    {
     "data": {
      "text/plain": [
       "[1, 2, 3, 1, 2, 3, 1, 2, 3]"
      ]
     },
     "execution_count": 15,
     "metadata": {},
     "output_type": "execute_result"
    }
   ],
   "source": [
    "lst=[1,2,3]\n",
    "lst*3"
   ]
  },
  {
   "cell_type": "code",
   "execution_count": 16,
   "id": "4c831eb0",
   "metadata": {},
   "outputs": [
    {
     "data": {
      "text/plain": [
       "['Python', 'Python', 'Python']"
      ]
     },
     "execution_count": 16,
     "metadata": {},
     "output_type": "execute_result"
    }
   ],
   "source": [
    "ml=[\"Python\"]\n",
    "ml*3"
   ]
  },
  {
   "cell_type": "markdown",
   "id": "acac7274",
   "metadata": {},
   "source": [
    "### Sort a list"
   ]
  },
  {
   "cell_type": "code",
   "execution_count": 25,
   "id": "2d295695",
   "metadata": {},
   "outputs": [],
   "source": [
    "lst=[67,34,42,12,98,56]"
   ]
  },
  {
   "cell_type": "code",
   "execution_count": 27,
   "id": "efd2f707",
   "metadata": {},
   "outputs": [],
   "source": [
    "lst.sort()"
   ]
  },
  {
   "cell_type": "code",
   "execution_count": 28,
   "id": "f7da57ee",
   "metadata": {},
   "outputs": [
    {
     "data": {
      "text/plain": [
       "[12, 34, 42, 56, 67, 98]"
      ]
     },
     "execution_count": 28,
     "metadata": {},
     "output_type": "execute_result"
    }
   ],
   "source": [
    "lst"
   ]
  },
  {
   "cell_type": "code",
   "execution_count": 29,
   "id": "bec56a8d",
   "metadata": {},
   "outputs": [],
   "source": [
    "lst.sort(reverse=True)"
   ]
  },
  {
   "cell_type": "code",
   "execution_count": 30,
   "id": "b889255d",
   "metadata": {},
   "outputs": [
    {
     "data": {
      "text/plain": [
       "[98, 67, 56, 42, 34, 12]"
      ]
     },
     "execution_count": 30,
     "metadata": {},
     "output_type": "execute_result"
    }
   ],
   "source": [
    "lst"
   ]
  },
  {
   "cell_type": "code",
   "execution_count": 31,
   "id": "a1d794c7",
   "metadata": {},
   "outputs": [],
   "source": [
    "Name=['Tom','Kate','George','Pete','Veronica','William','Adam']"
   ]
  },
  {
   "cell_type": "code",
   "execution_count": 32,
   "id": "ec5d2f1a",
   "metadata": {},
   "outputs": [],
   "source": [
    "Name.sort()"
   ]
  },
  {
   "cell_type": "code",
   "execution_count": 33,
   "id": "43f7b3ca",
   "metadata": {},
   "outputs": [
    {
     "data": {
      "text/plain": [
       "['Adam', 'George', 'Kate', 'Pete', 'Tom', 'Veronica', 'William']"
      ]
     },
     "execution_count": 33,
     "metadata": {},
     "output_type": "execute_result"
    }
   ],
   "source": [
    "Name"
   ]
  },
  {
   "cell_type": "code",
   "execution_count": 34,
   "id": "314e4792",
   "metadata": {},
   "outputs": [],
   "source": [
    "Name.sort(reverse=True)"
   ]
  },
  {
   "cell_type": "code",
   "execution_count": 35,
   "id": "15aa98e9",
   "metadata": {},
   "outputs": [
    {
     "data": {
      "text/plain": [
       "['William', 'Veronica', 'Tom', 'Pete', 'Kate', 'George', 'Adam']"
      ]
     },
     "execution_count": 35,
     "metadata": {},
     "output_type": "execute_result"
    }
   ],
   "source": [
    "Name"
   ]
  },
  {
   "cell_type": "code",
   "execution_count": 4,
   "id": "a16271e9",
   "metadata": {},
   "outputs": [
    {
     "name": "stdout",
     "output_type": "stream",
     "text": [
      "Mast Aadmi\n"
     ]
    }
   ],
   "source": [
    "alexa('Yogesh Patil')"
   ]
  },
  {
   "cell_type": "code",
   "execution_count": null,
   "id": "416f0a69",
   "metadata": {},
   "outputs": [],
   "source": []
  }
 ],
 "metadata": {
  "kernelspec": {
   "display_name": "Python 3 (ipykernel)",
   "language": "python",
   "name": "python3"
  },
  "language_info": {
   "codemirror_mode": {
    "name": "ipython",
    "version": 3
   },
   "file_extension": ".py",
   "mimetype": "text/x-python",
   "name": "python",
   "nbconvert_exporter": "python",
   "pygments_lexer": "ipython3",
   "version": "3.9.7"
  }
 },
 "nbformat": 4,
 "nbformat_minor": 5
}
