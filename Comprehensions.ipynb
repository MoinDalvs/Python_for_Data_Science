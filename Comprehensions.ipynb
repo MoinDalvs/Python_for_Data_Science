{
 "cells": [
  {
   "cell_type": "markdown",
   "id": "c6b015c0",
   "metadata": {},
   "source": [
    "# Comprehensions"
   ]
  },
  {
   "cell_type": "markdown",
   "id": "811d76dc",
   "metadata": {},
   "source": [
    "## List Comprehensions"
   ]
  },
  {
   "cell_type": "markdown",
   "id": "66690594",
   "metadata": {},
   "source": [
    "### Example 1"
   ]
  },
  {
   "cell_type": "code",
   "execution_count": 3,
   "id": "d64c614c",
   "metadata": {
    "ExecuteTime": {
     "end_time": "2022-11-16T08:55:13.193641Z",
     "start_time": "2022-11-16T08:55:13.128250Z"
    }
   },
   "outputs": [
    {
     "data": {
      "text/plain": [
       "[1, 4, 9, 16, 25, 36, 49, 64, 81, 100]"
      ]
     },
     "execution_count": 3,
     "metadata": {},
     "output_type": "execute_result"
    }
   ],
   "source": [
    "result = [x * x for x in range(1,11)]\n",
    "result"
   ]
  },
  {
   "cell_type": "markdown",
   "id": "56d2e3ad",
   "metadata": {},
   "source": [
    "### Example 2"
   ]
  },
  {
   "cell_type": "code",
   "execution_count": 4,
   "id": "4d797aa8",
   "metadata": {
    "ExecuteTime": {
     "end_time": "2022-11-16T08:58:41.870484Z",
     "start_time": "2022-11-16T08:58:41.838854Z"
    }
   },
   "outputs": [
    {
     "data": {
      "text/plain": [
       "[2, 4, 6, 8, 10, 12, 14, 16, 18, 20, 22, 24, 26, 28, 30, 32]"
      ]
     },
     "execution_count": 4,
     "metadata": {},
     "output_type": "execute_result"
    }
   ],
   "source": [
    "# Write a program to print all numbers divisible by 2 using LC\n",
    "\n",
    "divisible_by_2 = [ x for x in range(1,33) if x % 2 == 0 ]\n",
    "divisible_by_2"
   ]
  },
  {
   "cell_type": "markdown",
   "id": "77015b81",
   "metadata": {},
   "source": [
    "### Example 3"
   ]
  },
  {
   "cell_type": "code",
   "execution_count": 12,
   "id": "a1e2c0f6",
   "metadata": {
    "ExecuteTime": {
     "end_time": "2022-11-16T09:07:03.035192Z",
     "start_time": "2022-11-16T09:07:03.017199Z"
    }
   },
   "outputs": [
    {
     "name": "stdout",
     "output_type": "stream",
     "text": [
      "['M', 'T', 'H', 'M', 'T', 'C', 'S']\n"
     ]
    }
   ],
   "source": [
    "# Write a program to get list of all characters from subject which are consonants\n",
    "print([ x for x in \"MATHEMATICS\" if x not in 'AEOIU' ])"
   ]
  },
  {
   "cell_type": "markdown",
   "id": "b2eb414b",
   "metadata": {},
   "source": [
    "### Example 4"
   ]
  },
  {
   "cell_type": "code",
   "execution_count": 15,
   "id": "656578df",
   "metadata": {
    "ExecuteTime": {
     "end_time": "2022-11-16T09:16:27.753870Z",
     "start_time": "2022-11-16T09:16:27.736831Z"
    }
   },
   "outputs": [
    {
     "name": "stdout",
     "output_type": "stream",
     "text": [
      "['www.amazon.com', 'www.amazon.org', 'www.amazon.in', 'www.flipkart.com', 'www.flipkart.org', 'www.flipkart.in', 'www.snapdeal.com', 'www.snapdeal.org', 'www.snapdeal.in', 'www.paytm.com', 'www.paytm.org', 'www.paytm.in']\n"
     ]
    }
   ],
   "source": [
    "websites = ['amazon', 'flipkart', 'snapdeal', 'paytm']\n",
    "extensions = ['com', 'org', 'in']\n",
    "\n",
    "print([ 'www.' + x + '.' + i for x in websites for i in extensions])"
   ]
  },
  {
   "cell_type": "code",
   "execution_count": 16,
   "id": "2e9ca610",
   "metadata": {
    "ExecuteTime": {
     "end_time": "2022-11-16T09:17:58.920499Z",
     "start_time": "2022-11-16T09:17:58.905501Z"
    }
   },
   "outputs": [
    {
     "name": "stdout",
     "output_type": "stream",
     "text": [
      "['www.amazon.com', 'www.amazon.org', 'www.amazon.in', 'www.flipkart.com', 'www.flipkart.org', 'www.flipkart.in', 'www.snapdeal.com', 'www.snapdeal.org', 'www.snapdeal.in', 'www.paytm.com', 'www.paytm.org', 'www.paytm.in']\n"
     ]
    }
   ],
   "source": [
    "print([ 'www.{}.{}'.format(web, ext) for web in websites for ext in extensions])"
   ]
  },
  {
   "cell_type": "markdown",
   "id": "c8d831f2",
   "metadata": {},
   "source": [
    "### Example 5"
   ]
  },
  {
   "cell_type": "code",
   "execution_count": 21,
   "id": "86f93c1f",
   "metadata": {
    "ExecuteTime": {
     "end_time": "2022-11-16T09:30:57.504582Z",
     "start_time": "2022-11-16T09:30:57.490579Z"
    }
   },
   "outputs": [
    {
     "name": "stdout",
     "output_type": "stream",
     "text": [
      "[('Welcome', 7), ('to', 2), ('the', 3), ('world', 5), ('of', 2), ('Python', 6), ('programming', 11)]\n"
     ]
    }
   ],
   "source": [
    "s = 'Welcome to the world of Python programming'\n",
    "# [(\"Welcome\", 7), ('to', 2), ('the', 3), ...]\n",
    "\n",
    "print([(a, len(a)) for a in s.split()])"
   ]
  },
  {
   "cell_type": "markdown",
   "id": "461cdb69",
   "metadata": {},
   "source": [
    "### Example 6"
   ]
  },
  {
   "cell_type": "code",
   "execution_count": null,
   "id": "53bc5d97",
   "metadata": {},
   "outputs": [],
   "source": [
    "# Write a program which will find all such numbers which are divisible by 7\n",
    "# but are not a multiple of 5, between 200 and 320 (both included).\n",
    "# the numbers obtained should be printed in a comma-separated\n",
    "# sequence on a single line.\n",
    "\n",
    "# Hints:\n",
    "# Consider use range(#begin, # end) method"
   ]
  },
  {
   "cell_type": "code",
   "execution_count": 29,
   "id": "7719cc4f",
   "metadata": {
    "ExecuteTime": {
     "end_time": "2022-11-16T10:36:55.913502Z",
     "start_time": "2022-11-16T10:36:55.900490Z"
    }
   },
   "outputs": [
    {
     "name": "stdout",
     "output_type": "stream",
     "text": [
      "203, 217, 224, 231, 238, 252, 259, 266, 273, 287, 294, 301, 308\n"
     ]
    }
   ],
   "source": [
    "print(', '.join([str(n) for n in range(200, 321) if n % 7 == 0 and n % 5 != 0]))"
   ]
  },
  {
   "cell_type": "markdown",
   "id": "38ed92ae",
   "metadata": {},
   "source": [
    "## Dictionary Comprehensions"
   ]
  },
  {
   "cell_type": "markdown",
   "id": "4fd98886",
   "metadata": {},
   "source": [
    "### Example 1"
   ]
  },
  {
   "cell_type": "code",
   "execution_count": null,
   "id": "760f60af",
   "metadata": {},
   "outputs": [],
   "source": [
    "# Take any number as input from the user\n",
    "# and create a dict like below\n",
    "# n = 5\n",
    "# {1: 1, 2: 4, 3: 9, 4: 16, 5: 25, ...}"
   ]
  },
  {
   "cell_type": "code",
   "execution_count": 34,
   "id": "de05a0b1",
   "metadata": {
    "ExecuteTime": {
     "end_time": "2022-11-16T10:46:38.681209Z",
     "start_time": "2022-11-16T10:46:37.109220Z"
    }
   },
   "outputs": [
    {
     "name": "stdout",
     "output_type": "stream",
     "text": [
      "Enter any number: 10\n",
      "{'Square of 1': 1, 'Square of 2': 4, 'Square of 3': 9, 'Square of 4': 16, 'Square of 5': 25, 'Square of 6': 36, 'Square of 7': 49, 'Square of 8': 64, 'Square of 9': 81, 'Square of 10': 100}\n"
     ]
    }
   ],
   "source": [
    "print({ 'Square of ' + str(item): item * item for item in range(1, int(input(\"Enter any number: \")) + 1)})"
   ]
  },
  {
   "cell_type": "code",
   "execution_count": 40,
   "id": "f281477d",
   "metadata": {
    "ExecuteTime": {
     "end_time": "2022-11-16T10:49:00.019980Z",
     "start_time": "2022-11-16T10:48:57.836436Z"
    }
   },
   "outputs": [
    {
     "name": "stdout",
     "output_type": "stream",
     "text": [
      "Enter any number: 10\n",
      "{'Square of 1': 1, 'Square of 2': 4, 'Square of 3': 9, 'Square of 4': 16, 'Square of 5': 25, 'Square of 6': 36, 'Square of 7': 49, 'Square of 8': 64, 'Square of 9': 81, 'Square of 10': 100}\n"
     ]
    }
   ],
   "source": [
    "print({ 'Square of ' + str(item): item**2 for item in range(1, int(input(\"Enter any number: \")) + 1)})"
   ]
  },
  {
   "cell_type": "markdown",
   "id": "83801148",
   "metadata": {},
   "source": [
    "### Example 2"
   ]
  },
  {
   "cell_type": "code",
   "execution_count": 2,
   "id": "4e3f005d",
   "metadata": {
    "ExecuteTime": {
     "end_time": "2022-11-16T14:52:14.175061Z",
     "start_time": "2022-11-16T14:52:14.163025Z"
    }
   },
   "outputs": [],
   "source": [
    "s = 'the quick brown fox jumps over the lazy dog'\n",
    "# {'t': 2, 'h': 1, 'e': 2, ...}"
   ]
  },
  {
   "cell_type": "code",
   "execution_count": 13,
   "id": "9cf8f203",
   "metadata": {
    "ExecuteTime": {
     "end_time": "2022-11-16T14:57:41.131701Z",
     "start_time": "2022-11-16T14:57:41.122697Z"
    }
   },
   "outputs": [
    {
     "name": "stdout",
     "output_type": "stream",
     "text": [
      "{'t': 2, 'h': 2, 'e': 3, 'q': 1, 'u': 2, 'i': 1, 'c': 1, 'k': 1, 'b': 1, 'r': 2, 'o': 4, 'w': 1, 'n': 1, 'f': 1, 'x': 1, 'j': 1, 'm': 1, 'p': 1, 's': 1, 'v': 1, 'l': 1, 'a': 1, 'z': 1, 'y': 1, 'd': 1, 'g': 1}\n"
     ]
    }
   ],
   "source": [
    "print({x: s.count(x) for x in s if x != ' '})"
   ]
  },
  {
   "cell_type": "code",
   "execution_count": 14,
   "id": "3f28cff1",
   "metadata": {
    "ExecuteTime": {
     "end_time": "2022-11-16T14:57:56.668163Z",
     "start_time": "2022-11-16T14:57:56.646132Z"
    }
   },
   "outputs": [
    {
     "name": "stdout",
     "output_type": "stream",
     "text": [
      "{'t': 2, 'h': 2, 'e': 3, ' ': 8, 'q': 1, 'u': 2, 'i': 1, 'c': 1, 'k': 1, 'b': 1, 'r': 2, 'o': 4, 'w': 1, 'n': 1, 'f': 1, 'x': 1, 'j': 1, 'm': 1, 'p': 1, 's': 1, 'v': 1, 'l': 1, 'a': 1, 'z': 1, 'y': 1, 'd': 1, 'g': 1}\n"
     ]
    }
   ],
   "source": [
    "print({x: s.count(x) for x in s})"
   ]
  },
  {
   "cell_type": "code",
   "execution_count": null,
   "id": "70de29cc",
   "metadata": {},
   "outputs": [],
   "source": []
  }
 ],
 "metadata": {
  "hide_input": false,
  "kernelspec": {
   "display_name": "Python 3 (ipykernel)",
   "language": "python",
   "name": "python3"
  },
  "language_info": {
   "codemirror_mode": {
    "name": "ipython",
    "version": 3
   },
   "file_extension": ".py",
   "mimetype": "text/x-python",
   "name": "python",
   "nbconvert_exporter": "python",
   "pygments_lexer": "ipython3",
   "version": "3.9.12"
  },
  "toc": {
   "base_numbering": 1,
   "nav_menu": {},
   "number_sections": true,
   "sideBar": true,
   "skip_h1_title": false,
   "title_cell": "Table of Contents",
   "title_sidebar": "Contents",
   "toc_cell": false,
   "toc_position": {},
   "toc_section_display": true,
   "toc_window_display": true
  },
  "varInspector": {
   "cols": {
    "lenName": 16,
    "lenType": 16,
    "lenVar": 40
   },
   "kernels_config": {
    "python": {
     "delete_cmd_postfix": "",
     "delete_cmd_prefix": "del ",
     "library": "var_list.py",
     "varRefreshCmd": "print(var_dic_list())"
    },
    "r": {
     "delete_cmd_postfix": ") ",
     "delete_cmd_prefix": "rm(",
     "library": "var_list.r",
     "varRefreshCmd": "cat(var_dic_list()) "
    }
   },
   "types_to_exclude": [
    "module",
    "function",
    "builtin_function_or_method",
    "instance",
    "_Feature"
   ],
   "window_display": false
  }
 },
 "nbformat": 4,
 "nbformat_minor": 5
}
