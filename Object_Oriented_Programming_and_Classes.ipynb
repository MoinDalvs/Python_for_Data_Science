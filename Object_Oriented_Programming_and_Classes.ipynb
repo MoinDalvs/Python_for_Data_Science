{
 "cells": [
  {
   "cell_type": "markdown",
   "id": "8358124c",
   "metadata": {
    "ExecuteTime": {
     "end_time": "2022-11-17T13:33:12.889421Z",
     "start_time": "2022-11-17T13:33:12.881428Z"
    }
   },
   "source": [
    "# Object Oriented Programming\n",
    "* Class\n",
    "* Object ( Instance )\n",
    "* Class is like a Template/ Blueprint / Mold/ Definition\n",
    "* Object is instance of class\n",
    "* Class - behavior, blue print, template, user defined data structure"
   ]
  },
  {
   "cell_type": "code",
   "execution_count": 3,
   "id": "d536e5f8",
   "metadata": {
    "ExecuteTime": {
     "end_time": "2022-11-17T14:02:51.384097Z",
     "start_time": "2022-11-17T14:02:51.364099Z"
    }
   },
   "outputs": [],
   "source": [
    "class Employee:\n",
    "    pass"
   ]
  },
  {
   "cell_type": "code",
   "execution_count": 11,
   "id": "b6b69d57",
   "metadata": {
    "ExecuteTime": {
     "end_time": "2022-11-17T14:07:22.352426Z",
     "start_time": "2022-11-17T14:07:22.332458Z"
    }
   },
   "outputs": [
    {
     "name": "stdout",
     "output_type": "stream",
     "text": [
      "Type of e1:  <class '__main__.Employee'>\n"
     ]
    }
   ],
   "source": [
    "e1 = Employee()\n",
    "e2 = Employee()\n",
    "print('Type of e1: ',type(e1))"
   ]
  },
  {
   "cell_type": "code",
   "execution_count": 10,
   "id": "3ac2e60e",
   "metadata": {
    "ExecuteTime": {
     "end_time": "2022-11-17T14:07:10.413068Z",
     "start_time": "2022-11-17T14:07:10.397065Z"
    }
   },
   "outputs": [
    {
     "name": "stdout",
     "output_type": "stream",
     "text": [
      "Id of e1:  2006132692304\n",
      "Id of e1:  2006130438880\n"
     ]
    }
   ],
   "source": [
    "print('Id of e1: ',id(e1))\n",
    "print('Id of e1: ',id(e2))"
   ]
  },
  {
   "cell_type": "code",
   "execution_count": 5,
   "id": "fdc14785",
   "metadata": {
    "ExecuteTime": {
     "end_time": "2022-11-17T14:03:00.413103Z",
     "start_time": "2022-11-17T14:03:00.397107Z"
    }
   },
   "outputs": [
    {
     "name": "stdout",
     "output_type": "stream",
     "text": [
      "<class 'int'>\n"
     ]
    }
   ],
   "source": [
    "i = 1\n",
    "print(type(i))"
   ]
  },
  {
   "cell_type": "code",
   "execution_count": 6,
   "id": "dfec6fa4",
   "metadata": {
    "ExecuteTime": {
     "end_time": "2022-11-17T14:03:13.441636Z",
     "start_time": "2022-11-17T14:03:13.421643Z"
    }
   },
   "outputs": [
    {
     "name": "stdout",
     "output_type": "stream",
     "text": [
      "<class 'str'>\n"
     ]
    }
   ],
   "source": [
    "i = 'Hello'\n",
    "print(type(i))"
   ]
  },
  {
   "cell_type": "code",
   "execution_count": 12,
   "id": "cf1c408f",
   "metadata": {
    "ExecuteTime": {
     "end_time": "2022-11-17T14:09:37.020105Z",
     "start_time": "2022-11-17T14:09:37.006103Z"
    }
   },
   "outputs": [],
   "source": [
    "class Employee:\n",
    "    \"\"\"\n",
    "    Help: An Employee class documentation\n",
    "    The instance of class can be used to create and manage Employe data\n",
    "    It stores info like, name, address, education details etc\n",
    "    \"\"\"\n",
    "    pass"
   ]
  },
  {
   "cell_type": "code",
   "execution_count": 13,
   "id": "7a26cc91",
   "metadata": {
    "ExecuteTime": {
     "end_time": "2022-11-17T14:09:42.434934Z",
     "start_time": "2022-11-17T14:09:42.396938Z"
    }
   },
   "outputs": [
    {
     "name": "stdout",
     "output_type": "stream",
     "text": [
      "Help on class list in module builtins:\n",
      "\n",
      "class list(object)\n",
      " |  list(iterable=(), /)\n",
      " |  \n",
      " |  Built-in mutable sequence.\n",
      " |  \n",
      " |  If no argument is given, the constructor creates a new empty list.\n",
      " |  The argument must be an iterable if specified.\n",
      " |  \n",
      " |  Methods defined here:\n",
      " |  \n",
      " |  __add__(self, value, /)\n",
      " |      Return self+value.\n",
      " |  \n",
      " |  __contains__(self, key, /)\n",
      " |      Return key in self.\n",
      " |  \n",
      " |  __delitem__(self, key, /)\n",
      " |      Delete self[key].\n",
      " |  \n",
      " |  __eq__(self, value, /)\n",
      " |      Return self==value.\n",
      " |  \n",
      " |  __ge__(self, value, /)\n",
      " |      Return self>=value.\n",
      " |  \n",
      " |  __getattribute__(self, name, /)\n",
      " |      Return getattr(self, name).\n",
      " |  \n",
      " |  __getitem__(...)\n",
      " |      x.__getitem__(y) <==> x[y]\n",
      " |  \n",
      " |  __gt__(self, value, /)\n",
      " |      Return self>value.\n",
      " |  \n",
      " |  __iadd__(self, value, /)\n",
      " |      Implement self+=value.\n",
      " |  \n",
      " |  __imul__(self, value, /)\n",
      " |      Implement self*=value.\n",
      " |  \n",
      " |  __init__(self, /, *args, **kwargs)\n",
      " |      Initialize self.  See help(type(self)) for accurate signature.\n",
      " |  \n",
      " |  __iter__(self, /)\n",
      " |      Implement iter(self).\n",
      " |  \n",
      " |  __le__(self, value, /)\n",
      " |      Return self<=value.\n",
      " |  \n",
      " |  __len__(self, /)\n",
      " |      Return len(self).\n",
      " |  \n",
      " |  __lt__(self, value, /)\n",
      " |      Return self<value.\n",
      " |  \n",
      " |  __mul__(self, value, /)\n",
      " |      Return self*value.\n",
      " |  \n",
      " |  __ne__(self, value, /)\n",
      " |      Return self!=value.\n",
      " |  \n",
      " |  __repr__(self, /)\n",
      " |      Return repr(self).\n",
      " |  \n",
      " |  __reversed__(self, /)\n",
      " |      Return a reverse iterator over the list.\n",
      " |  \n",
      " |  __rmul__(self, value, /)\n",
      " |      Return value*self.\n",
      " |  \n",
      " |  __setitem__(self, key, value, /)\n",
      " |      Set self[key] to value.\n",
      " |  \n",
      " |  __sizeof__(self, /)\n",
      " |      Return the size of the list in memory, in bytes.\n",
      " |  \n",
      " |  append(self, object, /)\n",
      " |      Append object to the end of the list.\n",
      " |  \n",
      " |  clear(self, /)\n",
      " |      Remove all items from list.\n",
      " |  \n",
      " |  copy(self, /)\n",
      " |      Return a shallow copy of the list.\n",
      " |  \n",
      " |  count(self, value, /)\n",
      " |      Return number of occurrences of value.\n",
      " |  \n",
      " |  extend(self, iterable, /)\n",
      " |      Extend list by appending elements from the iterable.\n",
      " |  \n",
      " |  index(self, value, start=0, stop=9223372036854775807, /)\n",
      " |      Return first index of value.\n",
      " |      \n",
      " |      Raises ValueError if the value is not present.\n",
      " |  \n",
      " |  insert(self, index, object, /)\n",
      " |      Insert object before index.\n",
      " |  \n",
      " |  pop(self, index=-1, /)\n",
      " |      Remove and return item at index (default last).\n",
      " |      \n",
      " |      Raises IndexError if list is empty or index is out of range.\n",
      " |  \n",
      " |  remove(self, value, /)\n",
      " |      Remove first occurrence of value.\n",
      " |      \n",
      " |      Raises ValueError if the value is not present.\n",
      " |  \n",
      " |  reverse(self, /)\n",
      " |      Reverse *IN PLACE*.\n",
      " |  \n",
      " |  sort(self, /, *, key=None, reverse=False)\n",
      " |      Sort the list in ascending order and return None.\n",
      " |      \n",
      " |      The sort is in-place (i.e. the list itself is modified) and stable (i.e. the\n",
      " |      order of two equal elements is maintained).\n",
      " |      \n",
      " |      If a key function is given, apply it once to each list item and sort them,\n",
      " |      ascending or descending, according to their function values.\n",
      " |      \n",
      " |      The reverse flag can be set to sort in descending order.\n",
      " |  \n",
      " |  ----------------------------------------------------------------------\n",
      " |  Class methods defined here:\n",
      " |  \n",
      " |  __class_getitem__(...) from builtins.type\n",
      " |      See PEP 585\n",
      " |  \n",
      " |  ----------------------------------------------------------------------\n",
      " |  Static methods defined here:\n",
      " |  \n",
      " |  __new__(*args, **kwargs) from builtins.type\n",
      " |      Create and return a new object.  See help(type) for accurate signature.\n",
      " |  \n",
      " |  ----------------------------------------------------------------------\n",
      " |  Data and other attributes defined here:\n",
      " |  \n",
      " |  __hash__ = None\n",
      "\n"
     ]
    }
   ],
   "source": [
    "help(list)"
   ]
  },
  {
   "cell_type": "code",
   "execution_count": 14,
   "id": "aa3170a6",
   "metadata": {
    "ExecuteTime": {
     "end_time": "2022-11-17T14:10:06.997191Z",
     "start_time": "2022-11-17T14:10:06.976154Z"
    }
   },
   "outputs": [
    {
     "name": "stdout",
     "output_type": "stream",
     "text": [
      "Help on class Employee in module __main__:\n",
      "\n",
      "class Employee(builtins.object)\n",
      " |  Help: An Employee class documentation\n",
      " |  The instance of class can be used to create and manage Employe data\n",
      " |  It stores info like, name, address, education details etc\n",
      " |  \n",
      " |  Data descriptors defined here:\n",
      " |  \n",
      " |  __dict__\n",
      " |      dictionary for instance variables (if defined)\n",
      " |  \n",
      " |  __weakref__\n",
      " |      list of weak references to the object (if defined)\n",
      "\n"
     ]
    }
   ],
   "source": [
    "help(Employee)"
   ]
  },
  {
   "cell_type": "code",
   "execution_count": 15,
   "id": "caf424e8",
   "metadata": {
    "ExecuteTime": {
     "end_time": "2022-11-17T14:12:14.828987Z",
     "start_time": "2022-11-17T14:12:14.812989Z"
    }
   },
   "outputs": [],
   "source": [
    "e1 = Employee()"
   ]
  },
  {
   "cell_type": "code",
   "execution_count": 16,
   "id": "c0c4af84",
   "metadata": {
    "ExecuteTime": {
     "end_time": "2022-11-17T14:12:40.032690Z",
     "start_time": "2022-11-17T14:12:40.013698Z"
    }
   },
   "outputs": [
    {
     "name": "stdout",
     "output_type": "stream",
     "text": [
      "Employee e1:  <__main__.Employee object at 0x000001D3103E1670>\n"
     ]
    }
   ],
   "source": [
    "print('Employee e1: ', e1)"
   ]
  },
  {
   "cell_type": "code",
   "execution_count": 17,
   "id": "c7c42800",
   "metadata": {
    "ExecuteTime": {
     "end_time": "2022-11-17T14:13:15.011693Z",
     "start_time": "2022-11-17T14:13:14.991703Z"
    }
   },
   "outputs": [
    {
     "name": "stdout",
     "output_type": "stream",
     "text": [
      "Employee dict:  {'__module__': '__main__', '__doc__': '\\n    Help: An Employee class documentation\\n    The instance of class can be used to create and manage Employe data\\n    It stores info like, name, address, education details etc\\n    ', '__dict__': <attribute '__dict__' of 'Employee' objects>, '__weakref__': <attribute '__weakref__' of 'Employee' objects>}\n"
     ]
    }
   ],
   "source": [
    "print('Employee dict: ', Employee.__dict__)"
   ]
  },
  {
   "cell_type": "code",
   "execution_count": 18,
   "id": "b89c8fcc",
   "metadata": {
    "ExecuteTime": {
     "end_time": "2022-11-17T14:16:20.535548Z",
     "start_time": "2022-11-17T14:16:20.525548Z"
    }
   },
   "outputs": [
    {
     "name": "stdout",
     "output_type": "stream",
     "text": [
      "e1 dict:  {}\n"
     ]
    }
   ],
   "source": [
    "print('e1 dict: ', e1.__dict__)"
   ]
  },
  {
   "cell_type": "code",
   "execution_count": 19,
   "id": "39fd4f21",
   "metadata": {
    "ExecuteTime": {
     "end_time": "2022-11-17T14:58:41.688765Z",
     "start_time": "2022-11-17T14:58:41.677764Z"
    }
   },
   "outputs": [],
   "source": [
    "class Employee:\n",
    "    \"\"\"\n",
    "    Help: An Employee class documentation\n",
    "    The instance of class can be used to create and manage Employe data\n",
    "    It stores info like, name, address, education details etc\n",
    "    \"\"\"\n",
    "    def __init__(self, firstname, lastname):\n",
    "        self.fn = firstname\n",
    "        self.ln = lastname "
   ]
  },
  {
   "cell_type": "code",
   "execution_count": 20,
   "id": "6a9b7f0b",
   "metadata": {
    "ExecuteTime": {
     "end_time": "2022-11-17T14:58:48.631703Z",
     "start_time": "2022-11-17T14:58:48.591664Z"
    }
   },
   "outputs": [
    {
     "ename": "TypeError",
     "evalue": "__init__() missing 2 required positional arguments: 'firstname' and 'lastname'",
     "output_type": "error",
     "traceback": [
      "\u001b[1;31m---------------------------------------------------------------------------\u001b[0m",
      "\u001b[1;31mTypeError\u001b[0m                                 Traceback (most recent call last)",
      "Input \u001b[1;32mIn [20]\u001b[0m, in \u001b[0;36m<cell line: 1>\u001b[1;34m()\u001b[0m\n\u001b[1;32m----> 1\u001b[0m e1 \u001b[38;5;241m=\u001b[39m \u001b[43mEmployee\u001b[49m\u001b[43m(\u001b[49m\u001b[43m)\u001b[49m\n",
      "\u001b[1;31mTypeError\u001b[0m: __init__() missing 2 required positional arguments: 'firstname' and 'lastname'"
     ]
    }
   ],
   "source": [
    "e1 = Employee()"
   ]
  },
  {
   "cell_type": "code",
   "execution_count": 21,
   "id": "5e207127",
   "metadata": {
    "ExecuteTime": {
     "end_time": "2022-11-17T15:02:09.796329Z",
     "start_time": "2022-11-17T15:02:09.789326Z"
    }
   },
   "outputs": [],
   "source": [
    "e1 = Employee('Moin', 'Dalvi')"
   ]
  },
  {
   "cell_type": "code",
   "execution_count": 23,
   "id": "4d7324ca",
   "metadata": {
    "ExecuteTime": {
     "end_time": "2022-11-17T15:09:11.450118Z",
     "start_time": "2022-11-17T15:09:11.442109Z"
    }
   },
   "outputs": [
    {
     "name": "stdout",
     "output_type": "stream",
     "text": [
      "e1 dict:  {'fn': 'Moin', 'ln': 'Dalvi'}\n"
     ]
    }
   ],
   "source": [
    "print('e1 dict: ', e1.__dict__)"
   ]
  },
  {
   "cell_type": "code",
   "execution_count": 24,
   "id": "44e13cc5",
   "metadata": {
    "ExecuteTime": {
     "end_time": "2022-11-17T15:10:02.755902Z",
     "start_time": "2022-11-17T15:10:02.743900Z"
    }
   },
   "outputs": [
    {
     "name": "stdout",
     "output_type": "stream",
     "text": [
      "e2 dict:  {'fn': 'Zoheb', 'ln': 'Kazi'}\n"
     ]
    }
   ],
   "source": [
    "e2 = Employee('Zoheb', 'Kazi')\n",
    "\n",
    "print('e2 dict: ', e2.__dict__)"
   ]
  },
  {
   "cell_type": "code",
   "execution_count": 25,
   "id": "f3338fb6",
   "metadata": {
    "ExecuteTime": {
     "end_time": "2022-11-17T15:14:34.138124Z",
     "start_time": "2022-11-17T15:14:34.128122Z"
    }
   },
   "outputs": [],
   "source": [
    "class Student:\n",
    "    def __init__(self, name):\n",
    "        print(\"Self Details: \", self)\n",
    "        self.name = name\n",
    "        self.grades = []"
   ]
  },
  {
   "cell_type": "code",
   "execution_count": 26,
   "id": "0af7bb3c",
   "metadata": {
    "ExecuteTime": {
     "end_time": "2022-11-17T15:14:46.664986Z",
     "start_time": "2022-11-17T15:14:46.654978Z"
    }
   },
   "outputs": [
    {
     "name": "stdout",
     "output_type": "stream",
     "text": [
      "Self Details:  <__main__.Student object at 0x000001D310459820>\n"
     ]
    }
   ],
   "source": [
    "s1 = Student('Rihana')"
   ]
  },
  {
   "cell_type": "code",
   "execution_count": 27,
   "id": "29b4f035",
   "metadata": {
    "ExecuteTime": {
     "end_time": "2022-11-17T15:15:12.366065Z",
     "start_time": "2022-11-17T15:15:12.358036Z"
    }
   },
   "outputs": [
    {
     "name": "stdout",
     "output_type": "stream",
     "text": [
      "s1 dict:  {'name': 'Rihana', 'grades': []}\n"
     ]
    }
   ],
   "source": [
    "print('s1 dict: ', s1.__dict__)"
   ]
  },
  {
   "cell_type": "code",
   "execution_count": 29,
   "id": "90bb31d4",
   "metadata": {
    "ExecuteTime": {
     "end_time": "2022-11-17T15:18:42.026832Z",
     "start_time": "2022-11-17T15:18:42.010820Z"
    }
   },
   "outputs": [],
   "source": [
    "class Student:\n",
    "    def __init__(self, name):\n",
    "        print(\"Self Details: \", self)\n",
    "        self.name = name\n",
    "        self.grades = []\n",
    "        \n",
    "    def addGrade(self, marks):\n",
    "        self.grades.append(marks)"
   ]
  },
  {
   "cell_type": "code",
   "execution_count": 30,
   "id": "09fe524d",
   "metadata": {
    "ExecuteTime": {
     "end_time": "2022-11-17T15:19:18.410191Z",
     "start_time": "2022-11-17T15:19:18.401237Z"
    }
   },
   "outputs": [
    {
     "name": "stdout",
     "output_type": "stream",
     "text": [
      "Self Details:  <__main__.Student object at 0x000001D3178A9580>\n",
      "s1 dict:  {'name': 'Rihana', 'grades': []}\n"
     ]
    }
   ],
   "source": [
    "s1 = Student('Rihana')\n",
    "print('s1 dict: ', s1.__dict__)"
   ]
  },
  {
   "cell_type": "code",
   "execution_count": 31,
   "id": "3c29c3c5",
   "metadata": {
    "ExecuteTime": {
     "end_time": "2022-11-17T15:19:58.068089Z",
     "start_time": "2022-11-17T15:19:58.054054Z"
    }
   },
   "outputs": [
    {
     "name": "stdout",
     "output_type": "stream",
     "text": [
      "s1 dict:  {'name': 'Rihana', 'grades': [10]}\n"
     ]
    }
   ],
   "source": [
    "s1.addGrade(10)\n",
    "print('s1 dict: ', s1.__dict__)"
   ]
  },
  {
   "cell_type": "code",
   "execution_count": 33,
   "id": "614e5e8c",
   "metadata": {
    "ExecuteTime": {
     "end_time": "2022-11-17T15:22:21.316890Z",
     "start_time": "2022-11-17T15:22:21.302851Z"
    }
   },
   "outputs": [
    {
     "name": "stdout",
     "output_type": "stream",
     "text": [
      "Self Details:  <__main__.Student object at 0x000001D3178BFDC0>\n",
      "s2 dict:  {'name': 'Drake', 'grades': [20]}\n"
     ]
    }
   ],
   "source": [
    "s2 = Student('Drake')\n",
    "\n",
    "s2.addGrade(20)\n",
    "print('s2 dict: ', s2.__dict__)"
   ]
  },
  {
   "cell_type": "code",
   "execution_count": 2,
   "id": "a0ea33e2",
   "metadata": {
    "ExecuteTime": {
     "end_time": "2022-11-18T08:45:59.081394Z",
     "start_time": "2022-11-18T08:45:59.070382Z"
    }
   },
   "outputs": [],
   "source": [
    "class Student:\n",
    "    def __init__(self, name):\n",
    "        print(\"Self Details: \", self)\n",
    "        self.name = name\n",
    "        self.grades = []\n",
    "        \n",
    "    def addGrade(self, marks):\n",
    "        self.grades.append(marks)\n",
    "        \n",
    "    def getAverage(self):\n",
    "        return sum(self.grades) / len(self.grades)"
   ]
  },
  {
   "cell_type": "code",
   "execution_count": 35,
   "id": "f01adeb2",
   "metadata": {
    "ExecuteTime": {
     "end_time": "2022-11-17T15:25:06.963320Z",
     "start_time": "2022-11-17T15:25:06.942299Z"
    }
   },
   "outputs": [
    {
     "name": "stdout",
     "output_type": "stream",
     "text": [
      "Self Details:  <__main__.Student object at 0x000001D3178BA640>\n",
      "s1 dict:  {'name': 'Rihana', 'grades': []}\n",
      "s1 dict:  {'name': 'Rihana', 'grades': [10]}\n",
      "s1 dict:  {'name': 'Rihana', 'grades': [10, 20]}\n",
      "s1 dict:  {'name': 'Rihana', 'grades': [10, 20, 30]}\n",
      "s1 dict:  {'name': 'Rihana', 'grades': [10, 20, 30, 40]}\n"
     ]
    }
   ],
   "source": [
    "s1 = Student('Rihana')\n",
    "print('s1 dict: ', s1.__dict__)\n",
    "\n",
    "s1.addGrade(10)\n",
    "print('s1 dict: ', s1.__dict__)\n",
    "\n",
    "s1.addGrade(20)\n",
    "print('s1 dict: ', s1.__dict__)\n",
    "\n",
    "s1.addGrade(30)\n",
    "print('s1 dict: ', s1.__dict__)\n",
    "\n",
    "s1.addGrade(40)\n",
    "print('s1 dict: ', s1.__dict__)"
   ]
  },
  {
   "cell_type": "code",
   "execution_count": 36,
   "id": "25de01f6",
   "metadata": {
    "ExecuteTime": {
     "end_time": "2022-11-17T15:25:29.838228Z",
     "start_time": "2022-11-17T15:25:29.814226Z"
    }
   },
   "outputs": [
    {
     "data": {
      "text/plain": [
       "25.0"
      ]
     },
     "execution_count": 36,
     "metadata": {},
     "output_type": "execute_result"
    }
   ],
   "source": [
    "s1.getAverage()"
   ]
  },
  {
   "cell_type": "code",
   "execution_count": 3,
   "id": "f99a8c4a",
   "metadata": {
    "ExecuteTime": {
     "end_time": "2022-11-18T08:46:02.007978Z",
     "start_time": "2022-11-18T08:46:01.989979Z"
    }
   },
   "outputs": [
    {
     "name": "stdout",
     "output_type": "stream",
     "text": [
      "Help on class Student in module __main__:\n",
      "\n",
      "class Student(builtins.object)\n",
      " |  Student(name)\n",
      " |  \n",
      " |  Methods defined here:\n",
      " |  \n",
      " |  __init__(self, name)\n",
      " |      Initialize self.  See help(type(self)) for accurate signature.\n",
      " |  \n",
      " |  addGrade(self, marks)\n",
      " |  \n",
      " |  getAverage(self)\n",
      " |  \n",
      " |  ----------------------------------------------------------------------\n",
      " |  Data descriptors defined here:\n",
      " |  \n",
      " |  __dict__\n",
      " |      dictionary for instance variables (if defined)\n",
      " |  \n",
      " |  __weakref__\n",
      " |      list of weak references to the object (if defined)\n",
      "\n"
     ]
    }
   ],
   "source": [
    "help(Student)"
   ]
  },
  {
   "cell_type": "code",
   "execution_count": 4,
   "id": "b1c42c09",
   "metadata": {
    "ExecuteTime": {
     "end_time": "2022-11-18T09:01:57.508556Z",
     "start_time": "2022-11-18T09:01:57.495552Z"
    }
   },
   "outputs": [],
   "source": [
    "class Student:\n",
    "    def __init__(self, name):\n",
    "        print(\"Self Details: \", self)\n",
    "        self.name = name\n",
    "        self.grades = []\n",
    "        \n",
    "    def addGrade(self, marks):\n",
    "        '''\n",
    "        Call this funciton to add any grade for the student\n",
    "        '''\n",
    "        self.grades.append(marks)\n",
    "        \n",
    "    def getAverage(self):\n",
    "        return sum(self.grades) / len(self.grades)"
   ]
  },
  {
   "cell_type": "code",
   "execution_count": 5,
   "id": "0670da94",
   "metadata": {
    "ExecuteTime": {
     "end_time": "2022-11-18T09:02:07.188258Z",
     "start_time": "2022-11-18T09:02:07.166260Z"
    }
   },
   "outputs": [
    {
     "name": "stdout",
     "output_type": "stream",
     "text": [
      "Help on class Student in module __main__:\n",
      "\n",
      "class Student(builtins.object)\n",
      " |  Student(name)\n",
      " |  \n",
      " |  Methods defined here:\n",
      " |  \n",
      " |  __init__(self, name)\n",
      " |      Initialize self.  See help(type(self)) for accurate signature.\n",
      " |  \n",
      " |  addGrade(self, marks)\n",
      " |      Call this funciton to add any grade for the student\n",
      " |  \n",
      " |  getAverage(self)\n",
      " |  \n",
      " |  ----------------------------------------------------------------------\n",
      " |  Data descriptors defined here:\n",
      " |  \n",
      " |  __dict__\n",
      " |      dictionary for instance variables (if defined)\n",
      " |  \n",
      " |  __weakref__\n",
      " |      list of weak references to the object (if defined)\n",
      "\n"
     ]
    }
   ],
   "source": [
    "help(Student)"
   ]
  },
  {
   "cell_type": "code",
   "execution_count": 6,
   "id": "428647e1",
   "metadata": {
    "ExecuteTime": {
     "end_time": "2022-11-18T09:09:38.572742Z",
     "start_time": "2022-11-18T09:09:38.558749Z"
    }
   },
   "outputs": [],
   "source": [
    "class Employee:\n",
    "    \n",
    "    def __init__(self, firstname, lastname, age, salary):\n",
    "        self.fn = firstname\n",
    "        self.ln = lastname\n",
    "        self.age = age\n",
    "        self.salary = salary\n",
    "        self.email = '{}_{}@gmail.com'.format(self.fn, self.ln)\n",
    "        \n",
    "    def printDetails(self):\n",
    "        print(\"Employee Detail: Name: {} {}, Age: {}, Salary: {}, Email: {}\"\\\n",
    "              .format(self.fn, self.ln, self.age, self.salary, self.email))"
   ]
  },
  {
   "cell_type": "code",
   "execution_count": 9,
   "id": "de1e1fcd",
   "metadata": {
    "ExecuteTime": {
     "end_time": "2022-11-18T09:12:18.179297Z",
     "start_time": "2022-11-18T09:12:18.158305Z"
    }
   },
   "outputs": [
    {
     "name": "stdout",
     "output_type": "stream",
     "text": [
      "Employee Detail: Name: Moin Dalvi, Age: 26, Salary: 35000, Email: Moin_Dalvi@gmail.com\n",
      "None\n"
     ]
    }
   ],
   "source": [
    "e1 = Employee('Moin', 'Dalvi', 26, 35000)\n",
    "print(e1.printDetails())"
   ]
  },
  {
   "cell_type": "code",
   "execution_count": 10,
   "id": "20922b1b",
   "metadata": {
    "ExecuteTime": {
     "end_time": "2022-11-18T09:12:18.414984Z",
     "start_time": "2022-11-18T09:12:18.405996Z"
    }
   },
   "outputs": [
    {
     "name": "stdout",
     "output_type": "stream",
     "text": [
      "Employee Detail: Name: Moin Dalvi, Age: 26, Salary: 35000, Email: Moin_Dalvi@gmail.com\n",
      "None\n"
     ]
    }
   ],
   "source": [
    "print(e1.printDetails())"
   ]
  },
  {
   "cell_type": "code",
   "execution_count": 23,
   "id": "045236de",
   "metadata": {
    "ExecuteTime": {
     "end_time": "2022-11-18T09:28:14.042372Z",
     "start_time": "2022-11-18T09:28:14.019369Z"
    }
   },
   "outputs": [],
   "source": [
    "class Employee:\n",
    "    \n",
    "    employee_count = 0\n",
    "    \n",
    "    def __init__(self, firstname, lastname, age, salary):\n",
    "        self.fn = firstname\n",
    "        self.ln = lastname\n",
    "        self.age = age\n",
    "        self.salary = salary\n",
    "        self.email = '{}_{}@gmail.com'.format(self.fn, self.ln)\n",
    "        Employee.employee_count += 1 # Employee.employee_count = Employee.employee_count + 1\n",
    "        \n",
    "    def printDetails(self):\n",
    "        print(\"Employee Detail: Name: {} {}, Age: {}, Salary: {}, Email: {}\"\\\n",
    "              .format(self.fn, self.ln, self.age, self.salary, self.email))"
   ]
  },
  {
   "cell_type": "code",
   "execution_count": 24,
   "id": "0c3a8cd0",
   "metadata": {
    "ExecuteTime": {
     "end_time": "2022-11-18T09:28:14.243577Z",
     "start_time": "2022-11-18T09:28:14.232571Z"
    }
   },
   "outputs": [
    {
     "name": "stdout",
     "output_type": "stream",
     "text": [
      "1\n",
      "2\n"
     ]
    }
   ],
   "source": [
    "e1 = Employee(\"Zoheb\", \"Kazi\", 26, 25000)\n",
    "print(e1.employee_count)\n",
    "e2 = Employee(\"Moin\", \"Dalvi\", 26, 35000)\n",
    "print(e1.employee_count)"
   ]
  },
  {
   "cell_type": "code",
   "execution_count": 25,
   "id": "248ec646",
   "metadata": {
    "ExecuteTime": {
     "end_time": "2022-11-18T09:28:16.943340Z",
     "start_time": "2022-11-18T09:28:16.926339Z"
    }
   },
   "outputs": [
    {
     "name": "stdout",
     "output_type": "stream",
     "text": [
      "Employee dict:  {'__module__': '__main__', 'employee_count': 2, '__init__': <function Employee.__init__ at 0x000001A192AE9040>, 'printDetails': <function Employee.printDetails at 0x000001A192E56670>, '__dict__': <attribute '__dict__' of 'Employee' objects>, '__weakref__': <attribute '__weakref__' of 'Employee' objects>, '__doc__': None}\n"
     ]
    }
   ],
   "source": [
    "print(\"Employee dict: \", Employee.__dict__)"
   ]
  },
  {
   "cell_type": "code",
   "execution_count": 26,
   "id": "c7f64761",
   "metadata": {
    "ExecuteTime": {
     "end_time": "2022-11-18T09:28:17.478106Z",
     "start_time": "2022-11-18T09:28:17.462048Z"
    }
   },
   "outputs": [
    {
     "name": "stdout",
     "output_type": "stream",
     "text": [
      "e1 dict:  {'fn': 'Zoheb', 'ln': 'Kazi', 'age': 26, 'salary': 25000, 'email': 'Zoheb_Kazi@gmail.com'}\n"
     ]
    }
   ],
   "source": [
    "print(\"e1 dict: \", e1.__dict__)"
   ]
  },
  {
   "cell_type": "code",
   "execution_count": 27,
   "id": "187215e1",
   "metadata": {
    "ExecuteTime": {
     "end_time": "2022-11-18T09:28:17.729443Z",
     "start_time": "2022-11-18T09:28:17.710444Z"
    }
   },
   "outputs": [
    {
     "name": "stdout",
     "output_type": "stream",
     "text": [
      "e2 dict:  {'fn': 'Moin', 'ln': 'Dalvi', 'age': 26, 'salary': 35000, 'email': 'Moin_Dalvi@gmail.com'}\n"
     ]
    }
   ],
   "source": [
    "print(\"e2 dict: \", e2.__dict__)"
   ]
  },
  {
   "cell_type": "code",
   "execution_count": 30,
   "id": "66716fa7",
   "metadata": {
    "ExecuteTime": {
     "end_time": "2022-11-18T09:28:42.908978Z",
     "start_time": "2022-11-18T09:28:42.895983Z"
    }
   },
   "outputs": [
    {
     "name": "stdout",
     "output_type": "stream",
     "text": [
      "2\n",
      "2\n"
     ]
    }
   ],
   "source": [
    "print(e1.employee_count)\n",
    "print(e2.employee_count)"
   ]
  },
  {
   "cell_type": "code",
   "execution_count": 31,
   "id": "3c657928",
   "metadata": {
    "ExecuteTime": {
     "end_time": "2022-11-18T09:32:13.876025Z",
     "start_time": "2022-11-18T09:32:13.866025Z"
    }
   },
   "outputs": [
    {
     "name": "stdout",
     "output_type": "stream",
     "text": [
      "2\n"
     ]
    }
   ],
   "source": [
    "print(Employee.employee_count)"
   ]
  },
  {
   "cell_type": "code",
   "execution_count": 29,
   "id": "a553e8ca",
   "metadata": {
    "ExecuteTime": {
     "end_time": "2022-11-18T09:28:19.014773Z",
     "start_time": "2022-11-18T09:28:18.998765Z"
    }
   },
   "outputs": [
    {
     "name": "stdout",
     "output_type": "stream",
     "text": [
      "Help on class Employee in module __main__:\n",
      "\n",
      "class Employee(builtins.object)\n",
      " |  Employee(firstname, lastname, age, salary)\n",
      " |  \n",
      " |  Methods defined here:\n",
      " |  \n",
      " |  __init__(self, firstname, lastname, age, salary)\n",
      " |      Initialize self.  See help(type(self)) for accurate signature.\n",
      " |  \n",
      " |  printDetails(self)\n",
      " |  \n",
      " |  ----------------------------------------------------------------------\n",
      " |  Data descriptors defined here:\n",
      " |  \n",
      " |  __dict__\n",
      " |      dictionary for instance variables (if defined)\n",
      " |  \n",
      " |  __weakref__\n",
      " |      list of weak references to the object (if defined)\n",
      " |  \n",
      " |  ----------------------------------------------------------------------\n",
      " |  Data and other attributes defined here:\n",
      " |  \n",
      " |  employee_count = 2\n",
      "\n"
     ]
    }
   ],
   "source": [
    "help(Employee)"
   ]
  },
  {
   "cell_type": "code",
   "execution_count": 32,
   "id": "fdaa8bd4",
   "metadata": {
    "ExecuteTime": {
     "end_time": "2022-11-18T09:43:59.485419Z",
     "start_time": "2022-11-18T09:43:59.472414Z"
    }
   },
   "outputs": [],
   "source": [
    "class Employee:\n",
    "    \n",
    "    employee_count = 0\n",
    "    \n",
    "    def __init__(self, firstname, lastname, age, salary):\n",
    "        Employee.employee_count += 1 # Employee.employee_count = Employee.employee_count + 1\n",
    "        self.eid = Employee.employee_count\n",
    "        self.fn = firstname\n",
    "        self.ln = lastname\n",
    "        self.age = age\n",
    "        self.salary = salary\n",
    "        self.email = '{}_{}@gmail.com'.format(self.fn, self.ln)\n",
    "        \n",
    "        \n",
    "    def printDetails(self):\n",
    "        print(\"Employee Detail: ID: {}, Name: {} {}, Age: {}, Salary: {}, Email: {}\"\\\n",
    "              .format(self.eid, self.fn, self.ln, self.age, self.salary, self.email))"
   ]
  },
  {
   "cell_type": "code",
   "execution_count": 33,
   "id": "8849e9da",
   "metadata": {
    "ExecuteTime": {
     "end_time": "2022-11-18T09:44:07.656013Z",
     "start_time": "2022-11-18T09:44:07.648003Z"
    }
   },
   "outputs": [
    {
     "name": "stdout",
     "output_type": "stream",
     "text": [
      "1\n",
      "2\n"
     ]
    }
   ],
   "source": [
    "e1 = Employee(\"Zoheb\", \"Kazi\", 26, 25000)\n",
    "print(e1.employee_count)\n",
    "e2 = Employee(\"Moin\", \"Dalvi\", 26, 35000)\n",
    "print(e1.employee_count)"
   ]
  },
  {
   "cell_type": "code",
   "execution_count": 34,
   "id": "cabac66b",
   "metadata": {
    "ExecuteTime": {
     "end_time": "2022-11-18T09:44:24.640962Z",
     "start_time": "2022-11-18T09:44:24.623922Z"
    }
   },
   "outputs": [
    {
     "name": "stdout",
     "output_type": "stream",
     "text": [
      "e1 dict:  {'eid': 1, 'fn': 'Zoheb', 'ln': 'Kazi', 'age': 26, 'salary': 25000, 'email': 'Zoheb_Kazi@gmail.com'}\n",
      "e2 dict:  {'eid': 2, 'fn': 'Moin', 'ln': 'Dalvi', 'age': 26, 'salary': 35000, 'email': 'Moin_Dalvi@gmail.com'}\n"
     ]
    }
   ],
   "source": [
    "print(\"e1 dict: \", e1.__dict__)\n",
    "\n",
    "print(\"e2 dict: \", e2.__dict__)"
   ]
  },
  {
   "cell_type": "code",
   "execution_count": null,
   "id": "8a13d1ad",
   "metadata": {},
   "outputs": [],
   "source": [
    "# Encapsulation\n",
    "# Abstraction\n",
    "# Polymorphism\n",
    "# Inheritance"
   ]
  },
  {
   "cell_type": "code",
   "execution_count": 6,
   "id": "39c1b03f",
   "metadata": {
    "ExecuteTime": {
     "end_time": "2022-11-18T14:45:35.968611Z",
     "start_time": "2022-11-18T14:45:35.948619Z"
    }
   },
   "outputs": [],
   "source": [
    "class Employee:\n",
    "    \n",
    "    __employee_count = 0\n",
    "    \n",
    "    def __init__(self, firstname, lastname, age, salary):\n",
    "        Employee.__employee_count += 1 # Employee.employee_count = Employee.employee_count + 1\n",
    "        self.fn = firstname\n",
    "        self.ln = lastname\n",
    "        self.age = age\n",
    "        self.salary = salary\n",
    "        self.email = '{}_{}@gmail.com'.format(self.fn, self.ln)\n",
    "        \n",
    "        \n",
    "    def printDetails(self):\n",
    "        print(\"Employee Detail: Name: {} {}, Age: {}, Salary: {}, Email: {}\"\\\n",
    "              .format( self.fn, self.ln, self.age, self.salary, self.email))"
   ]
  },
  {
   "cell_type": "code",
   "execution_count": 7,
   "id": "99b08258",
   "metadata": {
    "ExecuteTime": {
     "end_time": "2022-11-18T14:45:36.189031Z",
     "start_time": "2022-11-18T14:45:36.169032Z"
    }
   },
   "outputs": [],
   "source": [
    "e1 = Employee(\"Zoheb\", \"Kazi\", 26, 25000)"
   ]
  },
  {
   "cell_type": "code",
   "execution_count": 8,
   "id": "b4ed5e73",
   "metadata": {
    "ExecuteTime": {
     "end_time": "2022-11-18T14:45:36.407782Z",
     "start_time": "2022-11-18T14:45:36.373782Z"
    }
   },
   "outputs": [
    {
     "ename": "AttributeError",
     "evalue": "'Employee' object has no attribute '__employee_count'",
     "output_type": "error",
     "traceback": [
      "\u001b[1;31m---------------------------------------------------------------------------\u001b[0m",
      "\u001b[1;31mAttributeError\u001b[0m                            Traceback (most recent call last)",
      "Input \u001b[1;32mIn [8]\u001b[0m, in \u001b[0;36m<cell line: 1>\u001b[1;34m()\u001b[0m\n\u001b[1;32m----> 1\u001b[0m \u001b[38;5;28mprint\u001b[39m(\u001b[43me1\u001b[49m\u001b[38;5;241;43m.\u001b[39;49m\u001b[43m__employee_count\u001b[49m)\n",
      "\u001b[1;31mAttributeError\u001b[0m: 'Employee' object has no attribute '__employee_count'"
     ]
    }
   ],
   "source": [
    "print(e1.__employee_count)"
   ]
  },
  {
   "cell_type": "code",
   "execution_count": 9,
   "id": "304028c3",
   "metadata": {
    "ExecuteTime": {
     "end_time": "2022-11-18T14:45:36.592778Z",
     "start_time": "2022-11-18T14:45:36.561797Z"
    }
   },
   "outputs": [
    {
     "ename": "AttributeError",
     "evalue": "type object 'Employee' has no attribute '__employee_count'",
     "output_type": "error",
     "traceback": [
      "\u001b[1;31m---------------------------------------------------------------------------\u001b[0m",
      "\u001b[1;31mAttributeError\u001b[0m                            Traceback (most recent call last)",
      "Input \u001b[1;32mIn [9]\u001b[0m, in \u001b[0;36m<cell line: 1>\u001b[1;34m()\u001b[0m\n\u001b[1;32m----> 1\u001b[0m \u001b[38;5;28mprint\u001b[39m(\u001b[43mEmployee\u001b[49m\u001b[38;5;241;43m.\u001b[39;49m\u001b[43m__employee_count\u001b[49m)\n",
      "\u001b[1;31mAttributeError\u001b[0m: type object 'Employee' has no attribute '__employee_count'"
     ]
    }
   ],
   "source": [
    "print(Employee.__employee_count)"
   ]
  },
  {
   "cell_type": "code",
   "execution_count": 10,
   "id": "f2491f3e",
   "metadata": {
    "ExecuteTime": {
     "end_time": "2022-11-18T14:45:42.756633Z",
     "start_time": "2022-11-18T14:45:42.739636Z"
    }
   },
   "outputs": [
    {
     "name": "stdout",
     "output_type": "stream",
     "text": [
      "Help on class Employee in module __main__:\n",
      "\n",
      "class Employee(builtins.object)\n",
      " |  Employee(firstname, lastname, age, salary)\n",
      " |  \n",
      " |  Methods defined here:\n",
      " |  \n",
      " |  __init__(self, firstname, lastname, age, salary)\n",
      " |      Initialize self.  See help(type(self)) for accurate signature.\n",
      " |  \n",
      " |  printDetails(self)\n",
      " |  \n",
      " |  ----------------------------------------------------------------------\n",
      " |  Data descriptors defined here:\n",
      " |  \n",
      " |  __dict__\n",
      " |      dictionary for instance variables (if defined)\n",
      " |  \n",
      " |  __weakref__\n",
      " |      list of weak references to the object (if defined)\n",
      "\n"
     ]
    }
   ],
   "source": [
    "help(Employee)"
   ]
  },
  {
   "cell_type": "code",
   "execution_count": 12,
   "id": "adf3c204",
   "metadata": {
    "ExecuteTime": {
     "end_time": "2022-11-18T14:49:40.937644Z",
     "start_time": "2022-11-18T14:49:40.928646Z"
    }
   },
   "outputs": [],
   "source": [
    "class Employee:\n",
    "    \n",
    "    __employee_count = 0\n",
    "    \n",
    "    def __init__(self, firstname, lastname, age, salary):\n",
    "        Employee.__employee_count += 1 # Employee.employee_count = Employee.employee_count + 1\n",
    "        self.fn = firstname\n",
    "        self.ln = lastname\n",
    "        self.age = age\n",
    "        self.salary = salary\n",
    "        self.email = '{}_{}@gmail.com'.format(self.fn, self.ln)\n",
    "        \n",
    "        \n",
    "    def printDetails(self):\n",
    "        print(\"Employee Detail: Name: {} {}, Age: {}, Salary: {}, Email: {}\"\\\n",
    "              .format( self.fn, self.ln, self.age, self.salary, self.email))\n",
    "        \n",
    "    def GetEmployeeCount(self):\n",
    "        return self.__employee_count"
   ]
  },
  {
   "cell_type": "code",
   "execution_count": 13,
   "id": "9444257e",
   "metadata": {
    "ExecuteTime": {
     "end_time": "2022-11-18T14:49:54.141707Z",
     "start_time": "2022-11-18T14:49:54.132677Z"
    }
   },
   "outputs": [],
   "source": [
    "e2 = Employee(\"Moin\", \"Dalvi\", 26, 35000)"
   ]
  },
  {
   "cell_type": "code",
   "execution_count": 16,
   "id": "d42a82ea",
   "metadata": {
    "ExecuteTime": {
     "end_time": "2022-11-18T14:50:31.422434Z",
     "start_time": "2022-11-18T14:50:31.386484Z"
    }
   },
   "outputs": [
    {
     "ename": "AttributeError",
     "evalue": "'Employee' object has no attribute '__employee_count'",
     "output_type": "error",
     "traceback": [
      "\u001b[1;31m---------------------------------------------------------------------------\u001b[0m",
      "\u001b[1;31mAttributeError\u001b[0m                            Traceback (most recent call last)",
      "Input \u001b[1;32mIn [16]\u001b[0m, in \u001b[0;36m<cell line: 1>\u001b[1;34m()\u001b[0m\n\u001b[1;32m----> 1\u001b[0m \u001b[38;5;28mprint\u001b[39m(\u001b[43me2\u001b[49m\u001b[38;5;241;43m.\u001b[39;49m\u001b[43m__employee_count\u001b[49m)\n",
      "\u001b[1;31mAttributeError\u001b[0m: 'Employee' object has no attribute '__employee_count'"
     ]
    }
   ],
   "source": [
    "print(e2.__employee_count)"
   ]
  },
  {
   "cell_type": "code",
   "execution_count": 17,
   "id": "3e2d062b",
   "metadata": {
    "ExecuteTime": {
     "end_time": "2022-11-18T14:50:39.822132Z",
     "start_time": "2022-11-18T14:50:39.787125Z"
    }
   },
   "outputs": [
    {
     "ename": "AttributeError",
     "evalue": "type object 'Employee' has no attribute '__employee_count'",
     "output_type": "error",
     "traceback": [
      "\u001b[1;31m---------------------------------------------------------------------------\u001b[0m",
      "\u001b[1;31mAttributeError\u001b[0m                            Traceback (most recent call last)",
      "Input \u001b[1;32mIn [17]\u001b[0m, in \u001b[0;36m<cell line: 1>\u001b[1;34m()\u001b[0m\n\u001b[1;32m----> 1\u001b[0m \u001b[38;5;28mprint\u001b[39m(\u001b[43mEmployee\u001b[49m\u001b[38;5;241;43m.\u001b[39;49m\u001b[43m__employee_count\u001b[49m)\n",
      "\u001b[1;31mAttributeError\u001b[0m: type object 'Employee' has no attribute '__employee_count'"
     ]
    }
   ],
   "source": [
    "print(Employee.__employee_count)"
   ]
  },
  {
   "cell_type": "code",
   "execution_count": 15,
   "id": "3a5cedae",
   "metadata": {
    "ExecuteTime": {
     "end_time": "2022-11-18T14:50:11.190109Z",
     "start_time": "2022-11-18T14:50:11.171072Z"
    }
   },
   "outputs": [
    {
     "name": "stdout",
     "output_type": "stream",
     "text": [
      "1\n"
     ]
    }
   ],
   "source": [
    "print(e2.GetEmployeeCount())"
   ]
  },
  {
   "cell_type": "code",
   "execution_count": 18,
   "id": "9f70ba6c",
   "metadata": {
    "ExecuteTime": {
     "end_time": "2022-11-18T14:50:55.179131Z",
     "start_time": "2022-11-18T14:50:55.149127Z"
    }
   },
   "outputs": [
    {
     "ename": "TypeError",
     "evalue": "GetEmployeeCount() missing 1 required positional argument: 'self'",
     "output_type": "error",
     "traceback": [
      "\u001b[1;31m---------------------------------------------------------------------------\u001b[0m",
      "\u001b[1;31mTypeError\u001b[0m                                 Traceback (most recent call last)",
      "Input \u001b[1;32mIn [18]\u001b[0m, in \u001b[0;36m<cell line: 1>\u001b[1;34m()\u001b[0m\n\u001b[1;32m----> 1\u001b[0m \u001b[38;5;28mprint\u001b[39m(\u001b[43mEmployee\u001b[49m\u001b[38;5;241;43m.\u001b[39;49m\u001b[43mGetEmployeeCount\u001b[49m\u001b[43m(\u001b[49m\u001b[43m)\u001b[49m)\n",
      "\u001b[1;31mTypeError\u001b[0m: GetEmployeeCount() missing 1 required positional argument: 'self'"
     ]
    }
   ],
   "source": [
    "print(Employee.GetEmployeeCount())"
   ]
  },
  {
   "cell_type": "code",
   "execution_count": 24,
   "id": "789276aa",
   "metadata": {
    "ExecuteTime": {
     "end_time": "2022-11-18T14:54:30.872442Z",
     "start_time": "2022-11-18T14:54:30.860450Z"
    }
   },
   "outputs": [],
   "source": [
    "class Employee:\n",
    "    \n",
    "    __employee_count = 0\n",
    "    \n",
    "    def __init__(self, firstname, lastname, age, salary):\n",
    "        Employee.__employee_count += 1 # Employee.employee_count = Employee.employee_count + 1\n",
    "        self.fn = firstname\n",
    "        self.ln = lastname\n",
    "        self.age = age\n",
    "        self.salary = salary\n",
    "        self.email = '{}_{}@gmail.com'.format(self.fn, self.ln)\n",
    "        \n",
    "        \n",
    "    def printDetails(self):\n",
    "        print(\"Employee Detail: Name: {} {}, Age: {}, Salary: {}, Email: {}\"\\\n",
    "              .format( self.fn, self.ln, self.age, self.salary, self.email))\n",
    "     \n",
    "    @classmethod # decorator\n",
    "    def GetEmployeeCount(cls):\n",
    "        return cls.__employee_count"
   ]
  },
  {
   "cell_type": "code",
   "execution_count": 25,
   "id": "519c1008",
   "metadata": {
    "ExecuteTime": {
     "end_time": "2022-11-18T14:54:31.297788Z",
     "start_time": "2022-11-18T14:54:31.291793Z"
    }
   },
   "outputs": [],
   "source": [
    "e2 = Employee(\"Moin\", \"Dalvi\", 26, 35000)"
   ]
  },
  {
   "cell_type": "code",
   "execution_count": 26,
   "id": "9052539b",
   "metadata": {
    "ExecuteTime": {
     "end_time": "2022-11-18T14:54:31.617932Z",
     "start_time": "2022-11-18T14:54:31.573943Z"
    }
   },
   "outputs": [
    {
     "ename": "AttributeError",
     "evalue": "'Employee' object has no attribute '__employee_count'",
     "output_type": "error",
     "traceback": [
      "\u001b[1;31m---------------------------------------------------------------------------\u001b[0m",
      "\u001b[1;31mAttributeError\u001b[0m                            Traceback (most recent call last)",
      "Input \u001b[1;32mIn [26]\u001b[0m, in \u001b[0;36m<cell line: 1>\u001b[1;34m()\u001b[0m\n\u001b[1;32m----> 1\u001b[0m \u001b[38;5;28mprint\u001b[39m(\u001b[43me2\u001b[49m\u001b[38;5;241;43m.\u001b[39;49m\u001b[43m__employee_count\u001b[49m)\n",
      "\u001b[1;31mAttributeError\u001b[0m: 'Employee' object has no attribute '__employee_count'"
     ]
    }
   ],
   "source": [
    "print(e2.__employee_count)"
   ]
  },
  {
   "cell_type": "code",
   "execution_count": 27,
   "id": "4c055948",
   "metadata": {
    "ExecuteTime": {
     "end_time": "2022-11-18T14:54:33.628800Z",
     "start_time": "2022-11-18T14:54:33.595766Z"
    }
   },
   "outputs": [
    {
     "ename": "AttributeError",
     "evalue": "type object 'Employee' has no attribute '__employee_count'",
     "output_type": "error",
     "traceback": [
      "\u001b[1;31m---------------------------------------------------------------------------\u001b[0m",
      "\u001b[1;31mAttributeError\u001b[0m                            Traceback (most recent call last)",
      "Input \u001b[1;32mIn [27]\u001b[0m, in \u001b[0;36m<cell line: 1>\u001b[1;34m()\u001b[0m\n\u001b[1;32m----> 1\u001b[0m \u001b[38;5;28mprint\u001b[39m(\u001b[43mEmployee\u001b[49m\u001b[38;5;241;43m.\u001b[39;49m\u001b[43m__employee_count\u001b[49m)\n",
      "\u001b[1;31mAttributeError\u001b[0m: type object 'Employee' has no attribute '__employee_count'"
     ]
    }
   ],
   "source": [
    "print(Employee.__employee_count)"
   ]
  },
  {
   "cell_type": "code",
   "execution_count": 28,
   "id": "6c6e2bed",
   "metadata": {
    "ExecuteTime": {
     "end_time": "2022-11-18T14:54:34.642771Z",
     "start_time": "2022-11-18T14:54:34.627772Z"
    }
   },
   "outputs": [
    {
     "name": "stdout",
     "output_type": "stream",
     "text": [
      "1\n"
     ]
    }
   ],
   "source": [
    "print(e2.GetEmployeeCount())"
   ]
  },
  {
   "cell_type": "code",
   "execution_count": 29,
   "id": "1c76d0a6",
   "metadata": {
    "ExecuteTime": {
     "end_time": "2022-11-18T14:54:47.990919Z",
     "start_time": "2022-11-18T14:54:47.984930Z"
    }
   },
   "outputs": [
    {
     "name": "stdout",
     "output_type": "stream",
     "text": [
      "1\n"
     ]
    }
   ],
   "source": [
    "print(Employee.GetEmployeeCount())"
   ]
  },
  {
   "cell_type": "code",
   "execution_count": 30,
   "id": "7864a3ee",
   "metadata": {
    "ExecuteTime": {
     "end_time": "2022-11-18T15:09:39.572578Z",
     "start_time": "2022-11-18T15:09:39.554576Z"
    }
   },
   "outputs": [
    {
     "name": "stdout",
     "output_type": "stream",
     "text": [
      "{'__module__': '__main__', '_Employee__employee_count': 1, '__init__': <function Employee.__init__ at 0x00000261CEFFFAF0>, 'printDetails': <function Employee.printDetails at 0x00000261CF3F81F0>, 'GetEmployeeCount': <classmethod object at 0x00000261CE5DB160>, '__dict__': <attribute '__dict__' of 'Employee' objects>, '__weakref__': <attribute '__weakref__' of 'Employee' objects>, '__doc__': None}\n"
     ]
    }
   ],
   "source": [
    "print(Employee.__dict__)"
   ]
  },
  {
   "cell_type": "code",
   "execution_count": 31,
   "id": "788cc41c",
   "metadata": {
    "ExecuteTime": {
     "end_time": "2022-11-18T15:10:33.991756Z",
     "start_time": "2022-11-18T15:10:33.971751Z"
    }
   },
   "outputs": [
    {
     "name": "stdout",
     "output_type": "stream",
     "text": [
      "1\n"
     ]
    }
   ],
   "source": [
    "print(Employee._Employee__employee_count) # Not a recommended way"
   ]
  },
  {
   "cell_type": "code",
   "execution_count": 32,
   "id": "5402a60d",
   "metadata": {
    "ExecuteTime": {
     "end_time": "2022-11-18T15:10:39.713041Z",
     "start_time": "2022-11-18T15:10:39.701000Z"
    }
   },
   "outputs": [
    {
     "name": "stdout",
     "output_type": "stream",
     "text": [
      "1\n"
     ]
    }
   ],
   "source": [
    "print(e2._Employee__employee_count) # Not a recommended way"
   ]
  },
  {
   "cell_type": "code",
   "execution_count": null,
   "id": "e6a9b14d",
   "metadata": {},
   "outputs": [],
   "source": []
  }
 ],
 "metadata": {
  "hide_input": false,
  "kernelspec": {
   "display_name": "Python 3 (ipykernel)",
   "language": "python",
   "name": "python3"
  },
  "language_info": {
   "codemirror_mode": {
    "name": "ipython",
    "version": 3
   },
   "file_extension": ".py",
   "mimetype": "text/x-python",
   "name": "python",
   "nbconvert_exporter": "python",
   "pygments_lexer": "ipython3",
   "version": "3.9.12"
  },
  "toc": {
   "base_numbering": 1,
   "nav_menu": {},
   "number_sections": true,
   "sideBar": true,
   "skip_h1_title": false,
   "title_cell": "Table of Contents",
   "title_sidebar": "Contents",
   "toc_cell": false,
   "toc_position": {},
   "toc_section_display": true,
   "toc_window_display": false
  },
  "varInspector": {
   "cols": {
    "lenName": 16,
    "lenType": 16,
    "lenVar": 40
   },
   "kernels_config": {
    "python": {
     "delete_cmd_postfix": "",
     "delete_cmd_prefix": "del ",
     "library": "var_list.py",
     "varRefreshCmd": "print(var_dic_list())"
    },
    "r": {
     "delete_cmd_postfix": ") ",
     "delete_cmd_prefix": "rm(",
     "library": "var_list.r",
     "varRefreshCmd": "cat(var_dic_list()) "
    }
   },
   "types_to_exclude": [
    "module",
    "function",
    "builtin_function_or_method",
    "instance",
    "_Feature"
   ],
   "window_display": false
  }
 },
 "nbformat": 4,
 "nbformat_minor": 5
}
