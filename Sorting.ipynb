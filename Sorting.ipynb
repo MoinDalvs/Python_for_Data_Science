{
 "cells": [
  {
   "cell_type": "markdown",
   "id": "3c566057",
   "metadata": {},
   "source": [
    "# Sorting - List"
   ]
  },
  {
   "cell_type": "code",
   "execution_count": 21,
   "id": "442a0a28",
   "metadata": {
    "ExecuteTime": {
     "end_time": "2022-11-18T17:07:55.713777Z",
     "start_time": "2022-11-18T17:07:55.701743Z"
    }
   },
   "outputs": [],
   "source": [
    "li = [9, 1, 8, 2, 7, 3, 6, 4, 5]"
   ]
  },
  {
   "cell_type": "code",
   "execution_count": 22,
   "id": "8ff04339",
   "metadata": {
    "ExecuteTime": {
     "end_time": "2022-11-18T17:07:55.964429Z",
     "start_time": "2022-11-18T17:07:55.950431Z"
    }
   },
   "outputs": [],
   "source": [
    "si_li = sorted(li) # Non - inplace sorting"
   ]
  },
  {
   "cell_type": "code",
   "execution_count": 23,
   "id": "45d711ab",
   "metadata": {
    "ExecuteTime": {
     "end_time": "2022-11-18T17:07:56.279131Z",
     "start_time": "2022-11-18T17:07:56.270140Z"
    }
   },
   "outputs": [
    {
     "name": "stdout",
     "output_type": "stream",
     "text": [
      "Original List :  [9, 1, 8, 2, 7, 3, 6, 4, 5] \n",
      "Sorted List   :  [1, 2, 3, 4, 5, 6, 7, 8, 9]\n"
     ]
    }
   ],
   "source": [
    "print( \"Original List : \",li,\"\\nSorted List   : \", si_li)"
   ]
  },
  {
   "cell_type": "code",
   "execution_count": 24,
   "id": "92efe241",
   "metadata": {
    "ExecuteTime": {
     "end_time": "2022-11-18T17:08:20.529716Z",
     "start_time": "2022-11-18T17:08:20.514042Z"
    }
   },
   "outputs": [
    {
     "name": "stdout",
     "output_type": "stream",
     "text": [
      "Sorting using list.sort method --- Inplace sorting \n",
      "Orginal List:  [1, 2, 3, 4, 5, 6, 7, 8, 9]\n"
     ]
    }
   ],
   "source": [
    "li.sort()\n",
    "print(\"Sorting using list.sort method --- Inplace sorting\",\\\n",
    "     \"\\nOrginal List: \", li)"
   ]
  },
  {
   "cell_type": "code",
   "execution_count": 25,
   "id": "d4d10156",
   "metadata": {
    "ExecuteTime": {
     "end_time": "2022-11-18T17:10:38.895040Z",
     "start_time": "2022-11-18T17:10:38.883998Z"
    }
   },
   "outputs": [
    {
     "name": "stdout",
     "output_type": "stream",
     "text": [
      "Sorting using list.sort method --- Inplace sorting \n",
      "Orginal List:  [9, 8, 7, 6, 5, 4, 3, 2, 1]\n"
     ]
    }
   ],
   "source": [
    "li.sort(reverse=True)\n",
    "print(\"Sorting using list.sort method --- Inplace sorting\",\\\n",
    "     \"\\nOrginal List: \", li)"
   ]
  },
  {
   "cell_type": "code",
   "execution_count": 27,
   "id": "3640cee4",
   "metadata": {
    "ExecuteTime": {
     "end_time": "2022-11-18T17:11:33.546082Z",
     "start_time": "2022-11-18T17:11:33.530429Z"
    }
   },
   "outputs": [
    {
     "name": "stdout",
     "output_type": "stream",
     "text": [
      "Original List :  [9, 1, 8, 2, 7, 3, 6, 4, 5] \n",
      "Sorted List   :  [9, 8, 7, 6, 5, 4, 3, 2, 1]\n"
     ]
    }
   ],
   "source": [
    "li = [9, 1, 8, 2, 7, 3, 6, 4, 5]\n",
    "si_li = sorted(li, reverse=True)\n",
    "print( \"Original List : \",li,\"\\nSorted List   : \", si_li)"
   ]
  },
  {
   "cell_type": "markdown",
   "id": "e59e6480",
   "metadata": {},
   "source": [
    "# Sorting - Tuple"
   ]
  },
  {
   "cell_type": "code",
   "execution_count": 30,
   "id": "2e6ef92f",
   "metadata": {
    "ExecuteTime": {
     "end_time": "2022-11-18T17:13:27.710500Z",
     "start_time": "2022-11-18T17:13:27.700459Z"
    }
   },
   "outputs": [
    {
     "name": "stdout",
     "output_type": "stream",
     "text": [
      "Original Tuple:  (9, 1, 8, 2, 7, 3, 6, 4, 5) \n",
      "Sorted Tuple into list:  [1, 2, 3, 4, 5, 6, 7, 8, 9] \n",
      "Sorted Tuple:  (1, 2, 3, 4, 5, 6, 7, 8, 9)\n"
     ]
    }
   ],
   "source": [
    "t = (9, 1, 8, 2, 7, 3, 6, 4, 5)\n",
    "\n",
    "s_li = sorted(t)\n",
    "\n",
    "print(\"Original Tuple: \", t,\\\n",
    "     \"\\nSorted Tuple into list: \", s_li,\\\n",
    "     \"\\nSorted Tuple: \", tuple(s_li))\n",
    "\n",
    "# There is no In-place sorting for tuple because of its immutability"
   ]
  },
  {
   "cell_type": "code",
   "execution_count": 33,
   "id": "943fa2ce",
   "metadata": {
    "ExecuteTime": {
     "end_time": "2022-11-18T17:14:38.947041Z",
     "start_time": "2022-11-18T17:14:38.931411Z"
    }
   },
   "outputs": [
    {
     "data": {
      "text/plain": [
       "(1, 2, 3, 4, 5, 6, 7, 8, 9)"
      ]
     },
     "execution_count": 33,
     "metadata": {},
     "output_type": "execute_result"
    }
   ],
   "source": [
    "tuple(sorted((9, 1, 8, 2, 7, 3, 6, 4, 5)))"
   ]
  },
  {
   "cell_type": "markdown",
   "id": "570b7374",
   "metadata": {},
   "source": [
    "# Sorting - Dictionary"
   ]
  },
  {
   "cell_type": "code",
   "execution_count": 35,
   "id": "2f1e5d94",
   "metadata": {
    "ExecuteTime": {
     "end_time": "2022-11-18T17:22:34.225699Z",
     "start_time": "2022-11-18T17:22:34.213719Z"
    }
   },
   "outputs": [
    {
     "name": "stdout",
     "output_type": "stream",
     "text": [
      "Original Dict       :  {'A': 1, 'D': 4, 'B': 2, 'C': 3} \n",
      "Sorted dict(keys)   :  ['A', 'B', 'C', 'D'] \n",
      "Sorted dict(values) :  [1, 2, 3, 4]\n"
     ]
    }
   ],
   "source": [
    "# Sorting on Dictionaries\n",
    "d = {'A': 1, 'D': 4, 'B': 2, 'C': 3}\n",
    "\n",
    "s_d = sorted(d)\n",
    "s_d_values = sorted(d.values())\n",
    "\n",
    "print('Original Dict       : ', d,\\\n",
    "      '\\nSorted dict(keys)   : ', s_d,\\\n",
    "      '\\nSorted dict(values) : ', s_d_values)\n",
    "      "
   ]
  },
  {
   "cell_type": "markdown",
   "id": "578e1145",
   "metadata": {},
   "source": [
    "# Sorting - Keys"
   ]
  },
  {
   "cell_type": "code",
   "execution_count": 37,
   "id": "1a400a6f",
   "metadata": {
    "ExecuteTime": {
     "end_time": "2022-11-18T17:45:37.335981Z",
     "start_time": "2022-11-18T17:45:37.325977Z"
    }
   },
   "outputs": [
    {
     "name": "stdout",
     "output_type": "stream",
     "text": [
      "Original list   :  [-9, 1, 8, 2, -7, 3, 6, -4, 5] \n",
      "Sorted list(abs) :  [1, 2, 3, -4, 5, 6, -7, 8, -9]\n"
     ]
    }
   ],
   "source": [
    "# Sorting based on keys\n",
    "li = [-9, 1, 8, 2, -7, 3, 6, -4, 5]\n",
    "si_li = sorted(li, key=abs)\n",
    "\n",
    "print('Original list   : ', li,\\\n",
    "     '\\nSorted list(abs) : ', si_li)"
   ]
  },
  {
   "cell_type": "code",
   "execution_count": null,
   "id": "95d26684",
   "metadata": {},
   "outputs": [],
   "source": []
  }
 ],
 "metadata": {
  "hide_input": false,
  "kernelspec": {
   "display_name": "Python 3 (ipykernel)",
   "language": "python",
   "name": "python3"
  },
  "language_info": {
   "codemirror_mode": {
    "name": "ipython",
    "version": 3
   },
   "file_extension": ".py",
   "mimetype": "text/x-python",
   "name": "python",
   "nbconvert_exporter": "python",
   "pygments_lexer": "ipython3",
   "version": "3.9.12"
  },
  "toc": {
   "base_numbering": 1,
   "nav_menu": {},
   "number_sections": true,
   "sideBar": true,
   "skip_h1_title": false,
   "title_cell": "Table of Contents",
   "title_sidebar": "Contents",
   "toc_cell": false,
   "toc_position": {},
   "toc_section_display": true,
   "toc_window_display": false
  },
  "varInspector": {
   "cols": {
    "lenName": 16,
    "lenType": 16,
    "lenVar": 40
   },
   "kernels_config": {
    "python": {
     "delete_cmd_postfix": "",
     "delete_cmd_prefix": "del ",
     "library": "var_list.py",
     "varRefreshCmd": "print(var_dic_list())"
    },
    "r": {
     "delete_cmd_postfix": ") ",
     "delete_cmd_prefix": "rm(",
     "library": "var_list.r",
     "varRefreshCmd": "cat(var_dic_list()) "
    }
   },
   "types_to_exclude": [
    "module",
    "function",
    "builtin_function_or_method",
    "instance",
    "_Feature"
   ],
   "window_display": false
  }
 },
 "nbformat": 4,
 "nbformat_minor": 5
}
